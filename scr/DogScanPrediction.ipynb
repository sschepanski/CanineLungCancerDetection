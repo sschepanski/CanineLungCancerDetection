{
 "cells": [
  {
   "cell_type": "markdown",
   "metadata": {},
   "source": [
    "# Table of Content"
   ]
  },
  {
   "cell_type": "markdown",
   "metadata": {},
   "source": [
    "- [Table of Content](#table-of-content)\n",
    "- [0-General](#0-general)\n",
    "  - [0-Introduction](#0-introduction)\n",
    "  - [0-Objective](#0-objective)\n",
    "  - [0-Analysis](#0-analysis)\n",
    "  - [0-Data Dictionary](#0-data-dictionary)\n",
    "  - [0-Acknowledgements](#0-acknowledgements)\n"
   ]
  },
  {
   "cell_type": "markdown",
   "metadata": {},
   "source": [
    "# 0-General\n",
    "[Back to Table of Content](#table-of-content)\n",
    "## Evaluating the Feasibility of Using Trained Dogs to Detect Lung Cancer from Patient-Worn Masks: A Comprehensive Analysis of Detection Accuracy and Influencing Factors"
   ]
  },
  {
   "cell_type": "markdown",
   "metadata": {},
   "source": [
    "## 0-Introduction\n",
    "[Back to Table of Content](#table-of-content)\n",
    "\n",
    "This project aims to explore the use of trained dogs as a potential early diagnostic tool for detecting lung cancer. Specifically, the study investigates whether dogs, trained to recognize lung cancer biomarkers through smell, can reliably detect the disease from masks worn by patients. The use of non-invasive, low-cost detection methods could revolutionize lung cancer screening, particularly for early-stage detection where symptoms are minimal and traditional methods may fall short. Alongside the primary objective, various experimental approaches will assess other factors that might influence detection, such as mask storage conditions, distance between masks during trials, and wearing duration."
   ]
  },
  {
   "cell_type": "markdown",
   "metadata": {},
   "source": [
    "## 0-Objective\n",
    "[Back to Table of Content](#table-of-content)\n",
    "\n",
    "Primary Objective:\n",
    "To evaluate whether trained dogs can reliably detect lung cancer from patient-worn masks, which could serve as a tool for early diagnosis. The study will analyze the accuracy of the dogs' detection and their ability to differentiate between masks worn by lung cancer patients and healthy individuals.\n",
    "\n",
    "Secondary Objectives:\n",
    "To assess the impact of several variables on detection accuracy, including: \n",
    "1) Distance between masks during detection trials.\n",
    "2) Storage temperature of masks prior to the test.\n",
    "3) Duration for which masks are stored.\n",
    "4) Duration for which the mask was worn."
   ]
  },
  {
   "cell_type": "markdown",
   "metadata": {},
   "source": [
    "## 0-Analysis\n",
    "[Back to Table of Content](#table-of-content)\n",
    "\n",
    "### Step 1: Real-World Data Analysis\n",
    "### ***Objective: Evaluate how well the dogs performed during actual diagnostic trials.***\n",
    "\n",
    "Sub-Steps for Step 1:\n",
    "\n",
    "**1.1. Exploratory Data Analysis (EDA):**\n",
    "\n",
    "Data Overview:\n",
    "1) Summary statistics of the main outcome variables: detection results (e.g., true positive, true negative, false positive, false negative).\n",
    "2) Identification of potential confounders: Was detection performance affected by external variables such as the dog handler, environment, or dog mood?\n",
    "3) Missing Data Exploration: Evaluate patterns of missingness (e.g., customer mask or control mask data). Use multiple imputation if missing data are substantial or imputation may lead to bias.\n",
    "\n",
    "**1.2. Descriptive Analysis and Visualizations:**\n",
    "\n",
    "1) Confusion Matrix Construction: Create confusion matrices to calculate the sensitivity, specificity, positive predictive value (PPV), and negative predictive value (NPV) for each dog and for the overall group.\n",
    "\n",
    "2) Stratified Performance: Stratify performance across different conditions (e.g., mood of the handler, dog fatigue, or environmental factors). Investigate if certain dogs performed better or worse under specific conditions.\n",
    "\n",
    "**1.3. Statistical Hypothesis Testing:**\n",
    "\n",
    "1) Logistic Regression for Detection Outcome: A logistic regression model can be used to examine how the binary outcome (detection/no detection) relates to factors like dog-specific characteristics, mood, and environment.\n",
    "\n",
    "**1.4. Machine Learning Approaches:**\n",
    "\n",
    "1) Random Forest or XGBoost: Apply a machine learning model (e.g., Random Forest or XGBoost) to predict detection outcomes based on multiple features. Feature importance analysis could reveal which factors (e.g., temperature, mood, dog) are most predictive of successful detection.\n",
    "\n",
    "2) ROC Curve and AUC Calculation: For machine learning models, assess the model’s ability to differentiate between positive and negative outcomes by calculating the area under the ROC curve (AUC). This will provide insights into the discriminatory power of the dogs.\n",
    "______________________________________________________________________________________________________________\n",
    "\n",
    "\n",
    "### Step 2: Training Data Analysis\n",
    "### ***Objective: Compare the dogs' performance during training with their performance during the real-world diagnostic trials to assess if their training adequately prepared them for actual detection tasks.***\n",
    "\n",
    "Sub-Steps for Step 2:\n",
    "\n",
    "**2.1. Exploratory Data Analysis (EDA):**\n",
    "\n",
    "1) Chronological Performance Trend Analysis: Plot detection accuracy over time during training to assess improvement or plateaus. Use smoothing techniques (e.g., LOESS curves) to visualize the learning curve.\n",
    "\n",
    "**2.2. Statistical Comparison:**\n",
    "\n",
    "1) Paired t-test or Wilcoxon Signed-Rank Test: Perform a paired t-test (or non-parametric Wilcoxon signed-rank test if the data is not normally distributed) to compare the dogs' accuracy during training vs. real-world trials. This will test whether there was a statistically significant difference between training and actual performance.\n",
    "\n",
    "2) Logistic Regression for Improvement: Fit a logistic regression model to evaluate if the probability of correct detection significantly improved from early training stages to later stages. Adjust for covariates such as environmental conditions or dog fatigue.\n",
    "\n",
    "**2.3. Error Rate Analysis:**\n",
    "\n",
    "1) False Positive and False Negative Rate Comparison: Evaluate the type of errors made during training (false positives and false negatives) and compare these rates with the real-world performance. This will help identify if any systematic issues were present in training.\n",
    "\n",
    "**2.4. Machine Learning Approaches:**\n",
    "\n",
    "1) Model Performance Comparison: Build a machine learning model (e.g., XGBoost) using training data and compare its performance to the real-world model. This comparison can help reveal any overfitting to training data and assess generalization performance.\n",
    "______________________________________________________________________________________________________________\n",
    "\n",
    "\n",
    "### Step 3: Experimental Approaches\n",
    "### ***Objective: Evaluate how different experimental factors (storage temperature, mask distance, mask-wearing duration) affect the dogs' detection accuracy.***\n",
    "\n",
    "Sub-Steps for Step 3:\n",
    "\n",
    "**3.1. EDA for Experimental Variables:**\n",
    "\n",
    "1) Visualize the Distribution of Experimental Variables: Create histograms, boxplots, and scatterplots for each experimental variable (e.g., temperature, storage time, distance) to understand their distribution.\n",
    "\n",
    "2) Correlation Matrix: Create a correlation matrix to examine if any of the experimental variables are correlated with detection performance. This will help determine if multicollinearity exists between the factors.\n",
    "\n",
    "**3.2. Statistical Modeling:**\n",
    "\n",
    "1) Multivariate Logistic Regression: Fit a logistic regression model to examine the relationship between the binary detection outcome (correct detection or not) and the experimental variables (storage temperature, mask distance, storage duration). Adjust for other covariates (e.g., dog-specific effects) to isolate the effect of each experimental condition.\n",
    "\n",
    "2) Generalized Linear Mixed Models (GLMM): If data is clustered (e.g., by dog or trial), use a mixed model that includes random effects to account for within-dog correlation and repeated measures.\n",
    "\n",
    "**3.3. Interaction Analysis:**\n",
    "\n",
    "1) Interaction Terms in Regression Models: Include interaction terms in the logistic regression models to explore if certain combinations of experimental conditions (e.g., high temperature and long storage time) have a greater impact on detection performance than individual conditions alone.\n",
    "\n",
    "**3.4. Post-Hoc Analysis:**\n",
    "\n",
    "1) ANOVA (for Normally Distributed Data): Perform ANOVA to test if there are statistically significant differences in detection accuracy across levels of each experimental factor (e.g., different storage temperatures).\n",
    "\n",
    "2) Post-Hoc Tests (e.g., Tukey’s HSD): If ANOVA shows significant differences, use post-hoc tests like Tukey’s HSD to identify which specific groups (e.g., temperature ranges or storage durations) are driving the effect.\n",
    "\n",
    "**3.5. Machine Learning Approaches:**\n",
    "\n",
    "1) Feature Importance Analysis (XGBoost or Random Forest): Train a machine learning model to predict detection accuracy based on the experimental variables. The feature importance scores from these models will provide insights into which factors are most influential in predicting detection success."
   ]
  },
  {
   "cell_type": "markdown",
   "metadata": {},
   "source": [
    "## 0-Data Dictionary\n",
    "[Back to Table of Content](#table-of-content)\n"
   ]
  },
  {
   "cell_type": "markdown",
   "metadata": {},
   "source": [
    "## 0-Acknowledgements\n",
    "[Back to Table of Content](#table-of-content)\n",
    "\n",
    "XXX"
   ]
  },
  {
   "cell_type": "markdown",
   "metadata": {},
   "source": [
    "## 1-Beginnings\n",
    "[Back to Table of Content](#table-of-content)\n"
   ]
  },
  {
   "cell_type": "code",
   "execution_count": 1,
   "metadata": {
    "vscode": {
     "languageId": "r"
    }
   },
   "outputs": [],
   "source": [
    "# List of packages\n",
    "packages <- c(\"dplyr\", \"ggplot2\", \"readr\", \"naniar\", \"mice\", \"gridExtra\")"
   ]
  },
  {
   "cell_type": "code",
   "execution_count": 2,
   "metadata": {
    "vscode": {
     "languageId": "r"
    }
   },
   "outputs": [
    {
     "name": "stderr",
     "output_type": "stream",
     "text": [
      "\n",
      "Attaching package: 'dplyr'\n",
      "\n",
      "\n",
      "The following objects are masked from 'package:stats':\n",
      "\n",
      "    filter, lag\n",
      "\n",
      "\n",
      "The following objects are masked from 'package:base':\n",
      "\n",
      "    intersect, setdiff, setequal, union\n",
      "\n",
      "\n",
      "\n",
      "Attaching package: 'mice'\n",
      "\n",
      "\n",
      "The following object is masked from 'package:stats':\n",
      "\n",
      "    filter\n",
      "\n",
      "\n",
      "The following objects are masked from 'package:base':\n",
      "\n",
      "    cbind, rbind\n",
      "\n",
      "\n"
     ]
    }
   ],
   "source": [
    "# Install packages\n",
    "install.packages(setdiff(packages, rownames(installed.packages())))\n",
    "\n",
    "# Load packages without printing\n",
    "invisible(lapply(packages, library, character.only = TRUE))"
   ]
  },
  {
   "cell_type": "code",
   "execution_count": 3,
   "metadata": {
    "vscode": {
     "languageId": "r"
    }
   },
   "outputs": [],
   "source": [
    "# define path we are working in\n",
    "path <- \"/Users/stevenschepanski/Documents/04_ANALYSIS/DogScan\""
   ]
  },
  {
   "cell_type": "code",
   "execution_count": 4,
   "metadata": {
    "vscode": {
     "languageId": "r"
    }
   },
   "outputs": [
    {
     "name": "stderr",
     "output_type": "stream",
     "text": [
      "\u001b[1mRows: \u001b[22m\u001b[34m360\u001b[39m \u001b[1mColumns: \u001b[22m\u001b[34m35\u001b[39m\n",
      "\u001b[36m--\u001b[39m \u001b[1mColumn specification\u001b[22m \u001b[36m--------------------------------------------------------\u001b[39m\n",
      "\u001b[1mDelimiter:\u001b[22m \",\"\n",
      "\u001b[31mchr\u001b[39m  (26): weather, supervisor, random_positive_board_numbers, random_negati...\n",
      "\u001b[32mdbl\u001b[39m   (7): setup_id, number_of_boards, max_positive_random, random_positive_...\n",
      "\u001b[34mdate\u001b[39m  (2): date, mask_worn_on\n",
      "\n",
      "\u001b[36mi\u001b[39m Use `spec()` to retrieve the full column specification for this data.\n",
      "\u001b[36mi\u001b[39m Specify the column types or set `show_col_types = FALSE` to quiet this message.\n"
     ]
    }
   ],
   "source": [
    "# Load dataset\n",
    "arbeitstagebuch <- read_csv(paste0(path, \"/data/merged_arbeitstagebuch.csv\"))"
   ]
  },
  {
   "cell_type": "markdown",
   "metadata": {},
   "source": [
    "# 1-Data Overview\n",
    "[Back to Table of Content](#table-of-content)"
   ]
  },
  {
   "cell_type": "code",
   "execution_count": 5,
   "metadata": {
    "vscode": {
     "languageId": "r"
    }
   },
   "outputs": [
    {
     "name": "stdout",
     "output_type": "stream",
     "text": [
      "spc_tbl_ [360 x 35] (S3: spec_tbl_df/tbl_df/tbl/data.frame)\n",
      " $ setup_id                     : num [1:360] 1 1 1 1 1 1 1 1 1 1 ...\n",
      " $ date                         : Date[1:360], format: \"2024-05-17\" \"2024-05-17\" ...\n",
      " $ weather                      : chr [1:360] \"bewlkt\" \"bewlkt\" \"bewlkt\" \"bewlkt\" ...\n",
      " $ supervisor                   : chr [1:360] \"C. W.\" \"C. W.\" \"C. W.\" \"C. W.\" ...\n",
      " $ number_of_boards             : num [1:360] 100 100 100 100 100 100 100 100 100 100 ...\n",
      " $ max_positive_random          : num [1:360] 10 10 10 10 10 10 10 10 10 10 ...\n",
      " $ random_positive_count        : num [1:360] 4 4 4 4 4 4 4 4 4 4 ...\n",
      " $ random_positive_board_numbers: chr [1:360] \"5,  76, 61, 85\" \"5,  76, 61, 85\" \"5,  76, 61, 85\" \"5,  76, 61, 85\" ...\n",
      " $ max_negative_random          : num [1:360] 10 10 10 10 10 10 10 10 10 10 ...\n",
      " $ random_negative_count        : num [1:360] 1 1 1 1 1 1 1 1 1 1 ...\n",
      " $ random_negative_board_numbers: chr [1:360] \"44\" \"44\" \"44\" \"44\" ...\n",
      " $ handler_1                    : chr [1:360] \"A. M.\" \"A. M.\" \"A. M.\" \"A. M.\" ...\n",
      " $ handler_1_mood               : chr [1:360] \"ausgeglichen\" \"ausgeglichen\" \"ausgeglichen\" \"ausgeglichen\" ...\n",
      " $ handler_2                    : chr [1:360] \"F. W.\" \"F. W.\" \"F. W.\" \"F. W.\" ...\n",
      " $ handler_2_mood               : chr [1:360] \"muede\" \"muede\" \"muede\" \"muede\" ...\n",
      " $ handler_3                    : chr [1:360] \"F. F.\" \"F. F.\" \"F. F.\" \"F. F.\" ...\n",
      " $ handler_3_mood               : chr [1:360] \"muede\" \"muede\" \"muede\" \"muede\" ...\n",
      " $ dog_1                        : chr [1:360] \"Lu\" \"Lu\" \"Lu\" \"Lu\" ...\n",
      " $ dog_1_mood                   : chr [1:360] \"muede\" \"muede\" \"muede\" \"muede\" ...\n",
      " $ dog_2                        : chr [1:360] \"Aaron\" \"Aaron\" \"Aaron\" \"Aaron\" ...\n",
      " $ dog_2_mood                   : chr [1:360] \"ausgeglichen\" \"ausgeglichen\" \"ausgeglichen\" \"ausgeglichen\" ...\n",
      " $ dog_3                        : chr [1:360] \"Loki\" \"Loki\" \"Loki\" \"Loki\" ...\n",
      " $ dog_3_mood                   : chr [1:360] \"ausgeglichen\" \"ausgeglichen\" \"ausgeglichen\" \"ausgeglichen\" ...\n",
      " $ dog_4                        : chr [1:360] \"Aki\" \"Aki\" \"Aki\" \"Aki\" ...\n",
      " $ dog_4_mood                   : chr [1:360] \"ausgeglichen\" \"ausgeglichen\" \"ausgeglichen\" \"ausgeglichen\" ...\n",
      " $ dog_5                        : chr [1:360] \"Biest\" \"Biest\" \"Biest\" \"Biest\" ...\n",
      " $ dog_5_mood                   : chr [1:360] \"ausgeglichen\" \"ausgeglichen\" \"ausgeglichen\" \"ausgeglichen\" ...\n",
      " $ board_number                 : num [1:360] 5 5 5 5 5 76 76 76 76 76 ...\n",
      " $ dog                          : chr [1:360] \"Lu\" \"Aaron\" \"Loki\" \"Aki\" ...\n",
      " $ random_hit_mask              : chr [1:360] \"Ja\" \"Ja\" \"Ja\" \"Ja\" ...\n",
      " $ subject                      : chr [1:360] \"L. K.\" \"L. K.\" \"L. K.\" \"L. K.\" ...\n",
      " $ mask_worn_on                 : Date[1:360], format: \"2024-05-01\" \"2024-05-01\" ...\n",
      " $ customer_mask                : chr [1:360] NA NA NA NA ...\n",
      " $ control_mask                 : chr [1:360] NA NA NA NA ...\n",
      " $ control_mask_indicated       : chr [1:360] NA NA NA NA ...\n",
      " - attr(*, \"spec\")=\n",
      "  .. cols(\n",
      "  ..   setup_id = \u001b[32mcol_double()\u001b[39m,\n",
      "  ..   date = \u001b[34mcol_date(format = \"\")\u001b[39m,\n",
      "  ..   weather = \u001b[31mcol_character()\u001b[39m,\n",
      "  ..   supervisor = \u001b[31mcol_character()\u001b[39m,\n",
      "  ..   number_of_boards = \u001b[32mcol_double()\u001b[39m,\n",
      "  ..   max_positive_random = \u001b[32mcol_double()\u001b[39m,\n",
      "  ..   random_positive_count = \u001b[32mcol_double()\u001b[39m,\n",
      "  ..   random_positive_board_numbers = \u001b[31mcol_character()\u001b[39m,\n",
      "  ..   max_negative_random = \u001b[32mcol_double()\u001b[39m,\n",
      "  ..   random_negative_count = \u001b[32mcol_double()\u001b[39m,\n",
      "  ..   random_negative_board_numbers = \u001b[31mcol_character()\u001b[39m,\n",
      "  ..   handler_1 = \u001b[31mcol_character()\u001b[39m,\n",
      "  ..   handler_1_mood = \u001b[31mcol_character()\u001b[39m,\n",
      "  ..   handler_2 = \u001b[31mcol_character()\u001b[39m,\n",
      "  ..   handler_2_mood = \u001b[31mcol_character()\u001b[39m,\n",
      "  ..   handler_3 = \u001b[31mcol_character()\u001b[39m,\n",
      "  ..   handler_3_mood = \u001b[31mcol_character()\u001b[39m,\n",
      "  ..   dog_1 = \u001b[31mcol_character()\u001b[39m,\n",
      "  ..   dog_1_mood = \u001b[31mcol_character()\u001b[39m,\n",
      "  ..   dog_2 = \u001b[31mcol_character()\u001b[39m,\n",
      "  ..   dog_2_mood = \u001b[31mcol_character()\u001b[39m,\n",
      "  ..   dog_3 = \u001b[31mcol_character()\u001b[39m,\n",
      "  ..   dog_3_mood = \u001b[31mcol_character()\u001b[39m,\n",
      "  ..   dog_4 = \u001b[31mcol_character()\u001b[39m,\n",
      "  ..   dog_4_mood = \u001b[31mcol_character()\u001b[39m,\n",
      "  ..   dog_5 = \u001b[31mcol_character()\u001b[39m,\n",
      "  ..   dog_5_mood = \u001b[31mcol_character()\u001b[39m,\n",
      "  ..   board_number = \u001b[32mcol_double()\u001b[39m,\n",
      "  ..   dog = \u001b[31mcol_character()\u001b[39m,\n",
      "  ..   random_hit_mask = \u001b[31mcol_character()\u001b[39m,\n",
      "  ..   subject = \u001b[31mcol_character()\u001b[39m,\n",
      "  ..   mask_worn_on = \u001b[34mcol_date(format = \"\")\u001b[39m,\n",
      "  ..   customer_mask = \u001b[31mcol_character()\u001b[39m,\n",
      "  ..   control_mask = \u001b[31mcol_character()\u001b[39m,\n",
      "  ..   control_mask_indicated = \u001b[31mcol_character()\u001b[39m\n",
      "  .. )\n",
      " - attr(*, \"problems\")=<externalptr> \n"
     ]
    }
   ],
   "source": [
    "str(arbeitstagebuch)"
   ]
  },
  {
   "cell_type": "code",
   "execution_count": 6,
   "metadata": {
    "vscode": {
     "languageId": "r"
    }
   },
   "outputs": [
    {
     "data": {
      "text/html": [
       "<table class=\"dataframe\">\n",
       "<caption>A tibble: 6 x 35</caption>\n",
       "<thead>\n",
       "\t<tr><th scope=col>setup_id</th><th scope=col>date</th><th scope=col>weather</th><th scope=col>supervisor</th><th scope=col>number_of_boards</th><th scope=col>max_positive_random</th><th scope=col>random_positive_count</th><th scope=col>random_positive_board_numbers</th><th scope=col>max_negative_random</th><th scope=col>random_negative_count</th><th scope=col>...</th><th scope=col>dog_5</th><th scope=col>dog_5_mood</th><th scope=col>board_number</th><th scope=col>dog</th><th scope=col>random_hit_mask</th><th scope=col>subject</th><th scope=col>mask_worn_on</th><th scope=col>customer_mask</th><th scope=col>control_mask</th><th scope=col>control_mask_indicated</th></tr>\n",
       "\t<tr><th scope=col>&lt;dbl&gt;</th><th scope=col>&lt;date&gt;</th><th scope=col>&lt;chr&gt;</th><th scope=col>&lt;chr&gt;</th><th scope=col>&lt;dbl&gt;</th><th scope=col>&lt;dbl&gt;</th><th scope=col>&lt;dbl&gt;</th><th scope=col>&lt;chr&gt;</th><th scope=col>&lt;dbl&gt;</th><th scope=col>&lt;dbl&gt;</th><th scope=col>...</th><th scope=col>&lt;chr&gt;</th><th scope=col>&lt;chr&gt;</th><th scope=col>&lt;dbl&gt;</th><th scope=col>&lt;chr&gt;</th><th scope=col>&lt;chr&gt;</th><th scope=col>&lt;chr&gt;</th><th scope=col>&lt;date&gt;</th><th scope=col>&lt;chr&gt;</th><th scope=col>&lt;chr&gt;</th><th scope=col>&lt;chr&gt;</th></tr>\n",
       "</thead>\n",
       "<tbody>\n",
       "\t<tr><td>1</td><td>2024-05-17</td><td>bewlkt</td><td>C. W.</td><td>100</td><td>10</td><td>4</td><td>5,  76, 61, 85</td><td>10</td><td>1</td><td>...</td><td>Biest</td><td>ausgeglichen</td><td> 5</td><td>Lu   </td><td>Ja</td><td>L. K.</td><td>2024-05-01</td><td>NA</td><td>NA</td><td>NA</td></tr>\n",
       "\t<tr><td>1</td><td>2024-05-17</td><td>bewlkt</td><td>C. W.</td><td>100</td><td>10</td><td>4</td><td>5,  76, 61, 85</td><td>10</td><td>1</td><td>...</td><td>Biest</td><td>ausgeglichen</td><td> 5</td><td>Aaron</td><td>Ja</td><td>L. K.</td><td>2024-05-01</td><td>NA</td><td>NA</td><td>NA</td></tr>\n",
       "\t<tr><td>1</td><td>2024-05-17</td><td>bewlkt</td><td>C. W.</td><td>100</td><td>10</td><td>4</td><td>5,  76, 61, 85</td><td>10</td><td>1</td><td>...</td><td>Biest</td><td>ausgeglichen</td><td> 5</td><td>Loki </td><td>Ja</td><td>L. K.</td><td>2024-05-01</td><td>NA</td><td>NA</td><td>NA</td></tr>\n",
       "\t<tr><td>1</td><td>2024-05-17</td><td>bewlkt</td><td>C. W.</td><td>100</td><td>10</td><td>4</td><td>5,  76, 61, 85</td><td>10</td><td>1</td><td>...</td><td>Biest</td><td>ausgeglichen</td><td> 5</td><td>Aki  </td><td>Ja</td><td>L. K.</td><td>2024-05-01</td><td>NA</td><td>NA</td><td>NA</td></tr>\n",
       "\t<tr><td>1</td><td>2024-05-17</td><td>bewlkt</td><td>C. W.</td><td>100</td><td>10</td><td>4</td><td>5,  76, 61, 85</td><td>10</td><td>1</td><td>...</td><td>Biest</td><td>ausgeglichen</td><td> 5</td><td>Biest</td><td>Ja</td><td>L. K.</td><td>2024-05-01</td><td>NA</td><td>NA</td><td>NA</td></tr>\n",
       "\t<tr><td>1</td><td>2024-05-17</td><td>bewlkt</td><td>C. W.</td><td>100</td><td>10</td><td>4</td><td>5,  76, 61, 85</td><td>10</td><td>1</td><td>...</td><td>Biest</td><td>ausgeglichen</td><td>76</td><td>Aaron</td><td>Ja</td><td>H. O.</td><td>2024-05-12</td><td>NA</td><td>NA</td><td>NA</td></tr>\n",
       "</tbody>\n",
       "</table>\n"
      ],
      "text/latex": [
       "A tibble: 6 x 35\n",
       "\\begin{tabular}{lllllllllllllllllllll}\n",
       " setup\\_id & date & weather & supervisor & number\\_of\\_boards & max\\_positive\\_random & random\\_positive\\_count & random\\_positive\\_board\\_numbers & max\\_negative\\_random & random\\_negative\\_count & ... & dog\\_5 & dog\\_5\\_mood & board\\_number & dog & random\\_hit\\_mask & subject & mask\\_worn\\_on & customer\\_mask & control\\_mask & control\\_mask\\_indicated\\\\\n",
       " <dbl> & <date> & <chr> & <chr> & <dbl> & <dbl> & <dbl> & <chr> & <dbl> & <dbl> & ... & <chr> & <chr> & <dbl> & <chr> & <chr> & <chr> & <date> & <chr> & <chr> & <chr>\\\\\n",
       "\\hline\n",
       "\t 1 & 2024-05-17 & bewlkt & C. W. & 100 & 10 & 4 & 5,  76, 61, 85 & 10 & 1 & ... & Biest & ausgeglichen &  5 & Lu    & Ja & L. K. & 2024-05-01 & NA & NA & NA\\\\\n",
       "\t 1 & 2024-05-17 & bewlkt & C. W. & 100 & 10 & 4 & 5,  76, 61, 85 & 10 & 1 & ... & Biest & ausgeglichen &  5 & Aaron & Ja & L. K. & 2024-05-01 & NA & NA & NA\\\\\n",
       "\t 1 & 2024-05-17 & bewlkt & C. W. & 100 & 10 & 4 & 5,  76, 61, 85 & 10 & 1 & ... & Biest & ausgeglichen &  5 & Loki  & Ja & L. K. & 2024-05-01 & NA & NA & NA\\\\\n",
       "\t 1 & 2024-05-17 & bewlkt & C. W. & 100 & 10 & 4 & 5,  76, 61, 85 & 10 & 1 & ... & Biest & ausgeglichen &  5 & Aki   & Ja & L. K. & 2024-05-01 & NA & NA & NA\\\\\n",
       "\t 1 & 2024-05-17 & bewlkt & C. W. & 100 & 10 & 4 & 5,  76, 61, 85 & 10 & 1 & ... & Biest & ausgeglichen &  5 & Biest & Ja & L. K. & 2024-05-01 & NA & NA & NA\\\\\n",
       "\t 1 & 2024-05-17 & bewlkt & C. W. & 100 & 10 & 4 & 5,  76, 61, 85 & 10 & 1 & ... & Biest & ausgeglichen & 76 & Aaron & Ja & H. O. & 2024-05-12 & NA & NA & NA\\\\\n",
       "\\end{tabular}\n"
      ],
      "text/markdown": [
       "\n",
       "A tibble: 6 x 35\n",
       "\n",
       "| setup_id &lt;dbl&gt; | date &lt;date&gt; | weather &lt;chr&gt; | supervisor &lt;chr&gt; | number_of_boards &lt;dbl&gt; | max_positive_random &lt;dbl&gt; | random_positive_count &lt;dbl&gt; | random_positive_board_numbers &lt;chr&gt; | max_negative_random &lt;dbl&gt; | random_negative_count &lt;dbl&gt; | ... ... | dog_5 &lt;chr&gt; | dog_5_mood &lt;chr&gt; | board_number &lt;dbl&gt; | dog &lt;chr&gt; | random_hit_mask &lt;chr&gt; | subject &lt;chr&gt; | mask_worn_on &lt;date&gt; | customer_mask &lt;chr&gt; | control_mask &lt;chr&gt; | control_mask_indicated &lt;chr&gt; |\n",
       "|---|---|---|---|---|---|---|---|---|---|---|---|---|---|---|---|---|---|---|---|---|\n",
       "| 1 | 2024-05-17 | bewlkt | C. W. | 100 | 10 | 4 | 5,  76, 61, 85 | 10 | 1 | ... | Biest | ausgeglichen |  5 | Lu    | Ja | L. K. | 2024-05-01 | NA | NA | NA |\n",
       "| 1 | 2024-05-17 | bewlkt | C. W. | 100 | 10 | 4 | 5,  76, 61, 85 | 10 | 1 | ... | Biest | ausgeglichen |  5 | Aaron | Ja | L. K. | 2024-05-01 | NA | NA | NA |\n",
       "| 1 | 2024-05-17 | bewlkt | C. W. | 100 | 10 | 4 | 5,  76, 61, 85 | 10 | 1 | ... | Biest | ausgeglichen |  5 | Loki  | Ja | L. K. | 2024-05-01 | NA | NA | NA |\n",
       "| 1 | 2024-05-17 | bewlkt | C. W. | 100 | 10 | 4 | 5,  76, 61, 85 | 10 | 1 | ... | Biest | ausgeglichen |  5 | Aki   | Ja | L. K. | 2024-05-01 | NA | NA | NA |\n",
       "| 1 | 2024-05-17 | bewlkt | C. W. | 100 | 10 | 4 | 5,  76, 61, 85 | 10 | 1 | ... | Biest | ausgeglichen |  5 | Biest | Ja | L. K. | 2024-05-01 | NA | NA | NA |\n",
       "| 1 | 2024-05-17 | bewlkt | C. W. | 100 | 10 | 4 | 5,  76, 61, 85 | 10 | 1 | ... | Biest | ausgeglichen | 76 | Aaron | Ja | H. O. | 2024-05-12 | NA | NA | NA |\n",
       "\n"
      ],
      "text/plain": [
       "  setup_id date       weather supervisor number_of_boards max_positive_random\n",
       "1 1        2024-05-17 bewlkt  C. W.      100              10                 \n",
       "2 1        2024-05-17 bewlkt  C. W.      100              10                 \n",
       "3 1        2024-05-17 bewlkt  C. W.      100              10                 \n",
       "4 1        2024-05-17 bewlkt  C. W.      100              10                 \n",
       "5 1        2024-05-17 bewlkt  C. W.      100              10                 \n",
       "6 1        2024-05-17 bewlkt  C. W.      100              10                 \n",
       "  random_positive_count random_positive_board_numbers max_negative_random\n",
       "1 4                     5,  76, 61, 85                10                 \n",
       "2 4                     5,  76, 61, 85                10                 \n",
       "3 4                     5,  76, 61, 85                10                 \n",
       "4 4                     5,  76, 61, 85                10                 \n",
       "5 4                     5,  76, 61, 85                10                 \n",
       "6 4                     5,  76, 61, 85                10                 \n",
       "  random_negative_count ... dog_5 dog_5_mood   board_number dog  \n",
       "1 1                     ... Biest ausgeglichen  5           Lu   \n",
       "2 1                     ... Biest ausgeglichen  5           Aaron\n",
       "3 1                     ... Biest ausgeglichen  5           Loki \n",
       "4 1                     ... Biest ausgeglichen  5           Aki  \n",
       "5 1                     ... Biest ausgeglichen  5           Biest\n",
       "6 1                     ... Biest ausgeglichen 76           Aaron\n",
       "  random_hit_mask subject mask_worn_on customer_mask control_mask\n",
       "1 Ja              L. K.   2024-05-01   NA            NA          \n",
       "2 Ja              L. K.   2024-05-01   NA            NA          \n",
       "3 Ja              L. K.   2024-05-01   NA            NA          \n",
       "4 Ja              L. K.   2024-05-01   NA            NA          \n",
       "5 Ja              L. K.   2024-05-01   NA            NA          \n",
       "6 Ja              H. O.   2024-05-12   NA            NA          \n",
       "  control_mask_indicated\n",
       "1 NA                    \n",
       "2 NA                    \n",
       "3 NA                    \n",
       "4 NA                    \n",
       "5 NA                    \n",
       "6 NA                    "
      ]
     },
     "metadata": {},
     "output_type": "display_data"
    }
   ],
   "source": [
    "head(arbeitstagebuch)"
   ]
  },
  {
   "cell_type": "code",
   "execution_count": 7,
   "metadata": {
    "vscode": {
     "languageId": "r"
    }
   },
   "outputs": [],
   "source": [
    "# Recode the data to transform character variables into factors\n",
    "arbeitstagebuch <- arbeitstagebuch %>%\n",
    "  \n",
    "  # Transform character variables into factors\n",
    "  mutate(\n",
    "    # Weather and supervisor as factors\n",
    "    weather = factor(weather),\n",
    "    supervisor = factor(supervisor),\n",
    "    \n",
    "    # Transform handler names and moods into factors\n",
    "    handler_1 = factor(handler_1),\n",
    "    handler_1_mood = factor(handler_1_mood),\n",
    "    handler_2 = factor(handler_2),\n",
    "    handler_2_mood = factor(handler_2_mood),\n",
    "    handler_3 = factor(handler_3),\n",
    "    handler_3_mood = factor(handler_3_mood),\n",
    "    \n",
    "    # Transform dog names and moods into factors for each dog involved in detection\n",
    "    dog_1 = factor(dog_1),\n",
    "    dog_1_mood = factor(dog_1_mood),\n",
    "    dog_2 = factor(dog_2),\n",
    "    dog_2_mood = factor(dog_2_mood),\n",
    "    dog_3 = factor(dog_3),\n",
    "    dog_3_mood = factor(dog_3_mood),\n",
    "    dog_4 = factor(dog_4),\n",
    "    dog_4_mood = factor(dog_4_mood),\n",
    "    dog_5 = factor(dog_5),\n",
    "    dog_5_mood = factor(dog_5_mood),\n",
    "    \n",
    "    # Transform random_positive_board_numbers and random_negative_board_numbers into lists of numbers\n",
    "    random_positive_board_numbers = strsplit(as.character(random_positive_board_numbers), \",\"),\n",
    "    random_negative_board_numbers = strsplit(as.character(random_negative_board_numbers), \",\"),\n",
    "    \n",
    "    # Transform subject and random_hit_mask into factors\n",
    "    subject = factor(subject),\n",
    "    random_hit_mask = factor(random_hit_mask)\n",
    "  )"
   ]
  },
  {
   "cell_type": "code",
   "execution_count": 8,
   "metadata": {
    "vscode": {
     "languageId": "r"
    }
   },
   "outputs": [],
   "source": [
    "# Create the 'detection' and 'true_result' variables based on the existing columns\n",
    "arbeitstagebuch <- arbeitstagebuch %>%\n",
    "  mutate(\n",
    "    # Create 'detection' for predicted outcomes based on dog detection\n",
    "    detection = case_when(\n",
    "      # True Positive: Dogs correctly detected lung cancer\n",
    "      random_hit_mask == \"Ja\" & is.na(control_mask) ~ \"Positive\",\n",
    "      \n",
    "      # True Negative: Dogs correctly ignored the control mask\n",
    "      control_mask == \"Ja\" & is.na(control_mask_indicated) ~ \"Negative\",\n",
    "      \n",
    "      # False Positive: Dogs falsely indicated lung cancer on a control mask\n",
    "      control_mask_indicated == \"angezeigt\" ~ \"Positive\",\n",
    "      \n",
    "      # False Negative: Dogs missed detecting lung cancer\n",
    "      is.na(random_hit_mask) & is.na(control_mask) ~ \"Negative\",\n",
    "      \n",
    "      # Default case for missing data\n",
    "      TRUE ~ NA_character_\n",
    "    ),\n",
    "    \n",
    "    # Adjust 'true_result' to account for non-entries\n",
    "    true_result = case_when(\n",
    "      # Positive lung cancer diagnosis (random hit mask is \"Ja\")\n",
    "      random_hit_mask == \"Ja\" ~ \"Positive\",\n",
    "      \n",
    "      # Negative diagnosis (control mask is \"Ja\")\n",
    "      control_mask == \"Ja\" ~ \"Negative\",\n",
    "      \n",
    "      # Non-entry, meaning correctly not diagnosed\n",
    "      is.na(control_mask) & is.na(control_mask_indicated) & is.na(random_hit_mask) ~ \"Negative\",\n",
    "      \n",
    "      # Default case for missing data\n",
    "      TRUE ~ NA_character_\n",
    "    )\n",
    "  )\n",
    "\n",
    "# Drop the 'customer_mask', 'control_mask', 'control_mask_indicated', and 'random_hit_mask' columns\n",
    "arbeitstagebuch <- arbeitstagebuch %>%\n",
    "  select(-customer_mask, -control_mask, -control_mask_indicated, -random_hit_mask)\n"
   ]
  },
  {
   "cell_type": "code",
   "execution_count": 9,
   "metadata": {
    "vscode": {
     "languageId": "r"
    }
   },
   "outputs": [
    {
     "name": "stdout",
     "output_type": "stream",
     "text": [
      "tibble [360 x 33] (S3: tbl_df/tbl/data.frame)\n",
      " $ setup_id                     : num [1:360] 1 1 1 1 1 1 1 1 1 1 ...\n",
      " $ date                         : Date[1:360], format: \"2024-05-17\" \"2024-05-17\" ...\n",
      " $ weather                      : Factor w/ 3 levels \"bewlkt\",\"regnerisch\",..: 1 1 1 1 1 1 1 1 1 1 ...\n",
      " $ supervisor                   : Factor w/ 5 levels \"A. B.\",\"C. W.\",..: 2 2 2 2 2 2 2 2 2 2 ...\n",
      " $ number_of_boards             : num [1:360] 100 100 100 100 100 100 100 100 100 100 ...\n",
      " $ max_positive_random          : num [1:360] 10 10 10 10 10 10 10 10 10 10 ...\n",
      " $ random_positive_count        : num [1:360] 4 4 4 4 4 4 4 4 4 4 ...\n",
      " $ random_positive_board_numbers:List of 360\n",
      "  ..$ : chr [1:4] \"5\" \"  76\" \" 61\" \" 85\"\n",
      "  ..$ : chr [1:4] \"5\" \"  76\" \" 61\" \" 85\"\n",
      "  ..$ : chr [1:4] \"5\" \"  76\" \" 61\" \" 85\"\n",
      "  ..$ : chr [1:4] \"5\" \"  76\" \" 61\" \" 85\"\n",
      "  ..$ : chr [1:4] \"5\" \"  76\" \" 61\" \" 85\"\n",
      "  ..$ : chr [1:4] \"5\" \"  76\" \" 61\" \" 85\"\n",
      "  ..$ : chr [1:4] \"5\" \"  76\" \" 61\" \" 85\"\n",
      "  ..$ : chr [1:4] \"5\" \"  76\" \" 61\" \" 85\"\n",
      "  ..$ : chr [1:4] \"5\" \"  76\" \" 61\" \" 85\"\n",
      "  ..$ : chr [1:4] \"5\" \"  76\" \" 61\" \" 85\"\n",
      "  ..$ : chr [1:4] \"5\" \"  76\" \" 61\" \" 85\"\n",
      "  ..$ : chr [1:4] \"5\" \"  76\" \" 61\" \" 85\"\n",
      "  ..$ : chr [1:4] \"5\" \"  76\" \" 61\" \" 85\"\n",
      "  ..$ : chr [1:4] \"5\" \"  76\" \" 61\" \" 85\"\n",
      "  ..$ : chr [1:4] \"5\" \"  76\" \" 61\" \" 85\"\n",
      "  ..$ : chr [1:4] \"5\" \"  76\" \" 61\" \" 85\"\n",
      "  ..$ : chr [1:4] \"5\" \"  76\" \" 61\" \" 85\"\n",
      "  ..$ : chr [1:4] \"5\" \"  76\" \" 61\" \" 85\"\n",
      "  ..$ : chr [1:4] \"5\" \"  76\" \" 61\" \" 85\"\n",
      "  ..$ : chr [1:4] \"5\" \"  76\" \" 61\" \" 85\"\n",
      "  ..$ : chr [1:3] \"6\" \" 48\" \" 76\"\n",
      "  ..$ : chr [1:3] \"6\" \" 48\" \" 76\"\n",
      "  ..$ : chr [1:3] \"6\" \" 48\" \" 76\"\n",
      "  ..$ : chr [1:3] \"6\" \" 48\" \" 76\"\n",
      "  ..$ : chr [1:3] \"6\" \" 48\" \" 76\"\n",
      "  ..$ : chr [1:3] \"6\" \" 48\" \" 76\"\n",
      "  ..$ : chr [1:3] \"6\" \" 48\" \" 76\"\n",
      "  ..$ : chr [1:3] \"6\" \" 48\" \" 76\"\n",
      "  ..$ : chr [1:3] \"6\" \" 48\" \" 76\"\n",
      "  ..$ : chr [1:3] \"6\" \" 48\" \" 76\"\n",
      "  ..$ : chr [1:3] \"6\" \" 48\" \" 76\"\n",
      "  ..$ : chr [1:3] \"6\" \" 48\" \" 76\"\n",
      "  ..$ : chr [1:3] \"6\" \" 48\" \" 76\"\n",
      "  ..$ : chr [1:3] \"6\" \" 48\" \" 76\"\n",
      "  ..$ : chr [1:3] \"6\" \" 48\" \" 76\"\n",
      "  ..$ : chr [1:3] \"6\" \" 48\" \" 76\"\n",
      "  ..$ : chr [1:3] \"58\" \" 62\" \" 70\"\n",
      "  ..$ : chr [1:3] \"58\" \" 62\" \" 70\"\n",
      "  ..$ : chr [1:3] \"58\" \" 62\" \" 70\"\n",
      "  ..$ : chr [1:3] \"58\" \" 62\" \" 70\"\n",
      "  ..$ : chr [1:3] \"58\" \" 62\" \" 70\"\n",
      "  ..$ : chr [1:3] \"58\" \" 62\" \" 70\"\n",
      "  ..$ : chr [1:3] \"58\" \" 62\" \" 70\"\n",
      "  ..$ : chr [1:3] \"58\" \" 62\" \" 70\"\n",
      "  ..$ : chr [1:3] \"58\" \" 62\" \" 70\"\n",
      "  ..$ : chr [1:3] \"58\" \" 62\" \" 70\"\n",
      "  ..$ : chr [1:3] \"58\" \" 62\" \" 70\"\n",
      "  ..$ : chr [1:3] \"58\" \" 62\" \" 70\"\n",
      "  ..$ : chr [1:3] \"58\" \" 62\" \" 70\"\n",
      "  ..$ : chr [1:3] \"58\" \" 62\" \" 70\"\n",
      "  ..$ : chr [1:3] \"58\" \" 62\" \" 70\"\n",
      "  ..$ : chr [1:3] \"14\" \" 48\" \" 88\"\n",
      "  ..$ : chr [1:3] \"14\" \" 48\" \" 88\"\n",
      "  ..$ : chr [1:3] \"14\" \" 48\" \" 88\"\n",
      "  ..$ : chr [1:3] \"14\" \" 48\" \" 88\"\n",
      "  ..$ : chr [1:3] \"14\" \" 48\" \" 88\"\n",
      "  ..$ : chr [1:3] \"14\" \" 48\" \" 88\"\n",
      "  ..$ : chr [1:3] \"14\" \" 48\" \" 88\"\n",
      "  ..$ : chr [1:3] \"14\" \" 48\" \" 88\"\n",
      "  ..$ : chr [1:3] \"14\" \" 48\" \" 88\"\n",
      "  ..$ : chr [1:3] \"14\" \" 48\" \" 88\"\n",
      "  ..$ : chr [1:3] \"14\" \" 48\" \" 88\"\n",
      "  ..$ : chr [1:3] \"14\" \" 48\" \" 88\"\n",
      "  ..$ : chr [1:3] \"14\" \" 48\" \" 88\"\n",
      "  ..$ : chr [1:3] \"14\" \" 48\" \" 88\"\n",
      "  ..$ : chr [1:3] \"14\" \" 48\" \" 88\"\n",
      "  ..$ : chr [1:3] \"14\" \" 48\" \" 88\"\n",
      "  ..$ : chr [1:3] \"14\" \" 48\" \" 88\"\n",
      "  ..$ : chr [1:3] \"14\" \" 48\" \" 88\"\n",
      "  ..$ : chr [1:3] \"14\" \" 48\" \" 88\"\n",
      "  ..$ : chr [1:3] \"14\" \" 48\" \" 88\"\n",
      "  ..$ : chr [1:3] \"14\" \" 48\" \" 88\"\n",
      "  ..$ : chr [1:3] \"14\" \" 48\" \" 88\"\n",
      "  ..$ : chr [1:3] \"14\" \" 48\" \" 88\"\n",
      "  ..$ : chr [1:2] \"24\" \" 51\"\n",
      "  ..$ : chr [1:2] \"24\" \" 51\"\n",
      "  ..$ : chr [1:2] \"24\" \" 51\"\n",
      "  ..$ : chr [1:2] \"24\" \" 51\"\n",
      "  ..$ : chr [1:2] \"24\" \" 51\"\n",
      "  ..$ : chr [1:2] \"24\" \" 51\"\n",
      "  ..$ : chr [1:2] \"24\" \" 51\"\n",
      "  ..$ : chr [1:2] \"24\" \" 51\"\n",
      "  ..$ : chr [1:2] \"24\" \" 51\"\n",
      "  ..$ : chr [1:2] \"24\" \" 51\"\n",
      "  ..$ : chr [1:2] \"24\" \" 51\"\n",
      "  ..$ : chr [1:2] \"24\" \" 51\"\n",
      "  ..$ : chr [1:2] \"24\" \" 51\"\n",
      "  ..$ : chr [1:2] \"24\" \" 51\"\n",
      "  ..$ : chr [1:2] \"24\" \" 51\"\n",
      "  ..$ : chr [1:2] \"24\" \" 51\"\n",
      "  ..$ : chr [1:2] \"24\" \" 51\"\n",
      "  ..$ : chr [1:2] \"24\" \" 51\"\n",
      "  ..$ : chr [1:2] \"24\" \" 51\"\n",
      "  ..$ : chr [1:2] \"24\" \" 51\"\n",
      "  ..$ : chr [1:2] \"33\" \" 10\"\n",
      "  ..$ : chr [1:2] \"33\" \" 10\"\n",
      "  ..$ : chr [1:2] \"33\" \" 10\"\n",
      "  ..$ : chr [1:2] \"33\" \" 10\"\n",
      "  ..$ : chr [1:2] \"33\" \" 10\"\n",
      "  .. [list output truncated]\n",
      " $ max_negative_random          : num [1:360] 10 10 10 10 10 10 10 10 10 10 ...\n",
      " $ random_negative_count        : num [1:360] 1 1 1 1 1 1 1 1 1 1 ...\n",
      " $ random_negative_board_numbers:List of 360\n",
      "  ..$ : chr \"44\"\n",
      "  ..$ : chr \"44\"\n",
      "  ..$ : chr \"44\"\n",
      "  ..$ : chr \"44\"\n",
      "  ..$ : chr \"44\"\n",
      "  ..$ : chr \"44\"\n",
      "  ..$ : chr \"44\"\n",
      "  ..$ : chr \"44\"\n",
      "  ..$ : chr \"44\"\n",
      "  ..$ : chr \"44\"\n",
      "  ..$ : chr \"44\"\n",
      "  ..$ : chr \"44\"\n",
      "  ..$ : chr \"44\"\n",
      "  ..$ : chr \"44\"\n",
      "  ..$ : chr \"44\"\n",
      "  ..$ : chr \"44\"\n",
      "  ..$ : chr \"44\"\n",
      "  ..$ : chr \"44\"\n",
      "  ..$ : chr \"44\"\n",
      "  ..$ : chr \"44\"\n",
      "  ..$ : chr [1:7] \"7\" \" 20\" \"38\" \"54\" ...\n",
      "  ..$ : chr [1:7] \"7\" \" 20\" \"38\" \"54\" ...\n",
      "  ..$ : chr [1:7] \"7\" \" 20\" \"38\" \"54\" ...\n",
      "  ..$ : chr [1:7] \"7\" \" 20\" \"38\" \"54\" ...\n",
      "  ..$ : chr [1:7] \"7\" \" 20\" \"38\" \"54\" ...\n",
      "  ..$ : chr [1:7] \"7\" \" 20\" \"38\" \"54\" ...\n",
      "  ..$ : chr [1:7] \"7\" \" 20\" \"38\" \"54\" ...\n",
      "  ..$ : chr [1:7] \"7\" \" 20\" \"38\" \"54\" ...\n",
      "  ..$ : chr [1:7] \"7\" \" 20\" \"38\" \"54\" ...\n",
      "  ..$ : chr [1:7] \"7\" \" 20\" \"38\" \"54\" ...\n",
      "  ..$ : chr [1:7] \"7\" \" 20\" \"38\" \"54\" ...\n",
      "  ..$ : chr [1:7] \"7\" \" 20\" \"38\" \"54\" ...\n",
      "  ..$ : chr [1:7] \"7\" \" 20\" \"38\" \"54\" ...\n",
      "  ..$ : chr [1:7] \"7\" \" 20\" \"38\" \"54\" ...\n",
      "  ..$ : chr [1:7] \"7\" \" 20\" \"38\" \"54\" ...\n",
      "  ..$ : chr [1:7] \"7\" \" 20\" \"38\" \"54\" ...\n",
      "  ..$ : chr [1:2] \"2\" \"96\"\n",
      "  ..$ : chr [1:2] \"2\" \"96\"\n",
      "  ..$ : chr [1:2] \"2\" \"96\"\n",
      "  ..$ : chr [1:2] \"2\" \"96\"\n",
      "  ..$ : chr [1:2] \"2\" \"96\"\n",
      "  ..$ : chr [1:2] \"2\" \"96\"\n",
      "  ..$ : chr [1:2] \"2\" \"96\"\n",
      "  ..$ : chr [1:2] \"2\" \"96\"\n",
      "  ..$ : chr [1:2] \"2\" \"96\"\n",
      "  ..$ : chr [1:2] \"2\" \"96\"\n",
      "  ..$ : chr [1:2] \"2\" \"96\"\n",
      "  ..$ : chr [1:2] \"2\" \"96\"\n",
      "  ..$ : chr [1:2] \"2\" \"96\"\n",
      "  ..$ : chr [1:2] \"2\" \"96\"\n",
      "  ..$ : chr [1:2] \"2\" \"96\"\n",
      "  ..$ : chr [1:9] \"2\" \"33\" \"35\" \"11\" ...\n",
      "  ..$ : chr [1:9] \"2\" \"33\" \"35\" \"11\" ...\n",
      "  ..$ : chr [1:9] \"2\" \"33\" \"35\" \"11\" ...\n",
      "  ..$ : chr [1:9] \"2\" \"33\" \"35\" \"11\" ...\n",
      "  ..$ : chr [1:9] \"2\" \"33\" \"35\" \"11\" ...\n",
      "  ..$ : chr [1:9] \"2\" \"33\" \"35\" \"11\" ...\n",
      "  ..$ : chr [1:9] \"2\" \"33\" \"35\" \"11\" ...\n",
      "  ..$ : chr [1:9] \"2\" \"33\" \"35\" \"11\" ...\n",
      "  ..$ : chr [1:9] \"2\" \"33\" \"35\" \"11\" ...\n",
      "  ..$ : chr [1:9] \"2\" \"33\" \"35\" \"11\" ...\n",
      "  ..$ : chr [1:9] \"2\" \"33\" \"35\" \"11\" ...\n",
      "  ..$ : chr [1:9] \"2\" \"33\" \"35\" \"11\" ...\n",
      "  ..$ : chr [1:9] \"2\" \"33\" \"35\" \"11\" ...\n",
      "  ..$ : chr [1:9] \"2\" \"33\" \"35\" \"11\" ...\n",
      "  ..$ : chr [1:9] \"2\" \"33\" \"35\" \"11\" ...\n",
      "  ..$ : chr [1:9] \"2\" \"33\" \"35\" \"11\" ...\n",
      "  ..$ : chr [1:9] \"2\" \"33\" \"35\" \"11\" ...\n",
      "  ..$ : chr [1:9] \"2\" \"33\" \"35\" \"11\" ...\n",
      "  ..$ : chr [1:9] \"2\" \"33\" \"35\" \"11\" ...\n",
      "  ..$ : chr [1:9] \"2\" \"33\" \"35\" \"11\" ...\n",
      "  ..$ : chr [1:9] \"2\" \"33\" \"35\" \"11\" ...\n",
      "  ..$ : chr [1:9] \"2\" \"33\" \"35\" \"11\" ...\n",
      "  ..$ : chr [1:9] \"2\" \"33\" \"35\" \"11\" ...\n",
      "  ..$ : chr [1:3] \"7\" \"25\" \"66\"\n",
      "  ..$ : chr [1:3] \"7\" \"25\" \"66\"\n",
      "  ..$ : chr [1:3] \"7\" \"25\" \"66\"\n",
      "  ..$ : chr [1:3] \"7\" \"25\" \"66\"\n",
      "  ..$ : chr [1:3] \"7\" \"25\" \"66\"\n",
      "  ..$ : chr [1:3] \"7\" \"25\" \"66\"\n",
      "  ..$ : chr [1:3] \"7\" \"25\" \"66\"\n",
      "  ..$ : chr [1:3] \"7\" \"25\" \"66\"\n",
      "  ..$ : chr [1:3] \"7\" \"25\" \"66\"\n",
      "  ..$ : chr [1:3] \"7\" \"25\" \"66\"\n",
      "  ..$ : chr [1:3] \"7\" \"25\" \"66\"\n",
      "  ..$ : chr [1:3] \"7\" \"25\" \"66\"\n",
      "  ..$ : chr [1:3] \"7\" \"25\" \"66\"\n",
      "  ..$ : chr [1:3] \"7\" \"25\" \"66\"\n",
      "  ..$ : chr [1:3] \"7\" \"25\" \"66\"\n",
      "  ..$ : chr [1:3] \"7\" \"25\" \"66\"\n",
      "  ..$ : chr [1:3] \"7\" \"25\" \"66\"\n",
      "  ..$ : chr [1:3] \"7\" \"25\" \"66\"\n",
      "  ..$ : chr [1:3] \"7\" \"25\" \"66\"\n",
      "  ..$ : chr [1:3] \"7\" \"25\" \"66\"\n",
      "  ..$ : chr [1:3] \"47\" \"12\" \"5\"\n",
      "  ..$ : chr [1:3] \"47\" \"12\" \"5\"\n",
      "  ..$ : chr [1:3] \"47\" \"12\" \"5\"\n",
      "  ..$ : chr [1:3] \"47\" \"12\" \"5\"\n",
      "  ..$ : chr [1:3] \"47\" \"12\" \"5\"\n",
      "  .. [list output truncated]\n",
      " $ handler_1                    : Factor w/ 1 level \"A. M.\": 1 1 1 1 1 1 1 1 1 1 ...\n",
      " $ handler_1_mood               : Factor w/ 3 levels \"ausgeglichen\",..: 1 1 1 1 1 1 1 1 1 1 ...\n",
      " $ handler_2                    : Factor w/ 2 levels \"C. W.\",\"F. W.\": 2 2 2 2 2 2 2 2 2 2 ...\n",
      " $ handler_2_mood               : Factor w/ 4 levels \"ausgeglichen\",..: 4 4 4 4 4 4 4 4 4 4 ...\n",
      " $ handler_3                    : Factor w/ 1 level \"F. F.\": 1 1 1 1 1 1 1 1 1 1 ...\n",
      " $ handler_3_mood               : Factor w/ 2 levels \"ausgeglichen\",..: 2 2 2 2 2 2 2 2 2 2 ...\n",
      " $ dog_1                        : Factor w/ 2 levels \"Aaron\",\"Lu\": 2 2 2 2 2 2 2 2 2 2 ...\n",
      " $ dog_1_mood                   : Factor w/ 2 levels \"ausgeglichen\",..: 2 2 2 2 2 2 2 2 2 2 ...\n",
      " $ dog_2                        : Factor w/ 2 levels \"Aaron\",\"Loki\": 1 1 1 1 1 1 1 1 1 1 ...\n",
      " $ dog_2_mood                   : Factor w/ 1 level \"ausgeglichen\": 1 1 1 1 1 1 1 1 1 1 ...\n",
      " $ dog_3                        : Factor w/ 3 levels \"Aaron\",\"Aki\",..: 3 3 3 3 3 3 3 3 3 3 ...\n",
      " $ dog_3_mood                   : Factor w/ 1 level \"ausgeglichen\": 1 1 1 1 1 1 1 1 1 1 ...\n",
      " $ dog_4                        : Factor w/ 3 levels \"Aki\",\"Biest\",..: 1 1 1 1 1 1 1 1 1 1 ...\n",
      " $ dog_4_mood                   : Factor w/ 1 level \"ausgeglichen\": 1 1 1 1 1 1 1 1 1 1 ...\n",
      " $ dog_5                        : Factor w/ 2 levels \"Biest\",\"Lu\": 1 1 1 1 1 1 1 1 1 1 ...\n",
      " $ dog_5_mood                   : Factor w/ 1 level \"ausgeglichen\": 1 1 1 1 1 1 1 1 1 1 ...\n",
      " $ board_number                 : num [1:360] 5 5 5 5 5 76 76 76 76 76 ...\n",
      " $ dog                          : Factor w/ 6 levels \"Aaron\",\"Aki\",..: 6 1 5 2 3 1 5 6 2 3 ...\n",
      " $ subject                      : Factor w/ 24 levels \"B. H.\",\"F. S.\",..: 14 14 14 14 14 6 6 6 6 6 ...\n",
      " $ mask_worn_on                 : Date[1:360], format: \"2024-05-01\" \"2024-05-01\" ...\n",
      " $ detection                    : Factor w/ 2 levels \"Positive\",\"Negative\": 1 1 1 1 1 1 1 1 1 1 ...\n",
      " $ true_result                  : Factor w/ 2 levels \"Positive\",\"Negative\": 1 1 1 1 1 1 1 1 1 1 ...\n"
     ]
    }
   ],
   "source": [
    "# Convert the 'dog' and 'detection' columns into factors\n",
    "arbeitstagebuch <- arbeitstagebuch %>%\n",
    "  mutate(\n",
    "    # Convert 'dog' column to factor\n",
    "    dog = factor(dog),\n",
    "    \n",
    "    # Convert 'detection' to factor for modeling purposes\n",
    "    detection = factor(detection, levels = c(\"Positive\", \"Negative\")),\n",
    "\n",
    "    # Convert 'true_result' to factor for modeling purposes\n",
    "    true_result = factor(true_result, levels = c(\"Positive\", \"Negative\"))\n",
    "  )\n",
    "\n",
    "# Verify the changes\n",
    "str(arbeitstagebuch)"
   ]
  },
  {
   "cell_type": "markdown",
   "metadata": {},
   "source": [
    "## 1.1 Exploratory Data Analysis"
   ]
  },
  {
   "cell_type": "markdown",
   "metadata": {},
   "source": [
    "### Summary statistics"
   ]
  },
  {
   "cell_type": "code",
   "execution_count": 10,
   "metadata": {
    "vscode": {
     "languageId": "r"
    }
   },
   "outputs": [
    {
     "data": {
      "text/plain": [
       "    setup_id          date                  weather     supervisor \n",
       " Min.   : 1.00   Min.   :2024-05-17   bewlkt    :188   A. B. : 33  \n",
       " 1st Qu.: 5.00   1st Qu.:2024-05-22   regnerisch:101   C. W. :241  \n",
       " Median :12.00   Median :2024-06-08   sonnig    : 71   F. B. : 15  \n",
       " Mean   :11.38   Mean   :2024-06-16                    F. S. : 66  \n",
       " 3rd Qu.:17.00   3rd Qu.:2024-07-05                    P.  H.:  5  \n",
       " Max.   :24.00   Max.   :2024-08-31                                \n",
       "                                                                   \n",
       " number_of_boards max_positive_random random_positive_count max_negative_random\n",
       " Min.   : 20.00   Min.   : 1.000      Min.   :1.0           Min.   : 1.000     \n",
       " 1st Qu.: 60.00   1st Qu.: 6.000      1st Qu.:2.0           1st Qu.: 6.000     \n",
       " Median : 75.00   Median :10.000      Median :3.0           Median :10.000     \n",
       " Mean   : 77.26   Mean   : 7.853      Mean   :3.4           Mean   : 7.844     \n",
       " 3rd Qu.:100.00   3rd Qu.:10.000      3rd Qu.:4.0           3rd Qu.:10.000     \n",
       " Max.   :111.00   Max.   :11.000      Max.   :7.0           Max.   :11.000     \n",
       "                                                                               \n",
       " random_negative_count handler_1        handler_1_mood handler_2  \n",
       " Min.   :1.000         A. M.:360   ausgeglichen:321    C. W.: 63  \n",
       " 1st Qu.:3.000                     krank       : 34    F. W.:297  \n",
       " Median :3.000                     muede       :  5               \n",
       " Mean   :3.886                                                    \n",
       " 3rd Qu.:4.000                                                    \n",
       " Max.   :9.000                                                    \n",
       "                                                                  \n",
       "      handler_2_mood handler_3        handler_3_mood   dog_1    \n",
       " ausgeglichen:273    F. F.:291   ausgeglichen:271    Aaron:314  \n",
       " gestresst   : 41    NA's : 69   muede       : 20    Lu   : 46  \n",
       " krank       : 21                NA's        : 69               \n",
       " muede       : 25                                               \n",
       "                                                                \n",
       "                                                                \n",
       "                                                                \n",
       "        dog_1_mood    dog_2            dog_2_mood    dog_3    \n",
       " ausgeglichen:340   Aaron: 41   ausgeglichen:360   Aaron:  5  \n",
       " muede       : 20   Loki :319                      Aki  :314  \n",
       "                                                   Loki : 41  \n",
       "                                                              \n",
       "                                                              \n",
       "                                                              \n",
       "                                                              \n",
       "        dog_3_mood    dog_4            dog_4_mood    dog_5    \n",
       " ausgeglichen:360   Aki  : 46   ausgeglichen:360   Biest: 46  \n",
       "                    Biest:251                      Lu   :266  \n",
       "                    Heidi: 63                      NA's : 48  \n",
       "                                                              \n",
       "                                                              \n",
       "                                                              \n",
       "                                                              \n",
       "        dog_5_mood   board_number      dog        subject   \n",
       " ausgeglichen:312   Min.   : 1.00   Aaron:73   H. A.  : 47  \n",
       " NA's        : 48   1st Qu.:17.00   Aki  :73   I. J.  : 24  \n",
       "                    Median :37.00   Biest:57   K. L.  : 23  \n",
       "                    Mean   :38.82   Heidi:10   F. S.  : 20  \n",
       "                    3rd Qu.:59.00   Loki :74   H. U.  : 19  \n",
       "                    Max.   :88.00   Lu   :73   (Other):160  \n",
       "                                               NA's   : 67  \n",
       "  mask_worn_on           detection     true_result \n",
       " Min.   :2024-05-01   Positive:294   Positive:293  \n",
       " 1st Qu.:2024-05-17   Negative: 65   Negative: 66  \n",
       " Median :2024-05-31   NA's    :  1   NA's    :  1  \n",
       " Mean   :2024-06-09                                \n",
       " 3rd Qu.:2024-06-26                                \n",
       " Max.   :2024-08-19                                \n",
       " NA's   :67                                        "
      ]
     },
     "metadata": {},
     "output_type": "display_data"
    }
   ],
   "source": [
    "# Summary statistics for the numeric and factor variables\n",
    "summary(arbeitstagebuch %>% select_if(~!is.list(.)))"
   ]
  },
  {
   "cell_type": "code",
   "execution_count": 11,
   "metadata": {
    "vscode": {
     "languageId": "r"
    }
   },
   "outputs": [
    {
     "data": {
      "text/plain": [
       "\n",
       "Positive Negative \n",
       "     294       65 "
      ]
     },
     "metadata": {},
     "output_type": "display_data"
    }
   ],
   "source": [
    "table(arbeitstagebuch$detection)"
   ]
  },
  {
   "cell_type": "code",
   "execution_count": 12,
   "metadata": {
    "vscode": {
     "languageId": "r"
    }
   },
   "outputs": [
    {
     "data": {
      "text/plain": [
       "\n",
       "Positive Negative \n",
       "     293       66 "
      ]
     },
     "metadata": {},
     "output_type": "display_data"
    }
   ],
   "source": [
    "table(arbeitstagebuch$true_result)"
   ]
  },
  {
   "cell_type": "code",
   "execution_count": 13,
   "metadata": {
    "vscode": {
     "languageId": "r"
    }
   },
   "outputs": [
    {
     "data": {
      "text/html": [
       "1"
      ],
      "text/latex": [
       "1"
      ],
      "text/markdown": [
       "1"
      ],
      "text/plain": [
       "[1] 1"
      ]
     },
     "metadata": {},
     "output_type": "display_data"
    },
    {
     "data": {
      "text/html": [
       "1"
      ],
      "text/latex": [
       "1"
      ],
      "text/markdown": [
       "1"
      ],
      "text/plain": [
       "[1] 1"
      ]
     },
     "metadata": {},
     "output_type": "display_data"
    },
    {
     "data": {
      "text/plain": [
       "       \n",
       "        FALSE TRUE\n",
       "  FALSE   359    0\n",
       "  TRUE      0    1"
      ]
     },
     "metadata": {},
     "output_type": "display_data"
    }
   ],
   "source": [
    "# Check for NA values in detection and true_result\n",
    "sum(is.na(arbeitstagebuch$detection))  # Number of NAs in detection\n",
    "sum(is.na(arbeitstagebuch$true_result))  # Number of NAs in true_result\n",
    "\n",
    "# Check the distribution of NA values in both columns\n",
    "table(is.na(arbeitstagebuch$detection), is.na(arbeitstagebuch$true_result))\n"
   ]
  },
  {
   "cell_type": "markdown",
   "metadata": {},
   "source": [
    "The dataset captures the results of lung cancer detection attempts by trained dogs over several months in 2024. Data collection occurred between May 17 and August 31, across 24 unique setups. The majority of the observations occurred during cloudy weather, which was the most common condition, and involved primarily two supervisors: C. W., who oversaw most of the cases, and F. S.\n",
    "\n",
    "The setups involved varying numbers of boards, with the average setup having around 77 boards. These setups included both positive and negative random boards, with an average of 3.4 positive and 3.9 negative boards per setup. The number of boards and random selections were crucial to how the dogs performed during their detection tasks.\n",
    "\n",
    "The handlers working with the dogs were mostly in a balanced mood, although there were occasional instances of handlers feeling tired or unwell, especially for the second handler in the setups. Of the five dogs involved in the study—Aaron, Loki, Aki, Biest, and Lu—the majority were in a balanced state during the trials. However, there were also some cases where the dogs were reported as tired, which could have impacted their detection performance.\n",
    "\n",
    "In terms of lung cancer detection, there were 294 \"Positive\" outcomes, while 65 were marked as \"Negative.\" Only one case lacked detection information. When compared with the true results, where 293 were actually positive and 66 were negative, it’s clear that the dogs' detection closely matched the true diagnoses, suggesting a high level of accuracy in their performance.\n",
    "\n",
    "However, there were some missing values in the dataset, particularly in columns like subject and mask_worn_on, affecting 67 records. While the majority of the data is complete and indicates strong detection abilities in the dogs, these missing values could potentially limit the scope of the analysis.\n",
    "\n",
    "In summary, the dataset presents a detailed picture of dog-assisted lung cancer detection, where most detections align closely with the true diagnoses. Despite some gaps in the data, the overall performance suggests that the dogs, under consistent supervision and environmental conditions, performed well in identifying cancer cases."
   ]
  },
  {
   "cell_type": "markdown",
   "metadata": {},
   "source": [
    "### Missing Data Exploration"
   ]
  },
  {
   "cell_type": "code",
   "execution_count": 14,
   "metadata": {
    "vscode": {
     "languageId": "r"
    }
   },
   "outputs": [],
   "source": [
    "library(naniar)\n",
    "library(mice)"
   ]
  },
  {
   "cell_type": "code",
   "execution_count": 15,
   "metadata": {
    "vscode": {
     "languageId": "r"
    }
   },
   "outputs": [
    {
     "data": {
      "image/png": "[encoded data removed]",
      "text/plain": [
       "plot without title"
      ]
     },
     "metadata": {
      "image/png": {
       "height": 420,
       "width": 420
      }
     },
     "output_type": "display_data"
    }
   ],
   "source": [
    "# Visualizing missing data pattern\n",
    "gg_miss_var(arbeitstagebuch) +\n",
    "  labs(title = \"Missing Data Pattern in the Dataset\")"
   ]
  },
  {
   "cell_type": "code",
   "execution_count": 16,
   "metadata": {
    "vscode": {
     "languageId": "r"
    }
   },
   "outputs": [
    {
     "data": {
      "text/html": [
       "<table class=\"dataframe\">\n",
       "<caption>A data.frame: 8 x 4</caption>\n",
       "<thead>\n",
       "\t<tr><th></th><th scope=col>Variable</th><th scope=col>MissingValues</th><th scope=col>TotalValues</th><th scope=col>ProportionMissing</th></tr>\n",
       "\t<tr><th></th><th scope=col>&lt;chr&gt;</th><th scope=col>&lt;int&gt;</th><th scope=col>&lt;int&gt;</th><th scope=col>&lt;dbl&gt;</th></tr>\n",
       "</thead>\n",
       "<tbody>\n",
       "\t<tr><th scope=row>handler_3</th><td>handler_3     </td><td>69</td><td>360</td><td>19.17</td></tr>\n",
       "\t<tr><th scope=row>handler_3_mood</th><td>handler_3_mood</td><td>69</td><td>360</td><td>19.17</td></tr>\n",
       "\t<tr><th scope=row>dog_5</th><td>dog_5         </td><td>48</td><td>360</td><td>13.33</td></tr>\n",
       "\t<tr><th scope=row>dog_5_mood</th><td>dog_5_mood    </td><td>48</td><td>360</td><td>13.33</td></tr>\n",
       "\t<tr><th scope=row>subject</th><td>subject       </td><td>67</td><td>360</td><td>18.61</td></tr>\n",
       "\t<tr><th scope=row>mask_worn_on</th><td>mask_worn_on  </td><td>67</td><td>360</td><td>18.61</td></tr>\n",
       "\t<tr><th scope=row>detection</th><td>detection     </td><td> 1</td><td>360</td><td> 0.28</td></tr>\n",
       "\t<tr><th scope=row>true_result</th><td>true_result   </td><td> 1</td><td>360</td><td> 0.28</td></tr>\n",
       "</tbody>\n",
       "</table>\n"
      ],
      "text/latex": [
       "A data.frame: 8 x 4\n",
       "\\begin{tabular}{r|llll}\n",
       "  & Variable & MissingValues & TotalValues & ProportionMissing\\\\\n",
       "  & <chr> & <int> & <int> & <dbl>\\\\\n",
       "\\hline\n",
       "\thandler\\_3 & handler\\_3      & 69 & 360 & 19.17\\\\\n",
       "\thandler\\_3\\_mood & handler\\_3\\_mood & 69 & 360 & 19.17\\\\\n",
       "\tdog\\_5 & dog\\_5          & 48 & 360 & 13.33\\\\\n",
       "\tdog\\_5\\_mood & dog\\_5\\_mood     & 48 & 360 & 13.33\\\\\n",
       "\tsubject & subject        & 67 & 360 & 18.61\\\\\n",
       "\tmask\\_worn\\_on & mask\\_worn\\_on   & 67 & 360 & 18.61\\\\\n",
       "\tdetection & detection      &  1 & 360 &  0.28\\\\\n",
       "\ttrue\\_result & true\\_result    &  1 & 360 &  0.28\\\\\n",
       "\\end{tabular}\n"
      ],
      "text/markdown": [
       "\n",
       "A data.frame: 8 x 4\n",
       "\n",
       "| <!--/--> | Variable &lt;chr&gt; | MissingValues &lt;int&gt; | TotalValues &lt;int&gt; | ProportionMissing &lt;dbl&gt; |\n",
       "|---|---|---|---|---|\n",
       "| handler_3 | handler_3      | 69 | 360 | 19.17 |\n",
       "| handler_3_mood | handler_3_mood | 69 | 360 | 19.17 |\n",
       "| dog_5 | dog_5          | 48 | 360 | 13.33 |\n",
       "| dog_5_mood | dog_5_mood     | 48 | 360 | 13.33 |\n",
       "| subject | subject        | 67 | 360 | 18.61 |\n",
       "| mask_worn_on | mask_worn_on   | 67 | 360 | 18.61 |\n",
       "| detection | detection      |  1 | 360 |  0.28 |\n",
       "| true_result | true_result    |  1 | 360 |  0.28 |\n",
       "\n"
      ],
      "text/plain": [
       "               Variable       MissingValues TotalValues ProportionMissing\n",
       "handler_3      handler_3      69            360         19.17            \n",
       "handler_3_mood handler_3_mood 69            360         19.17            \n",
       "dog_5          dog_5          48            360         13.33            \n",
       "dog_5_mood     dog_5_mood     48            360         13.33            \n",
       "subject        subject        67            360         18.61            \n",
       "mask_worn_on   mask_worn_on   67            360         18.61            \n",
       "detection      detection       1            360          0.28            \n",
       "true_result    true_result     1            360          0.28            "
      ]
     },
     "metadata": {},
     "output_type": "display_data"
    }
   ],
   "source": [
    "# Summary of missing values in the key variables\n",
    "missing_summary <- sapply(arbeitstagebuch, function(x) sum(is.na(x)))\n",
    "\n",
    "# Create a data frame with the total number of missing values and the proportion\n",
    "missing_summary <- data.frame(\n",
    "  Variable = names(missing_summary), \n",
    "  MissingValues = missing_summary,\n",
    "  TotalValues = nrow(arbeitstagebuch),  # Total number of rows in the dataset\n",
    "  ProportionMissing = round((missing_summary / nrow(arbeitstagebuch))*100, 2)  # Proportion of missing data\n",
    ")\n",
    "\n",
    "# Filter to show only variables with missing data\n",
    "missing_summary <- missing_summary %>% filter(MissingValues > 0)\n",
    "\n",
    "# Display the missing summary to the user\n",
    "missing_summary"
   ]
  },
  {
   "cell_type": "code",
   "execution_count": 17,
   "metadata": {
    "vscode": {
     "languageId": "r"
    }
   },
   "outputs": [],
   "source": [
    "# Function to count the number of unique levels in each column\n",
    "count_levels <- function(x) {\n",
    "  if (is.factor(x) || is.character(x)) {\n",
    "    return(length(unique(na.omit(x))))\n",
    "  } else {\n",
    "    return(NA)  # Return NA for non-categorical variables\n",
    "  }\n",
    "}"
   ]
  },
  {
   "cell_type": "code",
   "execution_count": 18,
   "metadata": {
    "vscode": {
     "languageId": "r"
    }
   },
   "outputs": [
    {
     "data": {
      "text/html": [
       "<table class=\"dataframe\">\n",
       "<caption>A data.frame: 8 x 2</caption>\n",
       "<thead>\n",
       "\t<tr><th></th><th scope=col>Variable</th><th scope=col>Levels</th></tr>\n",
       "\t<tr><th></th><th scope=col>&lt;chr&gt;</th><th scope=col>&lt;int&gt;</th></tr>\n",
       "</thead>\n",
       "<tbody>\n",
       "\t<tr><th scope=row>handler_3</th><td>handler_3     </td><td> 1</td></tr>\n",
       "\t<tr><th scope=row>handler_3_mood</th><td>handler_3_mood</td><td> 2</td></tr>\n",
       "\t<tr><th scope=row>dog_5</th><td>dog_5         </td><td> 2</td></tr>\n",
       "\t<tr><th scope=row>dog_5_mood</th><td>dog_5_mood    </td><td> 1</td></tr>\n",
       "\t<tr><th scope=row>subject</th><td>subject       </td><td>24</td></tr>\n",
       "\t<tr><th scope=row>mask_worn_on</th><td>mask_worn_on  </td><td>NA</td></tr>\n",
       "\t<tr><th scope=row>detection</th><td>detection     </td><td> 2</td></tr>\n",
       "\t<tr><th scope=row>true_result</th><td>true_result   </td><td> 2</td></tr>\n",
       "</tbody>\n",
       "</table>\n"
      ],
      "text/latex": [
       "A data.frame: 8 x 2\n",
       "\\begin{tabular}{r|ll}\n",
       "  & Variable & Levels\\\\\n",
       "  & <chr> & <int>\\\\\n",
       "\\hline\n",
       "\thandler\\_3 & handler\\_3      &  1\\\\\n",
       "\thandler\\_3\\_mood & handler\\_3\\_mood &  2\\\\\n",
       "\tdog\\_5 & dog\\_5          &  2\\\\\n",
       "\tdog\\_5\\_mood & dog\\_5\\_mood     &  1\\\\\n",
       "\tsubject & subject        & 24\\\\\n",
       "\tmask\\_worn\\_on & mask\\_worn\\_on   & NA\\\\\n",
       "\tdetection & detection      &  2\\\\\n",
       "\ttrue\\_result & true\\_result    &  2\\\\\n",
       "\\end{tabular}\n"
      ],
      "text/markdown": [
       "\n",
       "A data.frame: 8 x 2\n",
       "\n",
       "| <!--/--> | Variable &lt;chr&gt; | Levels &lt;int&gt; |\n",
       "|---|---|---|\n",
       "| handler_3 | handler_3      |  1 |\n",
       "| handler_3_mood | handler_3_mood |  2 |\n",
       "| dog_5 | dog_5          |  2 |\n",
       "| dog_5_mood | dog_5_mood     |  1 |\n",
       "| subject | subject        | 24 |\n",
       "| mask_worn_on | mask_worn_on   | NA |\n",
       "| detection | detection      |  2 |\n",
       "| true_result | true_result    |  2 |\n",
       "\n"
      ],
      "text/plain": [
       "               Variable       Levels\n",
       "handler_3      handler_3       1    \n",
       "handler_3_mood handler_3_mood  2    \n",
       "dog_5          dog_5           2    \n",
       "dog_5_mood     dog_5_mood      1    \n",
       "subject        subject        24    \n",
       "mask_worn_on   mask_worn_on   NA    \n",
       "detection      detection       2    \n",
       "true_result    true_result     2    "
      ]
     },
     "metadata": {},
     "output_type": "display_data"
    }
   ],
   "source": [
    "# Apply the function to each column and create a summary table\n",
    "levels_summary <- data.frame(\n",
    "  Variable = names(arbeitstagebuch),\n",
    "  Levels = sapply(arbeitstagebuch, count_levels)\n",
    ")\n",
    "\n",
    "# Filter for only variables that had missing values\n",
    "levels_summary_filtered <- levels_summary %>%\n",
    "  filter(Variable %in% missing_summary$Variable)\n",
    "\n",
    "# Display the summary of levels for the variables with missing data\n",
    "levels_summary_filtered"
   ]
  },
  {
   "cell_type": "code",
   "execution_count": 19,
   "metadata": {
    "vscode": {
     "languageId": "r"
    }
   },
   "outputs": [],
   "source": [
    "# Drop irrelevant variables and list columns\n",
    "arbeitstagebuch_impute <- arbeitstagebuch %>%\n",
    "  select(-subject, -mask_worn_on, -random_positive_board_numbers, -random_negative_board_numbers)"
   ]
  },
  {
   "cell_type": "code",
   "execution_count": 20,
   "metadata": {
    "vscode": {
     "languageId": "r"
    }
   },
   "outputs": [],
   "source": [
    "# Fill single-level variables manually\n",
    "arbeitstagebuch_impute$handler_3[is.na(arbeitstagebuch_impute$handler_3)] <- unique(arbeitstagebuch_impute$handler_3[!is.na(arbeitstagebuch_impute$handler_3)])\n",
    "arbeitstagebuch_impute$dog_5_mood[is.na(arbeitstagebuch_impute$dog_5_mood)] <- unique(arbeitstagebuch_impute$dog_5_mood[!is.na(arbeitstagebuch_impute$dog_5_mood)])\n"
   ]
  },
  {
   "cell_type": "code",
   "execution_count": 21,
   "metadata": {
    "vscode": {
     "languageId": "r"
    }
   },
   "outputs": [],
   "source": [
    "# Create an imputation method vector for all variables\n",
    "method <- rep(\"\", ncol(arbeitstagebuch_impute))\n",
    "\n",
    "# Specify the methods for the variables that need imputation (random forest for specified variables)\n",
    "method[which(names(arbeitstagebuch_impute) == \"handler_3_mood\")] <- \"rf\"\n",
    "method[which(names(arbeitstagebuch_impute) == \"dog_5\")] <- \"rf\"\n",
    "method[which(names(arbeitstagebuch_impute) == \"detection\")] <- \"rf\"\n",
    "method[which(names(arbeitstagebuch_impute) == \"true_result\")] <- \"rf\"\n"
   ]
  },
  {
   "cell_type": "code",
   "execution_count": 22,
   "metadata": {
    "vscode": {
     "languageId": "r"
    }
   },
   "outputs": [
    {
     "name": "stdout",
     "output_type": "stream",
     "text": [
      "\n",
      " iter imp variable\n",
      "  1   1  detection  true_result\n",
      "  1   2  detection  true_result\n",
      "  1   3  detection  true_result\n",
      "  1   4  detection  true_result\n",
      "  1   5  detection  true_result\n",
      "  2   1  detection  true_result\n",
      "  2   2  detection  true_result\n",
      "  2   3  detection  true_result\n",
      "  2   4  detection  true_result\n",
      "  2   5  detection  true_result\n",
      "  3   1  detection  true_result\n",
      "  3   2  detection  true_result\n",
      "  3   3  detection  true_result\n",
      "  3   4  detection  true_result\n",
      "  3   5  detection  true_result\n",
      "  4   1  detection  true_result\n",
      "  4   2  detection  true_result\n",
      "  4   3  detection  true_result\n",
      "  4   4  detection  true_result\n",
      "  4   5  detection  true_result\n",
      "  5   1  detection  true_result\n",
      "  5   2  detection  true_result\n",
      "  5   3  detection  true_result\n",
      "  5   4  detection  true_result\n",
      "  5   5  detection  true_result\n",
      "  6   1  detection  true_result\n",
      "  6   2  detection  true_result\n",
      "  6   3  detection  true_result\n",
      "  6   4  detection  true_result\n",
      "  6   5  detection  true_result\n",
      "  7   1  detection  true_result\n",
      "  7   2  detection  true_result\n",
      "  7   3  detection  true_result\n",
      "  7   4  detection  true_result\n",
      "  7   5  detection  true_result\n",
      "  8   1  detection  true_result\n",
      "  8   2  detection  true_result\n",
      "  8   3  detection  true_result\n",
      "  8   4  detection  true_result\n",
      "  8   5  detection  true_result\n",
      "  9   1  detection  true_result\n",
      "  9   2  detection  true_result\n",
      "  9   3  detection  true_result\n",
      "  9   4  detection  true_result\n",
      "  9   5  detection  true_result\n",
      "  10   1  detection  true_result\n",
      "  10   2  detection  true_result\n",
      "  10   3  detection  true_result\n",
      "  10   4  detection  true_result\n",
      "  10   5  detection  true_result\n",
      "  11   1  detection  true_result\n",
      "  11   2  detection  true_result\n",
      "  11   3  detection  true_result\n",
      "  11   4  detection  true_result\n",
      "  11   5  detection  true_result\n",
      "  12   1  detection  true_result\n",
      "  12   2  detection  true_result\n",
      "  12   3  detection  true_result\n",
      "  12   4  detection  true_result\n",
      "  12   5  detection  true_result\n",
      "  13   1  detection  true_result\n",
      "  13   2  detection  true_result\n",
      "  13   3  detection  true_result\n",
      "  13   4  detection  true_result\n",
      "  13   5  detection  true_result\n",
      "  14   1  detection  true_result\n",
      "  14   2  detection  true_result\n",
      "  14   3  detection  true_result\n",
      "  14   4  detection  true_result\n",
      "  14   5  detection  true_result\n",
      "  15   1  detection  true_result\n",
      "  15   2  detection  true_result\n",
      "  15   3  detection  true_result\n",
      "  15   4  detection  true_result\n",
      "  15   5  detection  true_result\n",
      "  16   1  detection  true_result\n",
      "  16   2  detection  true_result\n",
      "  16   3  detection  true_result\n",
      "  16   4  detection  true_result\n",
      "  16   5  detection  true_result\n",
      "  17   1  detection  true_result\n",
      "  17   2  detection  true_result\n",
      "  17   3  detection  true_result\n",
      "  17   4  detection  true_result\n",
      "  17   5  detection  true_result\n",
      "  18   1  detection  true_result\n",
      "  18   2  detection  true_result\n",
      "  18   3  detection  true_result\n",
      "  18   4  detection  true_result\n",
      "  18   5  detection  true_result\n",
      "  19   1  detection  true_result\n",
      "  19   2  detection  true_result\n",
      "  19   3  detection  true_result\n",
      "  19   4  detection  true_result\n",
      "  19   5  detection  true_result\n",
      "  20   1  detection  true_result\n",
      "  20   2  detection  true_result\n",
      "  20   3  detection  true_result\n",
      "  20   4  detection  true_result\n",
      "  20   5  detection  true_result\n",
      "  21   1  detection  true_result\n",
      "  21   2  detection  true_result\n",
      "  21   3  detection  true_result\n",
      "  21   4  detection  true_result\n",
      "  21   5  detection  true_result\n",
      "  22   1  detection  true_result\n",
      "  22   2  detection  true_result\n",
      "  22   3  detection  true_result\n",
      "  22   4  detection  true_result\n",
      "  22   5  detection  true_result\n",
      "  23   1  detection  true_result\n",
      "  23   2  detection  true_result\n",
      "  23   3  detection  true_result\n",
      "  23   4  detection  true_result\n",
      "  23   5  detection  true_result\n",
      "  24   1  detection  true_result\n",
      "  24   2  detection  true_result\n",
      "  24   3  detection  true_result\n",
      "  24   4  detection  true_result\n",
      "  24   5  detection  true_result\n",
      "  25   1  detection  true_result\n",
      "  25   2  detection  true_result\n",
      "  25   3  detection  true_result\n",
      "  25   4  detection  true_result\n",
      "  25   5  detection  true_result\n",
      "  26   1  detection  true_result\n",
      "  26   2  detection  true_result\n",
      "  26   3  detection  true_result\n",
      "  26   4  detection  true_result\n",
      "  26   5  detection  true_result\n",
      "  27   1  detection  true_result\n",
      "  27   2  detection  true_result\n",
      "  27   3  detection  true_result\n",
      "  27   4  detection  true_result\n",
      "  27   5  detection  true_result\n",
      "  28   1  detection  true_result\n",
      "  28   2  detection  true_result\n",
      "  28   3  detection  true_result\n",
      "  28   4  detection  true_result\n",
      "  28   5  detection  true_result\n",
      "  29   1  detection  true_result\n",
      "  29   2  detection  true_result\n",
      "  29   3  detection  true_result\n",
      "  29   4  detection  true_result\n",
      "  29   5  detection  true_result\n",
      "  30   1  detection  true_result\n",
      "  30   2  detection  true_result\n",
      "  30   3  detection  true_result\n",
      "  30   4  detection  true_result\n",
      "  30   5  detection  true_result\n",
      "  31   1  detection  true_result\n",
      "  31   2  detection  true_result\n",
      "  31   3  detection  true_result\n",
      "  31   4  detection  true_result\n",
      "  31   5  detection  true_result\n",
      "  32   1  detection  true_result\n",
      "  32   2  detection  true_result\n",
      "  32   3  detection  true_result\n",
      "  32   4  detection  true_result\n",
      "  32   5  detection  true_result\n",
      "  33   1  detection  true_result\n",
      "  33   2  detection  true_result\n",
      "  33   3  detection  true_result\n",
      "  33   4  detection  true_result\n",
      "  33   5  detection  true_result\n",
      "  34   1  detection  true_result\n",
      "  34   2  detection  true_result\n",
      "  34   3  detection  true_result\n",
      "  34   4  detection  true_result\n",
      "  34   5  detection  true_result\n",
      "  35   1  detection  true_result\n",
      "  35   2  detection  true_result\n",
      "  35   3  detection  true_result\n",
      "  35   4  detection  true_result\n",
      "  35   5  detection  true_result\n",
      "  36   1  detection  true_result\n",
      "  36   2  detection  true_result\n",
      "  36   3  detection  true_result\n",
      "  36   4  detection  true_result\n",
      "  36   5  detection  true_result\n",
      "  37   1  detection  true_result\n",
      "  37   2  detection  true_result\n",
      "  37   3  detection  true_result\n",
      "  37   4  detection  true_result\n",
      "  37   5  detection  true_result\n",
      "  38   1  detection  true_result\n",
      "  38   2  detection  true_result\n",
      "  38   3  detection  true_result\n",
      "  38   4  detection  true_result\n",
      "  38   5  detection  true_result\n",
      "  39   1  detection  true_result\n",
      "  39   2  detection  true_result\n",
      "  39   3  detection  true_result\n",
      "  39   4  detection  true_result\n",
      "  39   5  detection  true_result\n",
      "  40   1  detection  true_result\n",
      "  40   2  detection  true_result\n",
      "  40   3  detection  true_result\n",
      "  40   4  detection  true_result\n",
      "  40   5  detection  true_result\n",
      "  41   1  detection  true_result\n",
      "  41   2  detection  true_result\n",
      "  41   3  detection  true_result\n",
      "  41   4  detection  true_result\n",
      "  41   5  detection  true_result\n",
      "  42   1  detection  true_result\n",
      "  42   2  detection  true_result\n",
      "  42   3  detection  true_result\n",
      "  42   4  detection  true_result\n",
      "  42   5  detection  true_result\n",
      "  43   1  detection  true_result\n",
      "  43   2  detection  true_result\n",
      "  43   3  detection  true_result\n",
      "  43   4  detection  true_result\n",
      "  43   5  detection  true_result\n",
      "  44   1  detection  true_result\n",
      "  44   2  detection  true_result\n",
      "  44   3  detection  true_result\n",
      "  44   4  detection  true_result\n",
      "  44   5  detection  true_result\n",
      "  45   1  detection  true_result\n",
      "  45   2  detection  true_result\n",
      "  45   3  detection  true_result\n",
      "  45   4  detection  true_result\n",
      "  45   5  detection  true_result\n",
      "  46   1  detection  true_result\n",
      "  46   2  detection  true_result\n",
      "  46   3  detection  true_result\n",
      "  46   4  detection  true_result\n",
      "  46   5  detection  true_result\n",
      "  47   1  detection  true_result\n",
      "  47   2  detection  true_result\n",
      "  47   3  detection  true_result\n",
      "  47   4  detection  true_result\n",
      "  47   5  detection  true_result\n",
      "  48   1  detection  true_result\n",
      "  48   2  detection  true_result\n",
      "  48   3  detection  true_result\n",
      "  48   4  detection  true_result\n",
      "  48   5  detection  true_result\n",
      "  49   1  detection  true_result\n",
      "  49   2  detection  true_result\n",
      "  49   3  detection  true_result\n",
      "  49   4  detection  true_result\n",
      "  49   5  detection  true_result\n",
      "  50   1  detection  true_result\n",
      "  50   2  detection  true_result\n",
      "  50   3  detection  true_result\n",
      "  50   4  detection  true_result\n",
      "  50   5  detection  true_result\n",
      "  51   1  detection  true_result\n",
      "  51   2  detection  true_result\n",
      "  51   3  detection  true_result\n",
      "  51   4  detection  true_result\n",
      "  51   5  detection  true_result\n",
      "  52   1  detection  true_result\n",
      "  52   2  detection  true_result\n",
      "  52   3  detection  true_result\n",
      "  52   4  detection  true_result\n",
      "  52   5  detection  true_result\n",
      "  53   1  detection  true_result\n",
      "  53   2  detection  true_result\n",
      "  53   3  detection  true_result\n",
      "  53   4  detection  true_result\n",
      "  53   5  detection  true_result\n",
      "  54   1  detection  true_result\n",
      "  54   2  detection  true_result\n",
      "  54   3  detection  true_result\n",
      "  54   4  detection  true_result\n",
      "  54   5  detection  true_result\n",
      "  55   1  detection  true_result\n",
      "  55   2  detection  true_result\n",
      "  55   3  detection  true_result\n",
      "  55   4  detection  true_result\n",
      "  55   5  detection  true_result\n",
      "  56   1  detection  true_result\n",
      "  56   2  detection  true_result\n",
      "  56   3  detection  true_result\n",
      "  56   4  detection  true_result\n",
      "  56   5  detection  true_result\n",
      "  57   1  detection  true_result\n",
      "  57   2  detection  true_result\n",
      "  57   3  detection  true_result\n",
      "  57   4  detection  true_result\n",
      "  57   5  detection  true_result\n",
      "  58   1  detection  true_result\n",
      "  58   2  detection  true_result\n",
      "  58   3  detection  true_result\n",
      "  58   4  detection  true_result\n",
      "  58   5  detection  true_result\n",
      "  59   1  detection  true_result\n",
      "  59   2  detection  true_result\n",
      "  59   3  detection  true_result\n",
      "  59   4  detection  true_result\n",
      "  59   5  detection  true_result\n",
      "  60   1  detection  true_result\n",
      "  60   2  detection  true_result\n",
      "  60   3  detection  true_result\n",
      "  60   4  detection  true_result\n",
      "  60   5  detection  true_result\n",
      "  61   1  detection  true_result\n",
      "  61   2  detection  true_result\n",
      "  61   3  detection  true_result\n",
      "  61   4  detection  true_result\n",
      "  61   5  detection  true_result\n",
      "  62   1  detection  true_result\n",
      "  62   2  detection  true_result\n",
      "  62   3  detection  true_result\n",
      "  62   4  detection  true_result\n",
      "  62   5  detection  true_result\n",
      "  63   1  detection  true_result\n",
      "  63   2  detection  true_result\n",
      "  63   3  detection  true_result\n",
      "  63   4  detection  true_result\n",
      "  63   5  detection  true_result\n",
      "  64   1  detection  true_result\n",
      "  64   2  detection  true_result\n",
      "  64   3  detection  true_result\n",
      "  64   4  detection  true_result\n",
      "  64   5  detection  true_result\n",
      "  65   1  detection  true_result\n",
      "  65   2  detection  true_result\n",
      "  65   3  detection  true_result\n",
      "  65   4  detection  true_result\n",
      "  65   5  detection  true_result\n",
      "  66   1  detection  true_result\n",
      "  66   2  detection  true_result\n",
      "  66   3  detection  true_result\n",
      "  66   4  detection  true_result\n",
      "  66   5  detection  true_result\n",
      "  67   1  detection  true_result\n",
      "  67   2  detection  true_result\n",
      "  67   3  detection  true_result\n",
      "  67   4  detection  true_result\n",
      "  67   5  detection  true_result\n",
      "  68   1  detection  true_result\n",
      "  68   2  detection  true_result\n",
      "  68   3  detection  true_result\n",
      "  68   4  detection  true_result\n",
      "  68   5  detection  true_result\n",
      "  69   1  detection  true_result\n",
      "  69   2  detection  true_result\n",
      "  69   3  detection  true_result\n",
      "  69   4  detection  true_result\n",
      "  69   5  detection  true_result\n",
      "  70   1  detection  true_result\n",
      "  70   2  detection  true_result\n",
      "  70   3  detection  true_result\n",
      "  70   4  detection  true_result\n",
      "  70   5  detection  true_result\n",
      "  71   1  detection  true_result\n",
      "  71   2  detection  true_result\n",
      "  71   3  detection  true_result\n",
      "  71   4  detection  true_result\n",
      "  71   5  detection  true_result\n",
      "  72   1  detection  true_result\n",
      "  72   2  detection  true_result\n",
      "  72   3  detection  true_result\n",
      "  72   4  detection  true_result\n",
      "  72   5  detection  true_result\n",
      "  73   1  detection  true_result\n",
      "  73   2  detection  true_result\n",
      "  73   3  detection  true_result\n",
      "  73   4  detection  true_result\n",
      "  73   5  detection  true_result\n",
      "  74   1  detection  true_result\n",
      "  74   2  detection  true_result\n",
      "  74   3  detection  true_result\n",
      "  74   4  detection  true_result\n",
      "  74   5  detection  true_result\n",
      "  75   1  detection  true_result\n",
      "  75   2  detection  true_result\n",
      "  75   3  detection  true_result\n",
      "  75   4  detection  true_result\n",
      "  75   5  detection  true_result\n",
      "  76   1  detection  true_result\n",
      "  76   2  detection  true_result\n",
      "  76   3  detection  true_result\n",
      "  76   4  detection  true_result\n",
      "  76   5  detection  true_result\n",
      "  77   1  detection  true_result\n",
      "  77   2  detection  true_result\n",
      "  77   3  detection  true_result\n",
      "  77   4  detection  true_result\n",
      "  77   5  detection  true_result\n",
      "  78   1  detection  true_result\n",
      "  78   2  detection  true_result\n",
      "  78   3  detection  true_result\n",
      "  78   4  detection  true_result\n",
      "  78   5  detection  true_result\n",
      "  79   1  detection  true_result\n",
      "  79   2  detection  true_result\n",
      "  79   3  detection  true_result\n",
      "  79   4  detection  true_result\n",
      "  79   5  detection  true_result\n",
      "  80   1  detection  true_result\n",
      "  80   2  detection  true_result\n",
      "  80   3  detection  true_result\n",
      "  80   4  detection  true_result\n",
      "  80   5  detection  true_result\n",
      "  81   1  detection  true_result\n",
      "  81   2  detection  true_result\n",
      "  81   3  detection  true_result\n",
      "  81   4  detection  true_result\n",
      "  81   5  detection  true_result\n",
      "  82   1  detection  true_result\n",
      "  82   2  detection  true_result\n",
      "  82   3  detection  true_result\n",
      "  82   4  detection  true_result\n",
      "  82   5  detection  true_result\n",
      "  83   1  detection  true_result\n",
      "  83   2  detection  true_result\n",
      "  83   3  detection  true_result\n",
      "  83   4  detection  true_result\n",
      "  83   5  detection  true_result\n",
      "  84   1  detection  true_result\n",
      "  84   2  detection  true_result\n",
      "  84   3  detection  true_result\n",
      "  84   4  detection  true_result\n",
      "  84   5  detection  true_result\n",
      "  85   1  detection  true_result\n",
      "  85   2  detection  true_result\n",
      "  85   3  detection  true_result\n",
      "  85   4  detection  true_result\n",
      "  85   5  detection  true_result\n",
      "  86   1  detection  true_result\n",
      "  86   2  detection  true_result\n",
      "  86   3  detection  true_result\n",
      "  86   4  detection  true_result\n",
      "  86   5  detection  true_result\n",
      "  87   1  detection  true_result\n",
      "  87   2  detection  true_result\n",
      "  87   3  detection  true_result\n",
      "  87   4  detection  true_result\n",
      "  87   5  detection  true_result\n",
      "  88   1  detection  true_result\n",
      "  88   2  detection  true_result\n",
      "  88   3  detection  true_result\n",
      "  88   4  detection  true_result\n",
      "  88   5  detection  true_result\n",
      "  89   1  detection  true_result\n",
      "  89   2  detection  true_result\n",
      "  89   3  detection  true_result\n",
      "  89   4  detection  true_result\n",
      "  89   5  detection  true_result\n",
      "  90   1  detection  true_result\n",
      "  90   2  detection  true_result\n",
      "  90   3  detection  true_result\n",
      "  90   4  detection  true_result\n",
      "  90   5  detection  true_result\n",
      "  91   1  detection  true_result\n",
      "  91   2  detection  true_result\n",
      "  91   3  detection  true_result\n",
      "  91   4  detection  true_result\n",
      "  91   5  detection  true_result\n",
      "  92   1  detection  true_result\n",
      "  92   2  detection  true_result\n",
      "  92   3  detection  true_result\n",
      "  92   4  detection  true_result\n",
      "  92   5  detection  true_result\n",
      "  93   1  detection  true_result\n",
      "  93   2  detection  true_result\n",
      "  93   3  detection  true_result\n",
      "  93   4  detection  true_result\n",
      "  93   5  detection  true_result\n",
      "  94   1  detection  true_result\n",
      "  94   2  detection  true_result\n",
      "  94   3  detection  true_result\n",
      "  94   4  detection  true_result\n",
      "  94   5  detection  true_result\n",
      "  95   1  detection  true_result\n",
      "  95   2  detection  true_result\n",
      "  95   3  detection  true_result\n",
      "  95   4  detection  true_result\n",
      "  95   5  detection  true_result\n",
      "  96   1  detection  true_result\n",
      "  96   2  detection  true_result\n",
      "  96   3  detection  true_result\n",
      "  96   4  detection  true_result\n",
      "  96   5  detection  true_result\n",
      "  97   1  detection  true_result\n",
      "  97   2  detection  true_result\n",
      "  97   3  detection  true_result\n",
      "  97   4  detection  true_result\n",
      "  97   5  detection  true_result\n",
      "  98   1  detection  true_result\n",
      "  98   2  detection  true_result\n",
      "  98   3  detection  true_result\n",
      "  98   4  detection  true_result\n",
      "  98   5  detection  true_result\n",
      "  99   1  detection  true_result\n",
      "  99   2  detection  true_result\n",
      "  99   3  detection  true_result\n",
      "  99   4  detection  true_result\n",
      "  99   5  detection  true_result\n",
      "  100   1  detection  true_result\n",
      "  100   2  detection  true_result\n",
      "  100   3  detection  true_result\n",
      "  100   4  detection  true_result\n",
      "  100   5  detection  true_result\n"
     ]
    },
    {
     "name": "stderr",
     "output_type": "stream",
     "text": [
      "Warning message:\n",
      "\"Number of logged events: 1008\"\n"
     ]
    }
   ],
   "source": [
    "# Impute remaining variables using MICE with specified methods\n",
    "imputed_data <- mice(arbeitstagebuch_impute, m = 5, maxit = 100, method = method, seed = 123, printFlag = TRUE)\n",
    "\n",
    "# Complete the data\n",
    "completed_data <- complete(imputed_data)"
   ]
  },
  {
   "cell_type": "code",
   "execution_count": 23,
   "metadata": {
    "vscode": {
     "languageId": "r"
    }
   },
   "outputs": [
    {
     "data": {
      "text/plain": [
       "\n",
       "ausgeglichen        muede         <NA> \n",
       "         271           20           69 "
      ]
     },
     "metadata": {},
     "output_type": "display_data"
    },
    {
     "data": {
      "text/plain": [
       "\n",
       "Biest    Lu  <NA> \n",
       "   46   266    48 "
      ]
     },
     "metadata": {},
     "output_type": "display_data"
    }
   ],
   "source": [
    "# Check imputed values for specific columns\n",
    "table(completed_data$handler_3_mood, useNA = \"ifany\")\n",
    "table(completed_data$dog_5, useNA = \"ifany\")\n"
   ]
  },
  {
   "cell_type": "code",
   "execution_count": 24,
   "metadata": {
    "vscode": {
     "languageId": "r"
    }
   },
   "outputs": [
    {
     "data": {
      "text/html": [
       "117"
      ],
      "text/latex": [
       "117"
      ],
      "text/markdown": [
       "117"
      ],
      "text/plain": [
       "[1] 117"
      ]
     },
     "metadata": {},
     "output_type": "display_data"
    },
    {
     "data": {
      "text/html": [
       "<style>\n",
       ".dl-inline {width: auto; margin:0; padding: 0}\n",
       ".dl-inline>dt, .dl-inline>dd {float: none; width: auto; display: inline-block}\n",
       ".dl-inline>dt::after {content: \":\\0020\"; padding-right: .5ex}\n",
       ".dl-inline>dt:not(:first-of-type) {padding-left: .5ex}\n",
       "</style><dl class=dl-inline><dt>setup_id</dt><dd>0</dd><dt>date</dt><dd>0</dd><dt>weather</dt><dd>0</dd><dt>supervisor</dt><dd>0</dd><dt>number_of_boards</dt><dd>0</dd><dt>max_positive_random</dt><dd>0</dd><dt>random_positive_count</dt><dd>0</dd><dt>max_negative_random</dt><dd>0</dd><dt>random_negative_count</dt><dd>0</dd><dt>handler_1</dt><dd>0</dd><dt>handler_1_mood</dt><dd>0</dd><dt>handler_2</dt><dd>0</dd><dt>handler_2_mood</dt><dd>0</dd><dt>handler_3</dt><dd>0</dd><dt>handler_3_mood</dt><dd>69</dd><dt>dog_1</dt><dd>0</dd><dt>dog_1_mood</dt><dd>0</dd><dt>dog_2</dt><dd>0</dd><dt>dog_2_mood</dt><dd>0</dd><dt>dog_3</dt><dd>0</dd><dt>dog_3_mood</dt><dd>0</dd><dt>dog_4</dt><dd>0</dd><dt>dog_4_mood</dt><dd>0</dd><dt>dog_5</dt><dd>48</dd><dt>dog_5_mood</dt><dd>0</dd><dt>board_number</dt><dd>0</dd><dt>dog</dt><dd>0</dd><dt>detection</dt><dd>0</dd><dt>true_result</dt><dd>0</dd></dl>\n"
      ],
      "text/latex": [
       "\\begin{description*}\n",
       "\\item[setup\\textbackslash{}\\_id] 0\n",
       "\\item[date] 0\n",
       "\\item[weather] 0\n",
       "\\item[supervisor] 0\n",
       "\\item[number\\textbackslash{}\\_of\\textbackslash{}\\_boards] 0\n",
       "\\item[max\\textbackslash{}\\_positive\\textbackslash{}\\_random] 0\n",
       "\\item[random\\textbackslash{}\\_positive\\textbackslash{}\\_count] 0\n",
       "\\item[max\\textbackslash{}\\_negative\\textbackslash{}\\_random] 0\n",
       "\\item[random\\textbackslash{}\\_negative\\textbackslash{}\\_count] 0\n",
       "\\item[handler\\textbackslash{}\\_1] 0\n",
       "\\item[handler\\textbackslash{}\\_1\\textbackslash{}\\_mood] 0\n",
       "\\item[handler\\textbackslash{}\\_2] 0\n",
       "\\item[handler\\textbackslash{}\\_2\\textbackslash{}\\_mood] 0\n",
       "\\item[handler\\textbackslash{}\\_3] 0\n",
       "\\item[handler\\textbackslash{}\\_3\\textbackslash{}\\_mood] 69\n",
       "\\item[dog\\textbackslash{}\\_1] 0\n",
       "\\item[dog\\textbackslash{}\\_1\\textbackslash{}\\_mood] 0\n",
       "\\item[dog\\textbackslash{}\\_2] 0\n",
       "\\item[dog\\textbackslash{}\\_2\\textbackslash{}\\_mood] 0\n",
       "\\item[dog\\textbackslash{}\\_3] 0\n",
       "\\item[dog\\textbackslash{}\\_3\\textbackslash{}\\_mood] 0\n",
       "\\item[dog\\textbackslash{}\\_4] 0\n",
       "\\item[dog\\textbackslash{}\\_4\\textbackslash{}\\_mood] 0\n",
       "\\item[dog\\textbackslash{}\\_5] 48\n",
       "\\item[dog\\textbackslash{}\\_5\\textbackslash{}\\_mood] 0\n",
       "\\item[board\\textbackslash{}\\_number] 0\n",
       "\\item[dog] 0\n",
       "\\item[detection] 0\n",
       "\\item[true\\textbackslash{}\\_result] 0\n",
       "\\end{description*}\n"
      ],
      "text/markdown": [
       "setup_id\n",
       ":   0date\n",
       ":   0weather\n",
       ":   0supervisor\n",
       ":   0number_of_boards\n",
       ":   0max_positive_random\n",
       ":   0random_positive_count\n",
       ":   0max_negative_random\n",
       ":   0random_negative_count\n",
       ":   0handler_1\n",
       ":   0handler_1_mood\n",
       ":   0handler_2\n",
       ":   0handler_2_mood\n",
       ":   0handler_3\n",
       ":   0handler_3_mood\n",
       ":   69dog_1\n",
       ":   0dog_1_mood\n",
       ":   0dog_2\n",
       ":   0dog_2_mood\n",
       ":   0dog_3\n",
       ":   0dog_3_mood\n",
       ":   0dog_4\n",
       ":   0dog_4_mood\n",
       ":   0dog_5\n",
       ":   48dog_5_mood\n",
       ":   0board_number\n",
       ":   0dog\n",
       ":   0detection\n",
       ":   0true_result\n",
       ":   0\n",
       "\n"
      ],
      "text/plain": [
       "             setup_id                  date               weather \n",
       "                    0                     0                     0 \n",
       "           supervisor      number_of_boards   max_positive_random \n",
       "                    0                     0                     0 \n",
       "random_positive_count   max_negative_random random_negative_count \n",
       "                    0                     0                     0 \n",
       "            handler_1        handler_1_mood             handler_2 \n",
       "                    0                     0                     0 \n",
       "       handler_2_mood             handler_3        handler_3_mood \n",
       "                    0                     0                    69 \n",
       "                dog_1            dog_1_mood                 dog_2 \n",
       "                    0                     0                     0 \n",
       "           dog_2_mood                 dog_3            dog_3_mood \n",
       "                    0                     0                     0 \n",
       "                dog_4            dog_4_mood                 dog_5 \n",
       "                    0                     0                    48 \n",
       "           dog_5_mood          board_number                   dog \n",
       "                    0                     0                     0 \n",
       "            detection           true_result \n",
       "                    0                     0 "
      ]
     },
     "metadata": {},
     "output_type": "display_data"
    }
   ],
   "source": [
    "# Check for any remaining missing values\n",
    "sum(is.na(completed_data))\n",
    "\n",
    "# Check specific columns for remaining missing values\n",
    "colSums(is.na(completed_data))"
   ]
  },
  {
   "cell_type": "markdown",
   "metadata": {},
   "source": [
    "In this analysis, we aim to impute missing values for the categorical variables handler_3_mood and dog_5 in a dataset. The goal is to maintain the original distribution of the levels within each variable, ensuring that the imputed values reflect the true proportions of the observed data. As the MICE imputation method encountered issues, we chose to manually impute missing values by randomly sampling from the existing levels based on their observed frequencies. This approach helps preserve the integrity of the data distribution while filling in the missing values."
   ]
  },
  {
   "cell_type": "code",
   "execution_count": 25,
   "metadata": {
    "vscode": {
     "languageId": "r"
    }
   },
   "outputs": [],
   "source": [
    "# For `handler_3_mood`\n",
    "handler_3_mood_dist <- table(completed_data$handler_3_mood) / sum(!is.na(completed_data$handler_3_mood))\n",
    "completed_data$handler_3_mood[is.na(completed_data$handler_3_mood)] <- sample(names(handler_3_mood_dist), \n",
    "  sum(is.na(completed_data$handler_3_mood)), \n",
    "  replace = TRUE, \n",
    "  prob = handler_3_mood_dist)\n",
    "\n",
    "# For `dog_5`\n",
    "dog_5_dist <- table(completed_data$dog_5) / sum(!is.na(completed_data$dog_5))\n",
    "completed_data$dog_5[is.na(completed_data$dog_5)] <- sample(names(dog_5_dist), \n",
    "  sum(is.na(completed_data$dog_5)), \n",
    "  replace = TRUE, \n",
    "  prob = dog_5_dist)\n"
   ]
  },
  {
   "cell_type": "code",
   "execution_count": 26,
   "metadata": {
    "vscode": {
     "languageId": "r"
    }
   },
   "outputs": [
    {
     "data": {
      "text/html": [
       "0"
      ],
      "text/latex": [
       "0"
      ],
      "text/markdown": [
       "0"
      ],
      "text/plain": [
       "[1] 0"
      ]
     },
     "metadata": {},
     "output_type": "display_data"
    }
   ],
   "source": [
    "# Check for any remaining missing values\n",
    "sum(is.na(completed_data))\n"
   ]
  },
  {
   "cell_type": "code",
   "execution_count": 27,
   "metadata": {
    "vscode": {
     "languageId": "r"
    }
   },
   "outputs": [
    {
     "data": {
      "text/html": [
       "<style>\n",
       ".list-inline {list-style: none; margin:0; padding: 0}\n",
       ".list-inline>li {display: inline-block}\n",
       ".list-inline>li:not(:last-child)::after {content: \"\\00b7\"; padding: 0 .5ex}\n",
       "</style>\n",
       "<ol class=list-inline><li>'setup_id'</li><li>'date'</li><li>'weather'</li><li>'supervisor'</li><li>'number_of_boards'</li><li>'max_positive_random'</li><li>'random_positive_count'</li><li>'max_negative_random'</li><li>'random_negative_count'</li><li>'handler_1'</li><li>'handler_1_mood'</li><li>'handler_2'</li><li>'handler_2_mood'</li><li>'handler_3'</li><li>'handler_3_mood'</li><li>'dog_1'</li><li>'dog_1_mood'</li><li>'dog_2'</li><li>'dog_2_mood'</li><li>'dog_3'</li><li>'dog_3_mood'</li><li>'dog_4'</li><li>'dog_4_mood'</li><li>'dog_5'</li><li>'dog_5_mood'</li><li>'board_number'</li><li>'dog'</li><li>'detection'</li><li>'true_result'</li></ol>\n"
      ],
      "text/latex": [
       "\\begin{enumerate*}\n",
       "\\item 'setup\\_id'\n",
       "\\item 'date'\n",
       "\\item 'weather'\n",
       "\\item 'supervisor'\n",
       "\\item 'number\\_of\\_boards'\n",
       "\\item 'max\\_positive\\_random'\n",
       "\\item 'random\\_positive\\_count'\n",
       "\\item 'max\\_negative\\_random'\n",
       "\\item 'random\\_negative\\_count'\n",
       "\\item 'handler\\_1'\n",
       "\\item 'handler\\_1\\_mood'\n",
       "\\item 'handler\\_2'\n",
       "\\item 'handler\\_2\\_mood'\n",
       "\\item 'handler\\_3'\n",
       "\\item 'handler\\_3\\_mood'\n",
       "\\item 'dog\\_1'\n",
       "\\item 'dog\\_1\\_mood'\n",
       "\\item 'dog\\_2'\n",
       "\\item 'dog\\_2\\_mood'\n",
       "\\item 'dog\\_3'\n",
       "\\item 'dog\\_3\\_mood'\n",
       "\\item 'dog\\_4'\n",
       "\\item 'dog\\_4\\_mood'\n",
       "\\item 'dog\\_5'\n",
       "\\item 'dog\\_5\\_mood'\n",
       "\\item 'board\\_number'\n",
       "\\item 'dog'\n",
       "\\item 'detection'\n",
       "\\item 'true\\_result'\n",
       "\\end{enumerate*}\n"
      ],
      "text/markdown": [
       "1. 'setup_id'\n",
       "2. 'date'\n",
       "3. 'weather'\n",
       "4. 'supervisor'\n",
       "5. 'number_of_boards'\n",
       "6. 'max_positive_random'\n",
       "7. 'random_positive_count'\n",
       "8. 'max_negative_random'\n",
       "9. 'random_negative_count'\n",
       "10. 'handler_1'\n",
       "11. 'handler_1_mood'\n",
       "12. 'handler_2'\n",
       "13. 'handler_2_mood'\n",
       "14. 'handler_3'\n",
       "15. 'handler_3_mood'\n",
       "16. 'dog_1'\n",
       "17. 'dog_1_mood'\n",
       "18. 'dog_2'\n",
       "19. 'dog_2_mood'\n",
       "20. 'dog_3'\n",
       "21. 'dog_3_mood'\n",
       "22. 'dog_4'\n",
       "23. 'dog_4_mood'\n",
       "24. 'dog_5'\n",
       "25. 'dog_5_mood'\n",
       "26. 'board_number'\n",
       "27. 'dog'\n",
       "28. 'detection'\n",
       "29. 'true_result'\n",
       "\n",
       "\n"
      ],
      "text/plain": [
       " [1] \"setup_id\"              \"date\"                  \"weather\"              \n",
       " [4] \"supervisor\"            \"number_of_boards\"      \"max_positive_random\"  \n",
       " [7] \"random_positive_count\" \"max_negative_random\"   \"random_negative_count\"\n",
       "[10] \"handler_1\"             \"handler_1_mood\"        \"handler_2\"            \n",
       "[13] \"handler_2_mood\"        \"handler_3\"             \"handler_3_mood\"       \n",
       "[16] \"dog_1\"                 \"dog_1_mood\"            \"dog_2\"                \n",
       "[19] \"dog_2_mood\"            \"dog_3\"                 \"dog_3_mood\"           \n",
       "[22] \"dog_4\"                 \"dog_4_mood\"            \"dog_5\"                \n",
       "[25] \"dog_5_mood\"            \"board_number\"          \"dog\"                  \n",
       "[28] \"detection\"             \"true_result\"          "
      ]
     },
     "metadata": {},
     "output_type": "display_data"
    }
   ],
   "source": [
    "colnames(completed_data)"
   ]
  },
  {
   "cell_type": "code",
   "execution_count": 28,
   "metadata": {
    "vscode": {
     "languageId": "r"
    }
   },
   "outputs": [
    {
     "data": {
      "text/plain": [
       "    setup_id          date                  weather     supervisor \n",
       " Min.   : 1.00   Min.   :2024-05-17   bewlkt    :188   A. B. : 33  \n",
       " 1st Qu.: 5.00   1st Qu.:2024-05-22   regnerisch:101   C. W. :241  \n",
       " Median :12.00   Median :2024-06-08   sonnig    : 71   F. B. : 15  \n",
       " Mean   :11.38   Mean   :2024-06-16                    F. S. : 66  \n",
       " 3rd Qu.:17.00   3rd Qu.:2024-07-05                    P.  H.:  5  \n",
       " Max.   :24.00   Max.   :2024-08-31                                \n",
       " number_of_boards max_positive_random random_positive_count max_negative_random\n",
       " Min.   : 20.00   Min.   : 1.000      Min.   :1.0           Min.   : 1.000     \n",
       " 1st Qu.: 60.00   1st Qu.: 6.000      1st Qu.:2.0           1st Qu.: 6.000     \n",
       " Median : 75.00   Median :10.000      Median :3.0           Median :10.000     \n",
       " Mean   : 77.26   Mean   : 7.853      Mean   :3.4           Mean   : 7.844     \n",
       " 3rd Qu.:100.00   3rd Qu.:10.000      3rd Qu.:4.0           3rd Qu.:10.000     \n",
       " Max.   :111.00   Max.   :11.000      Max.   :7.0           Max.   :11.000     \n",
       " random_negative_count handler_1        handler_1_mood handler_2  \n",
       " Min.   :1.000         A. M.:360   ausgeglichen:321    C. W.: 63  \n",
       " 1st Qu.:3.000                     krank       : 34    F. W.:297  \n",
       " Median :3.000                     muede       :  5               \n",
       " Mean   :3.886                                                    \n",
       " 3rd Qu.:4.000                                                    \n",
       " Max.   :9.000                                                    \n",
       "      handler_2_mood handler_3        handler_3_mood   dog_1    \n",
       " ausgeglichen:273    F. F.:360   ausgeglichen:336    Aaron:314  \n",
       " gestresst   : 41                muede       : 24    Lu   : 46  \n",
       " krank       : 21                                               \n",
       " muede       : 25                                               \n",
       "                                                                \n",
       "                                                                \n",
       "        dog_1_mood    dog_2            dog_2_mood    dog_3    \n",
       " ausgeglichen:340   Aaron: 41   ausgeglichen:360   Aaron:  5  \n",
       " muede       : 20   Loki :319                      Aki  :314  \n",
       "                                                   Loki : 41  \n",
       "                                                              \n",
       "                                                              \n",
       "                                                              \n",
       "        dog_3_mood    dog_4            dog_4_mood    dog_5    \n",
       " ausgeglichen:360   Aki  : 46   ausgeglichen:360   Biest: 54  \n",
       "                    Biest:251                      Lu   :306  \n",
       "                    Heidi: 63                                 \n",
       "                                                              \n",
       "                                                              \n",
       "                                                              \n",
       "        dog_5_mood   board_number      dog        detection     true_result \n",
       " ausgeglichen:360   Min.   : 1.00   Aaron:73   Positive:295   Positive:294  \n",
       "                    1st Qu.:17.00   Aki  :73   Negative: 65   Negative: 66  \n",
       "                    Median :37.00   Biest:57                                \n",
       "                    Mean   :38.82   Heidi:10                                \n",
       "                    3rd Qu.:59.00   Loki :74                                \n",
       "                    Max.   :88.00   Lu   :73                                "
      ]
     },
     "metadata": {},
     "output_type": "display_data"
    }
   ],
   "source": [
    "# Summary statistics for the numeric and factor variables\n",
    "summary(completed_data %>% select_if(~!is.list(.)))"
   ]
  },
  {
   "cell_type": "code",
   "execution_count": 58,
   "metadata": {
    "vscode": {
     "languageId": "r"
    }
   },
   "outputs": [],
   "source": [
    "# Prepare data for pie chart of 'detection'\n",
    "detection_data <- completed_data %>%\n",
    "  count(detection) %>%\n",
    "  mutate(perc = n / sum(n) * 100,\n",
    "         label = paste0(round(perc, 1), \"%\"))\n",
    "\n",
    "# Prepare data for pie chart of 'true_result'\n",
    "true_result_data <- completed_data %>%\n",
    "  count(true_result) %>%\n",
    "  mutate(perc = n / sum(n) * 100,\n",
    "         label = paste0(round(perc, 1), \"%\"))\n"
   ]
  },
  {
   "cell_type": "code",
   "execution_count": 61,
   "metadata": {
    "vscode": {
     "languageId": "r"
    }
   },
   "outputs": [
    {
     "data": {
      "image/png": "[encoded data removed]",
      "text/plain": [
       "plot without title"
      ]
     },
     "metadata": {
      "image/png": {
       "height": 360,
       "width": 720
      }
     },
     "output_type": "display_data"
    }
   ],
   "source": [
    "# Plot pie chart for 'detection' with percentages\n",
    "plot_detection <- ggplot(detection_data, aes(x = \"\", y = perc, fill = detection)) +\n",
    "  geom_bar(stat = \"identity\", width = 1) +\n",
    "  coord_polar(theta = \"y\") +\n",
    "  geom_text(aes(label = label), position = position_stack(vjust = 0.5)) +\n",
    "  labs(title = \"Detection Pie Chart\") +\n",
    "  theme_void()\n",
    "\n",
    "# Plot pie chart for 'true_result' with percentages\n",
    "plot_true_result <- ggplot(true_result_data, aes(x = \"\", y = perc, fill = true_result)) +\n",
    "  geom_bar(stat = \"identity\", width = 1) +\n",
    "  coord_polar(theta = \"y\") +\n",
    "  geom_text(aes(label = label), position = position_stack(vjust = 0.5)) +\n",
    "  labs(title = \"True Result Pie Chart\") +\n",
    "  theme_void()\n",
    "\n",
    "# Arrange both pie charts in a grid\n",
    "grid_0 <- grid.arrange(plot_detection, plot_true_result, nrow = 1)\n",
    "\n",
    "# Save the grid_1 as an EPS file using ggsave\n",
    "ggsave(\"detection_rates_plots.eps\", plot = grid_0, device = \"eps\", width = 10, height = 5)"
   ]
  },
  {
   "cell_type": "markdown",
   "metadata": {},
   "source": [
    "### Potential confounders"
   ]
  },
  {
   "cell_type": "code",
   "execution_count": 29,
   "metadata": {
    "vscode": {
     "languageId": "r"
    }
   },
   "outputs": [],
   "source": [
    "# Function to analyze potential confounders for their impact on detection performance\n",
    "analyze_confounders <- function(data, confounder_var) {\n",
    "  # Create a contingency table with confounder variable, detection, and true_result\n",
    "  table_data <- data %>%\n",
    "    dplyr::group_by(!!sym(confounder_var), detection, true_result) %>%\n",
    "    dplyr::summarise(count = n(), .groups = \"drop\")  # Add .groups = \"drop\" to prevent the warning\n",
    "  \n",
    "  # Calculate detection rate, false positive rate, and false negative rate\n",
    "  rates <- data %>%\n",
    "    dplyr::group_by(!!sym(confounder_var)) %>%\n",
    "    dplyr::summarise(\n",
    "      detection_rate = mean(detection == 'Positive' & true_result == 'Positive'),  # True positive rate\n",
    "      false_neg_rate = mean(detection == 'Negative' & true_result == 'Positive'),  # False negative rate\n",
    "      false_pos_rate = mean(detection == 'Positive' & true_result == 'Negative'),  # False positive rate\n",
    "      .groups = \"drop\"  # Add .groups = \"drop\" to prevent the warning\n",
    "    )\n",
    "  \n",
    "  # Merge rates with contingency table for complete view\n",
    "  return(list(contingency_table = table_data, rates = rates))\n",
    "}\n"
   ]
  },
  {
   "cell_type": "code",
   "execution_count": 30,
   "metadata": {
    "vscode": {
     "languageId": "r"
    }
   },
   "outputs": [],
   "source": [
    "# Apply the function to potential confounders\n",
    "confounders <- c(\"weather\", \"supervisor\", \"handler_1_mood\", \"handler_2_mood\",\n",
    "                \"handler_3_mood\", \"dog_1_mood\", \"dog_2_mood\", \"dog_3_mood\",\n",
    "                \"dog_4_mood\", \"dog_5_mood\")\n",
    "results <- lapply(confounders, function(var) analyze_confounders(completed_data, var))"
   ]
  },
  {
   "cell_type": "code",
   "execution_count": 31,
   "metadata": {
    "vscode": {
     "languageId": "r"
    }
   },
   "outputs": [
    {
     "data": {
      "text/html": [
       "<dl>\n",
       "\t<dt>$weather</dt>\n",
       "\t\t<dd><dl>\n",
       "\t<dt>$contingency_table</dt>\n",
       "\t\t<dd><table class=\"dataframe\">\n",
       "<caption>A tibble: 7 x 4</caption>\n",
       "<thead>\n",
       "\t<tr><th scope=col>weather</th><th scope=col>detection</th><th scope=col>true_result</th><th scope=col>count</th></tr>\n",
       "\t<tr><th scope=col>&lt;fct&gt;</th><th scope=col>&lt;fct&gt;</th><th scope=col>&lt;fct&gt;</th><th scope=col>&lt;int&gt;</th></tr>\n",
       "</thead>\n",
       "<tbody>\n",
       "\t<tr><td>bewlkt    </td><td>Positive</td><td>Positive</td><td>156</td></tr>\n",
       "\t<tr><td>bewlkt    </td><td>Positive</td><td>Negative</td><td>  1</td></tr>\n",
       "\t<tr><td>bewlkt    </td><td>Negative</td><td>Negative</td><td> 31</td></tr>\n",
       "\t<tr><td>regnerisch</td><td>Positive</td><td>Positive</td><td> 82</td></tr>\n",
       "\t<tr><td>regnerisch</td><td>Negative</td><td>Negative</td><td> 19</td></tr>\n",
       "\t<tr><td>sonnig    </td><td>Positive</td><td>Positive</td><td> 56</td></tr>\n",
       "\t<tr><td>sonnig    </td><td>Negative</td><td>Negative</td><td> 15</td></tr>\n",
       "</tbody>\n",
       "</table>\n",
       "</dd>\n",
       "\t<dt>$rates</dt>\n",
       "\t\t<dd><table class=\"dataframe\">\n",
       "<caption>A tibble: 3 x 4</caption>\n",
       "<thead>\n",
       "\t<tr><th scope=col>weather</th><th scope=col>detection_rate</th><th scope=col>false_neg_rate</th><th scope=col>false_pos_rate</th></tr>\n",
       "\t<tr><th scope=col>&lt;fct&gt;</th><th scope=col>&lt;dbl&gt;</th><th scope=col>&lt;dbl&gt;</th><th scope=col>&lt;dbl&gt;</th></tr>\n",
       "</thead>\n",
       "<tbody>\n",
       "\t<tr><td>bewlkt    </td><td>0.8297872</td><td>0</td><td>0.005319149</td></tr>\n",
       "\t<tr><td>regnerisch</td><td>0.8118812</td><td>0</td><td>0.000000000</td></tr>\n",
       "\t<tr><td>sonnig    </td><td>0.7887324</td><td>0</td><td>0.000000000</td></tr>\n",
       "</tbody>\n",
       "</table>\n",
       "</dd>\n",
       "</dl>\n",
       "</dd>\n",
       "\t<dt>$supervisor</dt>\n",
       "\t\t<dd><dl>\n",
       "\t<dt>$contingency_table</dt>\n",
       "\t\t<dd><table class=\"dataframe\">\n",
       "<caption>A tibble: 9 x 4</caption>\n",
       "<thead>\n",
       "\t<tr><th scope=col>supervisor</th><th scope=col>detection</th><th scope=col>true_result</th><th scope=col>count</th></tr>\n",
       "\t<tr><th scope=col>&lt;fct&gt;</th><th scope=col>&lt;fct&gt;</th><th scope=col>&lt;fct&gt;</th><th scope=col>&lt;int&gt;</th></tr>\n",
       "</thead>\n",
       "<tbody>\n",
       "\t<tr><td>A. B. </td><td>Positive</td><td>Positive</td><td> 20</td></tr>\n",
       "\t<tr><td>A. B. </td><td>Negative</td><td>Negative</td><td> 13</td></tr>\n",
       "\t<tr><td>C. W. </td><td>Positive</td><td>Positive</td><td>197</td></tr>\n",
       "\t<tr><td>C. W. </td><td>Positive</td><td>Negative</td><td>  1</td></tr>\n",
       "\t<tr><td>C. W. </td><td>Negative</td><td>Negative</td><td> 43</td></tr>\n",
       "\t<tr><td>F. B. </td><td>Positive</td><td>Positive</td><td> 15</td></tr>\n",
       "\t<tr><td>F. S. </td><td>Positive</td><td>Positive</td><td> 57</td></tr>\n",
       "\t<tr><td>F. S. </td><td>Negative</td><td>Negative</td><td>  9</td></tr>\n",
       "\t<tr><td>P.  H.</td><td>Positive</td><td>Positive</td><td>  5</td></tr>\n",
       "</tbody>\n",
       "</table>\n",
       "</dd>\n",
       "\t<dt>$rates</dt>\n",
       "\t\t<dd><table class=\"dataframe\">\n",
       "<caption>A tibble: 5 x 4</caption>\n",
       "<thead>\n",
       "\t<tr><th scope=col>supervisor</th><th scope=col>detection_rate</th><th scope=col>false_neg_rate</th><th scope=col>false_pos_rate</th></tr>\n",
       "\t<tr><th scope=col>&lt;fct&gt;</th><th scope=col>&lt;dbl&gt;</th><th scope=col>&lt;dbl&gt;</th><th scope=col>&lt;dbl&gt;</th></tr>\n",
       "</thead>\n",
       "<tbody>\n",
       "\t<tr><td>A. B. </td><td>0.6060606</td><td>0</td><td>0.000000000</td></tr>\n",
       "\t<tr><td>C. W. </td><td>0.8174274</td><td>0</td><td>0.004149378</td></tr>\n",
       "\t<tr><td>F. B. </td><td>1.0000000</td><td>0</td><td>0.000000000</td></tr>\n",
       "\t<tr><td>F. S. </td><td>0.8636364</td><td>0</td><td>0.000000000</td></tr>\n",
       "\t<tr><td>P.  H.</td><td>1.0000000</td><td>0</td><td>0.000000000</td></tr>\n",
       "</tbody>\n",
       "</table>\n",
       "</dd>\n",
       "</dl>\n",
       "</dd>\n",
       "\t<dt>$handler_1_mood</dt>\n",
       "\t\t<dd><dl>\n",
       "\t<dt>$contingency_table</dt>\n",
       "\t\t<dd><table class=\"dataframe\">\n",
       "<caption>A tibble: 6 x 4</caption>\n",
       "<thead>\n",
       "\t<tr><th scope=col>handler_1_mood</th><th scope=col>detection</th><th scope=col>true_result</th><th scope=col>count</th></tr>\n",
       "\t<tr><th scope=col>&lt;fct&gt;</th><th scope=col>&lt;fct&gt;</th><th scope=col>&lt;fct&gt;</th><th scope=col>&lt;int&gt;</th></tr>\n",
       "</thead>\n",
       "<tbody>\n",
       "\t<tr><td>ausgeglichen</td><td>Positive</td><td>Positive</td><td>264</td></tr>\n",
       "\t<tr><td>ausgeglichen</td><td>Positive</td><td>Negative</td><td>  1</td></tr>\n",
       "\t<tr><td>ausgeglichen</td><td>Negative</td><td>Negative</td><td> 56</td></tr>\n",
       "\t<tr><td>krank       </td><td>Positive</td><td>Positive</td><td> 25</td></tr>\n",
       "\t<tr><td>krank       </td><td>Negative</td><td>Negative</td><td>  9</td></tr>\n",
       "\t<tr><td>muede       </td><td>Positive</td><td>Positive</td><td>  5</td></tr>\n",
       "</tbody>\n",
       "</table>\n",
       "</dd>\n",
       "\t<dt>$rates</dt>\n",
       "\t\t<dd><table class=\"dataframe\">\n",
       "<caption>A tibble: 3 x 4</caption>\n",
       "<thead>\n",
       "\t<tr><th scope=col>handler_1_mood</th><th scope=col>detection_rate</th><th scope=col>false_neg_rate</th><th scope=col>false_pos_rate</th></tr>\n",
       "\t<tr><th scope=col>&lt;fct&gt;</th><th scope=col>&lt;dbl&gt;</th><th scope=col>&lt;dbl&gt;</th><th scope=col>&lt;dbl&gt;</th></tr>\n",
       "</thead>\n",
       "<tbody>\n",
       "\t<tr><td>ausgeglichen</td><td>0.8224299</td><td>0</td><td>0.003115265</td></tr>\n",
       "\t<tr><td>krank       </td><td>0.7352941</td><td>0</td><td>0.000000000</td></tr>\n",
       "\t<tr><td>muede       </td><td>1.0000000</td><td>0</td><td>0.000000000</td></tr>\n",
       "</tbody>\n",
       "</table>\n",
       "</dd>\n",
       "</dl>\n",
       "</dd>\n",
       "\t<dt>$handler_2_mood</dt>\n",
       "\t\t<dd><dl>\n",
       "\t<dt>$contingency_table</dt>\n",
       "\t\t<dd><table class=\"dataframe\">\n",
       "<caption>A tibble: 8 x 4</caption>\n",
       "<thead>\n",
       "\t<tr><th scope=col>handler_2_mood</th><th scope=col>detection</th><th scope=col>true_result</th><th scope=col>count</th></tr>\n",
       "\t<tr><th scope=col>&lt;fct&gt;</th><th scope=col>&lt;fct&gt;</th><th scope=col>&lt;fct&gt;</th><th scope=col>&lt;int&gt;</th></tr>\n",
       "</thead>\n",
       "<tbody>\n",
       "\t<tr><td>ausgeglichen</td><td>Positive</td><td>Positive</td><td>217</td></tr>\n",
       "\t<tr><td>ausgeglichen</td><td>Positive</td><td>Negative</td><td>  1</td></tr>\n",
       "\t<tr><td>ausgeglichen</td><td>Negative</td><td>Negative</td><td> 55</td></tr>\n",
       "\t<tr><td>gestresst   </td><td>Positive</td><td>Positive</td><td> 32</td></tr>\n",
       "\t<tr><td>gestresst   </td><td>Negative</td><td>Negative</td><td>  9</td></tr>\n",
       "\t<tr><td>krank       </td><td>Positive</td><td>Positive</td><td> 20</td></tr>\n",
       "\t<tr><td>krank       </td><td>Negative</td><td>Negative</td><td>  1</td></tr>\n",
       "\t<tr><td>muede       </td><td>Positive</td><td>Positive</td><td> 25</td></tr>\n",
       "</tbody>\n",
       "</table>\n",
       "</dd>\n",
       "\t<dt>$rates</dt>\n",
       "\t\t<dd><table class=\"dataframe\">\n",
       "<caption>A tibble: 4 x 4</caption>\n",
       "<thead>\n",
       "\t<tr><th scope=col>handler_2_mood</th><th scope=col>detection_rate</th><th scope=col>false_neg_rate</th><th scope=col>false_pos_rate</th></tr>\n",
       "\t<tr><th scope=col>&lt;fct&gt;</th><th scope=col>&lt;dbl&gt;</th><th scope=col>&lt;dbl&gt;</th><th scope=col>&lt;dbl&gt;</th></tr>\n",
       "</thead>\n",
       "<tbody>\n",
       "\t<tr><td>ausgeglichen</td><td>0.7948718</td><td>0</td><td>0.003663004</td></tr>\n",
       "\t<tr><td>gestresst   </td><td>0.7804878</td><td>0</td><td>0.000000000</td></tr>\n",
       "\t<tr><td>krank       </td><td>0.9523810</td><td>0</td><td>0.000000000</td></tr>\n",
       "\t<tr><td>muede       </td><td>1.0000000</td><td>0</td><td>0.000000000</td></tr>\n",
       "</tbody>\n",
       "</table>\n",
       "</dd>\n",
       "</dl>\n",
       "</dd>\n",
       "\t<dt>$handler_3_mood</dt>\n",
       "\t\t<dd><dl>\n",
       "\t<dt>$contingency_table</dt>\n",
       "\t\t<dd><table class=\"dataframe\">\n",
       "<caption>A tibble: 5 x 4</caption>\n",
       "<thead>\n",
       "\t<tr><th scope=col>handler_3_mood</th><th scope=col>detection</th><th scope=col>true_result</th><th scope=col>count</th></tr>\n",
       "\t<tr><th scope=col>&lt;fct&gt;</th><th scope=col>&lt;fct&gt;</th><th scope=col>&lt;fct&gt;</th><th scope=col>&lt;int&gt;</th></tr>\n",
       "</thead>\n",
       "<tbody>\n",
       "\t<tr><td>ausgeglichen</td><td>Positive</td><td>Positive</td><td>271</td></tr>\n",
       "\t<tr><td>ausgeglichen</td><td>Positive</td><td>Negative</td><td>  1</td></tr>\n",
       "\t<tr><td>ausgeglichen</td><td>Negative</td><td>Negative</td><td> 64</td></tr>\n",
       "\t<tr><td>muede       </td><td>Positive</td><td>Positive</td><td> 23</td></tr>\n",
       "\t<tr><td>muede       </td><td>Negative</td><td>Negative</td><td>  1</td></tr>\n",
       "</tbody>\n",
       "</table>\n",
       "</dd>\n",
       "\t<dt>$rates</dt>\n",
       "\t\t<dd><table class=\"dataframe\">\n",
       "<caption>A tibble: 2 x 4</caption>\n",
       "<thead>\n",
       "\t<tr><th scope=col>handler_3_mood</th><th scope=col>detection_rate</th><th scope=col>false_neg_rate</th><th scope=col>false_pos_rate</th></tr>\n",
       "\t<tr><th scope=col>&lt;fct&gt;</th><th scope=col>&lt;dbl&gt;</th><th scope=col>&lt;dbl&gt;</th><th scope=col>&lt;dbl&gt;</th></tr>\n",
       "</thead>\n",
       "<tbody>\n",
       "\t<tr><td>ausgeglichen</td><td>0.8065476</td><td>0</td><td>0.00297619</td></tr>\n",
       "\t<tr><td>muede       </td><td>0.9583333</td><td>0</td><td>0.00000000</td></tr>\n",
       "</tbody>\n",
       "</table>\n",
       "</dd>\n",
       "</dl>\n",
       "</dd>\n",
       "\t<dt>$dog_1_mood</dt>\n",
       "\t\t<dd><dl>\n",
       "\t<dt>$contingency_table</dt>\n",
       "\t\t<dd><table class=\"dataframe\">\n",
       "<caption>A tibble: 4 x 4</caption>\n",
       "<thead>\n",
       "\t<tr><th scope=col>dog_1_mood</th><th scope=col>detection</th><th scope=col>true_result</th><th scope=col>count</th></tr>\n",
       "\t<tr><th scope=col>&lt;fct&gt;</th><th scope=col>&lt;fct&gt;</th><th scope=col>&lt;fct&gt;</th><th scope=col>&lt;int&gt;</th></tr>\n",
       "</thead>\n",
       "<tbody>\n",
       "\t<tr><td>ausgeglichen</td><td>Positive</td><td>Positive</td><td>274</td></tr>\n",
       "\t<tr><td>ausgeglichen</td><td>Positive</td><td>Negative</td><td>  1</td></tr>\n",
       "\t<tr><td>ausgeglichen</td><td>Negative</td><td>Negative</td><td> 65</td></tr>\n",
       "\t<tr><td>muede       </td><td>Positive</td><td>Positive</td><td> 20</td></tr>\n",
       "</tbody>\n",
       "</table>\n",
       "</dd>\n",
       "\t<dt>$rates</dt>\n",
       "\t\t<dd><table class=\"dataframe\">\n",
       "<caption>A tibble: 2 x 4</caption>\n",
       "<thead>\n",
       "\t<tr><th scope=col>dog_1_mood</th><th scope=col>detection_rate</th><th scope=col>false_neg_rate</th><th scope=col>false_pos_rate</th></tr>\n",
       "\t<tr><th scope=col>&lt;fct&gt;</th><th scope=col>&lt;dbl&gt;</th><th scope=col>&lt;dbl&gt;</th><th scope=col>&lt;dbl&gt;</th></tr>\n",
       "</thead>\n",
       "<tbody>\n",
       "\t<tr><td>ausgeglichen</td><td>0.8058824</td><td>0</td><td>0.002941176</td></tr>\n",
       "\t<tr><td>muede       </td><td>1.0000000</td><td>0</td><td>0.000000000</td></tr>\n",
       "</tbody>\n",
       "</table>\n",
       "</dd>\n",
       "</dl>\n",
       "</dd>\n",
       "\t<dt>$dog_2_mood</dt>\n",
       "\t\t<dd><dl>\n",
       "\t<dt>$contingency_table</dt>\n",
       "\t\t<dd><table class=\"dataframe\">\n",
       "<caption>A tibble: 3 x 4</caption>\n",
       "<thead>\n",
       "\t<tr><th scope=col>dog_2_mood</th><th scope=col>detection</th><th scope=col>true_result</th><th scope=col>count</th></tr>\n",
       "\t<tr><th scope=col>&lt;fct&gt;</th><th scope=col>&lt;fct&gt;</th><th scope=col>&lt;fct&gt;</th><th scope=col>&lt;int&gt;</th></tr>\n",
       "</thead>\n",
       "<tbody>\n",
       "\t<tr><td>ausgeglichen</td><td>Positive</td><td>Positive</td><td>294</td></tr>\n",
       "\t<tr><td>ausgeglichen</td><td>Positive</td><td>Negative</td><td>  1</td></tr>\n",
       "\t<tr><td>ausgeglichen</td><td>Negative</td><td>Negative</td><td> 65</td></tr>\n",
       "</tbody>\n",
       "</table>\n",
       "</dd>\n",
       "\t<dt>$rates</dt>\n",
       "\t\t<dd><table class=\"dataframe\">\n",
       "<caption>A tibble: 1 x 4</caption>\n",
       "<thead>\n",
       "\t<tr><th scope=col>dog_2_mood</th><th scope=col>detection_rate</th><th scope=col>false_neg_rate</th><th scope=col>false_pos_rate</th></tr>\n",
       "\t<tr><th scope=col>&lt;fct&gt;</th><th scope=col>&lt;dbl&gt;</th><th scope=col>&lt;dbl&gt;</th><th scope=col>&lt;dbl&gt;</th></tr>\n",
       "</thead>\n",
       "<tbody>\n",
       "\t<tr><td>ausgeglichen</td><td>0.8166667</td><td>0</td><td>0.002777778</td></tr>\n",
       "</tbody>\n",
       "</table>\n",
       "</dd>\n",
       "</dl>\n",
       "</dd>\n",
       "\t<dt>$dog_3_mood</dt>\n",
       "\t\t<dd><dl>\n",
       "\t<dt>$contingency_table</dt>\n",
       "\t\t<dd><table class=\"dataframe\">\n",
       "<caption>A tibble: 3 x 4</caption>\n",
       "<thead>\n",
       "\t<tr><th scope=col>dog_3_mood</th><th scope=col>detection</th><th scope=col>true_result</th><th scope=col>count</th></tr>\n",
       "\t<tr><th scope=col>&lt;fct&gt;</th><th scope=col>&lt;fct&gt;</th><th scope=col>&lt;fct&gt;</th><th scope=col>&lt;int&gt;</th></tr>\n",
       "</thead>\n",
       "<tbody>\n",
       "\t<tr><td>ausgeglichen</td><td>Positive</td><td>Positive</td><td>294</td></tr>\n",
       "\t<tr><td>ausgeglichen</td><td>Positive</td><td>Negative</td><td>  1</td></tr>\n",
       "\t<tr><td>ausgeglichen</td><td>Negative</td><td>Negative</td><td> 65</td></tr>\n",
       "</tbody>\n",
       "</table>\n",
       "</dd>\n",
       "\t<dt>$rates</dt>\n",
       "\t\t<dd><table class=\"dataframe\">\n",
       "<caption>A tibble: 1 x 4</caption>\n",
       "<thead>\n",
       "\t<tr><th scope=col>dog_3_mood</th><th scope=col>detection_rate</th><th scope=col>false_neg_rate</th><th scope=col>false_pos_rate</th></tr>\n",
       "\t<tr><th scope=col>&lt;fct&gt;</th><th scope=col>&lt;dbl&gt;</th><th scope=col>&lt;dbl&gt;</th><th scope=col>&lt;dbl&gt;</th></tr>\n",
       "</thead>\n",
       "<tbody>\n",
       "\t<tr><td>ausgeglichen</td><td>0.8166667</td><td>0</td><td>0.002777778</td></tr>\n",
       "</tbody>\n",
       "</table>\n",
       "</dd>\n",
       "</dl>\n",
       "</dd>\n",
       "\t<dt>$dog_4_mood</dt>\n",
       "\t\t<dd><dl>\n",
       "\t<dt>$contingency_table</dt>\n",
       "\t\t<dd><table class=\"dataframe\">\n",
       "<caption>A tibble: 3 x 4</caption>\n",
       "<thead>\n",
       "\t<tr><th scope=col>dog_4_mood</th><th scope=col>detection</th><th scope=col>true_result</th><th scope=col>count</th></tr>\n",
       "\t<tr><th scope=col>&lt;fct&gt;</th><th scope=col>&lt;fct&gt;</th><th scope=col>&lt;fct&gt;</th><th scope=col>&lt;int&gt;</th></tr>\n",
       "</thead>\n",
       "<tbody>\n",
       "\t<tr><td>ausgeglichen</td><td>Positive</td><td>Positive</td><td>294</td></tr>\n",
       "\t<tr><td>ausgeglichen</td><td>Positive</td><td>Negative</td><td>  1</td></tr>\n",
       "\t<tr><td>ausgeglichen</td><td>Negative</td><td>Negative</td><td> 65</td></tr>\n",
       "</tbody>\n",
       "</table>\n",
       "</dd>\n",
       "\t<dt>$rates</dt>\n",
       "\t\t<dd><table class=\"dataframe\">\n",
       "<caption>A tibble: 1 x 4</caption>\n",
       "<thead>\n",
       "\t<tr><th scope=col>dog_4_mood</th><th scope=col>detection_rate</th><th scope=col>false_neg_rate</th><th scope=col>false_pos_rate</th></tr>\n",
       "\t<tr><th scope=col>&lt;fct&gt;</th><th scope=col>&lt;dbl&gt;</th><th scope=col>&lt;dbl&gt;</th><th scope=col>&lt;dbl&gt;</th></tr>\n",
       "</thead>\n",
       "<tbody>\n",
       "\t<tr><td>ausgeglichen</td><td>0.8166667</td><td>0</td><td>0.002777778</td></tr>\n",
       "</tbody>\n",
       "</table>\n",
       "</dd>\n",
       "</dl>\n",
       "</dd>\n",
       "\t<dt>$dog_5_mood</dt>\n",
       "\t\t<dd><dl>\n",
       "\t<dt>$contingency_table</dt>\n",
       "\t\t<dd><table class=\"dataframe\">\n",
       "<caption>A tibble: 3 x 4</caption>\n",
       "<thead>\n",
       "\t<tr><th scope=col>dog_5_mood</th><th scope=col>detection</th><th scope=col>true_result</th><th scope=col>count</th></tr>\n",
       "\t<tr><th scope=col>&lt;fct&gt;</th><th scope=col>&lt;fct&gt;</th><th scope=col>&lt;fct&gt;</th><th scope=col>&lt;int&gt;</th></tr>\n",
       "</thead>\n",
       "<tbody>\n",
       "\t<tr><td>ausgeglichen</td><td>Positive</td><td>Positive</td><td>294</td></tr>\n",
       "\t<tr><td>ausgeglichen</td><td>Positive</td><td>Negative</td><td>  1</td></tr>\n",
       "\t<tr><td>ausgeglichen</td><td>Negative</td><td>Negative</td><td> 65</td></tr>\n",
       "</tbody>\n",
       "</table>\n",
       "</dd>\n",
       "\t<dt>$rates</dt>\n",
       "\t\t<dd><table class=\"dataframe\">\n",
       "<caption>A tibble: 1 x 4</caption>\n",
       "<thead>\n",
       "\t<tr><th scope=col>dog_5_mood</th><th scope=col>detection_rate</th><th scope=col>false_neg_rate</th><th scope=col>false_pos_rate</th></tr>\n",
       "\t<tr><th scope=col>&lt;fct&gt;</th><th scope=col>&lt;dbl&gt;</th><th scope=col>&lt;dbl&gt;</th><th scope=col>&lt;dbl&gt;</th></tr>\n",
       "</thead>\n",
       "<tbody>\n",
       "\t<tr><td>ausgeglichen</td><td>0.8166667</td><td>0</td><td>0.002777778</td></tr>\n",
       "</tbody>\n",
       "</table>\n",
       "</dd>\n",
       "</dl>\n",
       "</dd>\n",
       "</dl>\n"
      ],
      "text/latex": [
       "\\begin{description}\n",
       "\\item[\\$weather] \\begin{description}\n",
       "\\item[\\$contingency\\_table] A tibble: 7 x 4\n",
       "\\begin{tabular}{llll}\n",
       " weather & detection & true\\_result & count\\\\\n",
       " <fct> & <fct> & <fct> & <int>\\\\\n",
       "\\hline\n",
       "\t bewlkt     & Positive & Positive & 156\\\\\n",
       "\t bewlkt     & Positive & Negative &   1\\\\\n",
       "\t bewlkt     & Negative & Negative &  31\\\\\n",
       "\t regnerisch & Positive & Positive &  82\\\\\n",
       "\t regnerisch & Negative & Negative &  19\\\\\n",
       "\t sonnig     & Positive & Positive &  56\\\\\n",
       "\t sonnig     & Negative & Negative &  15\\\\\n",
       "\\end{tabular}\n",
       "\n",
       "\\item[\\$rates] A tibble: 3 x 4\n",
       "\\begin{tabular}{llll}\n",
       " weather & detection\\_rate & false\\_neg\\_rate & false\\_pos\\_rate\\\\\n",
       " <fct> & <dbl> & <dbl> & <dbl>\\\\\n",
       "\\hline\n",
       "\t bewlkt     & 0.8297872 & 0 & 0.005319149\\\\\n",
       "\t regnerisch & 0.8118812 & 0 & 0.000000000\\\\\n",
       "\t sonnig     & 0.7887324 & 0 & 0.000000000\\\\\n",
       "\\end{tabular}\n",
       "\n",
       "\\end{description}\n",
       "\n",
       "\\item[\\$supervisor] \\begin{description}\n",
       "\\item[\\$contingency\\_table] A tibble: 9 x 4\n",
       "\\begin{tabular}{llll}\n",
       " supervisor & detection & true\\_result & count\\\\\n",
       " <fct> & <fct> & <fct> & <int>\\\\\n",
       "\\hline\n",
       "\t A. B.  & Positive & Positive &  20\\\\\n",
       "\t A. B.  & Negative & Negative &  13\\\\\n",
       "\t C. W.  & Positive & Positive & 197\\\\\n",
       "\t C. W.  & Positive & Negative &   1\\\\\n",
       "\t C. W.  & Negative & Negative &  43\\\\\n",
       "\t F. B.  & Positive & Positive &  15\\\\\n",
       "\t F. S.  & Positive & Positive &  57\\\\\n",
       "\t F. S.  & Negative & Negative &   9\\\\\n",
       "\t P.  H. & Positive & Positive &   5\\\\\n",
       "\\end{tabular}\n",
       "\n",
       "\\item[\\$rates] A tibble: 5 x 4\n",
       "\\begin{tabular}{llll}\n",
       " supervisor & detection\\_rate & false\\_neg\\_rate & false\\_pos\\_rate\\\\\n",
       " <fct> & <dbl> & <dbl> & <dbl>\\\\\n",
       "\\hline\n",
       "\t A. B.  & 0.6060606 & 0 & 0.000000000\\\\\n",
       "\t C. W.  & 0.8174274 & 0 & 0.004149378\\\\\n",
       "\t F. B.  & 1.0000000 & 0 & 0.000000000\\\\\n",
       "\t F. S.  & 0.8636364 & 0 & 0.000000000\\\\\n",
       "\t P.  H. & 1.0000000 & 0 & 0.000000000\\\\\n",
       "\\end{tabular}\n",
       "\n",
       "\\end{description}\n",
       "\n",
       "\\item[\\$handler\\_1\\_mood] \\begin{description}\n",
       "\\item[\\$contingency\\_table] A tibble: 6 x 4\n",
       "\\begin{tabular}{llll}\n",
       " handler\\_1\\_mood & detection & true\\_result & count\\\\\n",
       " <fct> & <fct> & <fct> & <int>\\\\\n",
       "\\hline\n",
       "\t ausgeglichen & Positive & Positive & 264\\\\\n",
       "\t ausgeglichen & Positive & Negative &   1\\\\\n",
       "\t ausgeglichen & Negative & Negative &  56\\\\\n",
       "\t krank        & Positive & Positive &  25\\\\\n",
       "\t krank        & Negative & Negative &   9\\\\\n",
       "\t muede        & Positive & Positive &   5\\\\\n",
       "\\end{tabular}\n",
       "\n",
       "\\item[\\$rates] A tibble: 3 x 4\n",
       "\\begin{tabular}{llll}\n",
       " handler\\_1\\_mood & detection\\_rate & false\\_neg\\_rate & false\\_pos\\_rate\\\\\n",
       " <fct> & <dbl> & <dbl> & <dbl>\\\\\n",
       "\\hline\n",
       "\t ausgeglichen & 0.8224299 & 0 & 0.003115265\\\\\n",
       "\t krank        & 0.7352941 & 0 & 0.000000000\\\\\n",
       "\t muede        & 1.0000000 & 0 & 0.000000000\\\\\n",
       "\\end{tabular}\n",
       "\n",
       "\\end{description}\n",
       "\n",
       "\\item[\\$handler\\_2\\_mood] \\begin{description}\n",
       "\\item[\\$contingency\\_table] A tibble: 8 x 4\n",
       "\\begin{tabular}{llll}\n",
       " handler\\_2\\_mood & detection & true\\_result & count\\\\\n",
       " <fct> & <fct> & <fct> & <int>\\\\\n",
       "\\hline\n",
       "\t ausgeglichen & Positive & Positive & 217\\\\\n",
       "\t ausgeglichen & Positive & Negative &   1\\\\\n",
       "\t ausgeglichen & Negative & Negative &  55\\\\\n",
       "\t gestresst    & Positive & Positive &  32\\\\\n",
       "\t gestresst    & Negative & Negative &   9\\\\\n",
       "\t krank        & Positive & Positive &  20\\\\\n",
       "\t krank        & Negative & Negative &   1\\\\\n",
       "\t muede        & Positive & Positive &  25\\\\\n",
       "\\end{tabular}\n",
       "\n",
       "\\item[\\$rates] A tibble: 4 x 4\n",
       "\\begin{tabular}{llll}\n",
       " handler\\_2\\_mood & detection\\_rate & false\\_neg\\_rate & false\\_pos\\_rate\\\\\n",
       " <fct> & <dbl> & <dbl> & <dbl>\\\\\n",
       "\\hline\n",
       "\t ausgeglichen & 0.7948718 & 0 & 0.003663004\\\\\n",
       "\t gestresst    & 0.7804878 & 0 & 0.000000000\\\\\n",
       "\t krank        & 0.9523810 & 0 & 0.000000000\\\\\n",
       "\t muede        & 1.0000000 & 0 & 0.000000000\\\\\n",
       "\\end{tabular}\n",
       "\n",
       "\\end{description}\n",
       "\n",
       "\\item[\\$handler\\_3\\_mood] \\begin{description}\n",
       "\\item[\\$contingency\\_table] A tibble: 5 x 4\n",
       "\\begin{tabular}{llll}\n",
       " handler\\_3\\_mood & detection & true\\_result & count\\\\\n",
       " <fct> & <fct> & <fct> & <int>\\\\\n",
       "\\hline\n",
       "\t ausgeglichen & Positive & Positive & 271\\\\\n",
       "\t ausgeglichen & Positive & Negative &   1\\\\\n",
       "\t ausgeglichen & Negative & Negative &  64\\\\\n",
       "\t muede        & Positive & Positive &  23\\\\\n",
       "\t muede        & Negative & Negative &   1\\\\\n",
       "\\end{tabular}\n",
       "\n",
       "\\item[\\$rates] A tibble: 2 x 4\n",
       "\\begin{tabular}{llll}\n",
       " handler\\_3\\_mood & detection\\_rate & false\\_neg\\_rate & false\\_pos\\_rate\\\\\n",
       " <fct> & <dbl> & <dbl> & <dbl>\\\\\n",
       "\\hline\n",
       "\t ausgeglichen & 0.8065476 & 0 & 0.00297619\\\\\n",
       "\t muede        & 0.9583333 & 0 & 0.00000000\\\\\n",
       "\\end{tabular}\n",
       "\n",
       "\\end{description}\n",
       "\n",
       "\\item[\\$dog\\_1\\_mood] \\begin{description}\n",
       "\\item[\\$contingency\\_table] A tibble: 4 x 4\n",
       "\\begin{tabular}{llll}\n",
       " dog\\_1\\_mood & detection & true\\_result & count\\\\\n",
       " <fct> & <fct> & <fct> & <int>\\\\\n",
       "\\hline\n",
       "\t ausgeglichen & Positive & Positive & 274\\\\\n",
       "\t ausgeglichen & Positive & Negative &   1\\\\\n",
       "\t ausgeglichen & Negative & Negative &  65\\\\\n",
       "\t muede        & Positive & Positive &  20\\\\\n",
       "\\end{tabular}\n",
       "\n",
       "\\item[\\$rates] A tibble: 2 x 4\n",
       "\\begin{tabular}{llll}\n",
       " dog\\_1\\_mood & detection\\_rate & false\\_neg\\_rate & false\\_pos\\_rate\\\\\n",
       " <fct> & <dbl> & <dbl> & <dbl>\\\\\n",
       "\\hline\n",
       "\t ausgeglichen & 0.8058824 & 0 & 0.002941176\\\\\n",
       "\t muede        & 1.0000000 & 0 & 0.000000000\\\\\n",
       "\\end{tabular}\n",
       "\n",
       "\\end{description}\n",
       "\n",
       "\\item[\\$dog\\_2\\_mood] \\begin{description}\n",
       "\\item[\\$contingency\\_table] A tibble: 3 x 4\n",
       "\\begin{tabular}{llll}\n",
       " dog\\_2\\_mood & detection & true\\_result & count\\\\\n",
       " <fct> & <fct> & <fct> & <int>\\\\\n",
       "\\hline\n",
       "\t ausgeglichen & Positive & Positive & 294\\\\\n",
       "\t ausgeglichen & Positive & Negative &   1\\\\\n",
       "\t ausgeglichen & Negative & Negative &  65\\\\\n",
       "\\end{tabular}\n",
       "\n",
       "\\item[\\$rates] A tibble: 1 x 4\n",
       "\\begin{tabular}{llll}\n",
       " dog\\_2\\_mood & detection\\_rate & false\\_neg\\_rate & false\\_pos\\_rate\\\\\n",
       " <fct> & <dbl> & <dbl> & <dbl>\\\\\n",
       "\\hline\n",
       "\t ausgeglichen & 0.8166667 & 0 & 0.002777778\\\\\n",
       "\\end{tabular}\n",
       "\n",
       "\\end{description}\n",
       "\n",
       "\\item[\\$dog\\_3\\_mood] \\begin{description}\n",
       "\\item[\\$contingency\\_table] A tibble: 3 x 4\n",
       "\\begin{tabular}{llll}\n",
       " dog\\_3\\_mood & detection & true\\_result & count\\\\\n",
       " <fct> & <fct> & <fct> & <int>\\\\\n",
       "\\hline\n",
       "\t ausgeglichen & Positive & Positive & 294\\\\\n",
       "\t ausgeglichen & Positive & Negative &   1\\\\\n",
       "\t ausgeglichen & Negative & Negative &  65\\\\\n",
       "\\end{tabular}\n",
       "\n",
       "\\item[\\$rates] A tibble: 1 x 4\n",
       "\\begin{tabular}{llll}\n",
       " dog\\_3\\_mood & detection\\_rate & false\\_neg\\_rate & false\\_pos\\_rate\\\\\n",
       " <fct> & <dbl> & <dbl> & <dbl>\\\\\n",
       "\\hline\n",
       "\t ausgeglichen & 0.8166667 & 0 & 0.002777778\\\\\n",
       "\\end{tabular}\n",
       "\n",
       "\\end{description}\n",
       "\n",
       "\\item[\\$dog\\_4\\_mood] \\begin{description}\n",
       "\\item[\\$contingency\\_table] A tibble: 3 x 4\n",
       "\\begin{tabular}{llll}\n",
       " dog\\_4\\_mood & detection & true\\_result & count\\\\\n",
       " <fct> & <fct> & <fct> & <int>\\\\\n",
       "\\hline\n",
       "\t ausgeglichen & Positive & Positive & 294\\\\\n",
       "\t ausgeglichen & Positive & Negative &   1\\\\\n",
       "\t ausgeglichen & Negative & Negative &  65\\\\\n",
       "\\end{tabular}\n",
       "\n",
       "\\item[\\$rates] A tibble: 1 x 4\n",
       "\\begin{tabular}{llll}\n",
       " dog\\_4\\_mood & detection\\_rate & false\\_neg\\_rate & false\\_pos\\_rate\\\\\n",
       " <fct> & <dbl> & <dbl> & <dbl>\\\\\n",
       "\\hline\n",
       "\t ausgeglichen & 0.8166667 & 0 & 0.002777778\\\\\n",
       "\\end{tabular}\n",
       "\n",
       "\\end{description}\n",
       "\n",
       "\\item[\\$dog\\_5\\_mood] \\begin{description}\n",
       "\\item[\\$contingency\\_table] A tibble: 3 x 4\n",
       "\\begin{tabular}{llll}\n",
       " dog\\_5\\_mood & detection & true\\_result & count\\\\\n",
       " <fct> & <fct> & <fct> & <int>\\\\\n",
       "\\hline\n",
       "\t ausgeglichen & Positive & Positive & 294\\\\\n",
       "\t ausgeglichen & Positive & Negative &   1\\\\\n",
       "\t ausgeglichen & Negative & Negative &  65\\\\\n",
       "\\end{tabular}\n",
       "\n",
       "\\item[\\$rates] A tibble: 1 x 4\n",
       "\\begin{tabular}{llll}\n",
       " dog\\_5\\_mood & detection\\_rate & false\\_neg\\_rate & false\\_pos\\_rate\\\\\n",
       " <fct> & <dbl> & <dbl> & <dbl>\\\\\n",
       "\\hline\n",
       "\t ausgeglichen & 0.8166667 & 0 & 0.002777778\\\\\n",
       "\\end{tabular}\n",
       "\n",
       "\\end{description}\n",
       "\n",
       "\\end{description}\n"
      ],
      "text/markdown": [
       "$weather\n",
       ":   $contingency_table\n",
       ":   \n",
       "A tibble: 7 x 4\n",
       "\n",
       "| weather &lt;fct&gt; | detection &lt;fct&gt; | true_result &lt;fct&gt; | count &lt;int&gt; |\n",
       "|---|---|---|---|\n",
       "| bewlkt     | Positive | Positive | 156 |\n",
       "| bewlkt     | Positive | Negative |   1 |\n",
       "| bewlkt     | Negative | Negative |  31 |\n",
       "| regnerisch | Positive | Positive |  82 |\n",
       "| regnerisch | Negative | Negative |  19 |\n",
       "| sonnig     | Positive | Positive |  56 |\n",
       "| sonnig     | Negative | Negative |  15 |\n",
       "\n",
       "\n",
       "$rates\n",
       ":   \n",
       "A tibble: 3 x 4\n",
       "\n",
       "| weather &lt;fct&gt; | detection_rate &lt;dbl&gt; | false_neg_rate &lt;dbl&gt; | false_pos_rate &lt;dbl&gt; |\n",
       "|---|---|---|---|\n",
       "| bewlkt     | 0.8297872 | 0 | 0.005319149 |\n",
       "| regnerisch | 0.8118812 | 0 | 0.000000000 |\n",
       "| sonnig     | 0.7887324 | 0 | 0.000000000 |\n",
       "\n",
       "\n",
       "\n",
       "\n",
       "\n",
       "$supervisor\n",
       ":   $contingency_table\n",
       ":   \n",
       "A tibble: 9 x 4\n",
       "\n",
       "| supervisor &lt;fct&gt; | detection &lt;fct&gt; | true_result &lt;fct&gt; | count &lt;int&gt; |\n",
       "|---|---|---|---|\n",
       "| A. B.  | Positive | Positive |  20 |\n",
       "| A. B.  | Negative | Negative |  13 |\n",
       "| C. W.  | Positive | Positive | 197 |\n",
       "| C. W.  | Positive | Negative |   1 |\n",
       "| C. W.  | Negative | Negative |  43 |\n",
       "| F. B.  | Positive | Positive |  15 |\n",
       "| F. S.  | Positive | Positive |  57 |\n",
       "| F. S.  | Negative | Negative |   9 |\n",
       "| P.  H. | Positive | Positive |   5 |\n",
       "\n",
       "\n",
       "$rates\n",
       ":   \n",
       "A tibble: 5 x 4\n",
       "\n",
       "| supervisor &lt;fct&gt; | detection_rate &lt;dbl&gt; | false_neg_rate &lt;dbl&gt; | false_pos_rate &lt;dbl&gt; |\n",
       "|---|---|---|---|\n",
       "| A. B.  | 0.6060606 | 0 | 0.000000000 |\n",
       "| C. W.  | 0.8174274 | 0 | 0.004149378 |\n",
       "| F. B.  | 1.0000000 | 0 | 0.000000000 |\n",
       "| F. S.  | 0.8636364 | 0 | 0.000000000 |\n",
       "| P.  H. | 1.0000000 | 0 | 0.000000000 |\n",
       "\n",
       "\n",
       "\n",
       "\n",
       "\n",
       "$handler_1_mood\n",
       ":   $contingency_table\n",
       ":   \n",
       "A tibble: 6 x 4\n",
       "\n",
       "| handler_1_mood &lt;fct&gt; | detection &lt;fct&gt; | true_result &lt;fct&gt; | count &lt;int&gt; |\n",
       "|---|---|---|---|\n",
       "| ausgeglichen | Positive | Positive | 264 |\n",
       "| ausgeglichen | Positive | Negative |   1 |\n",
       "| ausgeglichen | Negative | Negative |  56 |\n",
       "| krank        | Positive | Positive |  25 |\n",
       "| krank        | Negative | Negative |   9 |\n",
       "| muede        | Positive | Positive |   5 |\n",
       "\n",
       "\n",
       "$rates\n",
       ":   \n",
       "A tibble: 3 x 4\n",
       "\n",
       "| handler_1_mood &lt;fct&gt; | detection_rate &lt;dbl&gt; | false_neg_rate &lt;dbl&gt; | false_pos_rate &lt;dbl&gt; |\n",
       "|---|---|---|---|\n",
       "| ausgeglichen | 0.8224299 | 0 | 0.003115265 |\n",
       "| krank        | 0.7352941 | 0 | 0.000000000 |\n",
       "| muede        | 1.0000000 | 0 | 0.000000000 |\n",
       "\n",
       "\n",
       "\n",
       "\n",
       "\n",
       "$handler_2_mood\n",
       ":   $contingency_table\n",
       ":   \n",
       "A tibble: 8 x 4\n",
       "\n",
       "| handler_2_mood &lt;fct&gt; | detection &lt;fct&gt; | true_result &lt;fct&gt; | count &lt;int&gt; |\n",
       "|---|---|---|---|\n",
       "| ausgeglichen | Positive | Positive | 217 |\n",
       "| ausgeglichen | Positive | Negative |   1 |\n",
       "| ausgeglichen | Negative | Negative |  55 |\n",
       "| gestresst    | Positive | Positive |  32 |\n",
       "| gestresst    | Negative | Negative |   9 |\n",
       "| krank        | Positive | Positive |  20 |\n",
       "| krank        | Negative | Negative |   1 |\n",
       "| muede        | Positive | Positive |  25 |\n",
       "\n",
       "\n",
       "$rates\n",
       ":   \n",
       "A tibble: 4 x 4\n",
       "\n",
       "| handler_2_mood &lt;fct&gt; | detection_rate &lt;dbl&gt; | false_neg_rate &lt;dbl&gt; | false_pos_rate &lt;dbl&gt; |\n",
       "|---|---|---|---|\n",
       "| ausgeglichen | 0.7948718 | 0 | 0.003663004 |\n",
       "| gestresst    | 0.7804878 | 0 | 0.000000000 |\n",
       "| krank        | 0.9523810 | 0 | 0.000000000 |\n",
       "| muede        | 1.0000000 | 0 | 0.000000000 |\n",
       "\n",
       "\n",
       "\n",
       "\n",
       "\n",
       "$handler_3_mood\n",
       ":   $contingency_table\n",
       ":   \n",
       "A tibble: 5 x 4\n",
       "\n",
       "| handler_3_mood &lt;fct&gt; | detection &lt;fct&gt; | true_result &lt;fct&gt; | count &lt;int&gt; |\n",
       "|---|---|---|---|\n",
       "| ausgeglichen | Positive | Positive | 271 |\n",
       "| ausgeglichen | Positive | Negative |   1 |\n",
       "| ausgeglichen | Negative | Negative |  64 |\n",
       "| muede        | Positive | Positive |  23 |\n",
       "| muede        | Negative | Negative |   1 |\n",
       "\n",
       "\n",
       "$rates\n",
       ":   \n",
       "A tibble: 2 x 4\n",
       "\n",
       "| handler_3_mood &lt;fct&gt; | detection_rate &lt;dbl&gt; | false_neg_rate &lt;dbl&gt; | false_pos_rate &lt;dbl&gt; |\n",
       "|---|---|---|---|\n",
       "| ausgeglichen | 0.8065476 | 0 | 0.00297619 |\n",
       "| muede        | 0.9583333 | 0 | 0.00000000 |\n",
       "\n",
       "\n",
       "\n",
       "\n",
       "\n",
       "$dog_1_mood\n",
       ":   $contingency_table\n",
       ":   \n",
       "A tibble: 4 x 4\n",
       "\n",
       "| dog_1_mood &lt;fct&gt; | detection &lt;fct&gt; | true_result &lt;fct&gt; | count &lt;int&gt; |\n",
       "|---|---|---|---|\n",
       "| ausgeglichen | Positive | Positive | 274 |\n",
       "| ausgeglichen | Positive | Negative |   1 |\n",
       "| ausgeglichen | Negative | Negative |  65 |\n",
       "| muede        | Positive | Positive |  20 |\n",
       "\n",
       "\n",
       "$rates\n",
       ":   \n",
       "A tibble: 2 x 4\n",
       "\n",
       "| dog_1_mood &lt;fct&gt; | detection_rate &lt;dbl&gt; | false_neg_rate &lt;dbl&gt; | false_pos_rate &lt;dbl&gt; |\n",
       "|---|---|---|---|\n",
       "| ausgeglichen | 0.8058824 | 0 | 0.002941176 |\n",
       "| muede        | 1.0000000 | 0 | 0.000000000 |\n",
       "\n",
       "\n",
       "\n",
       "\n",
       "\n",
       "$dog_2_mood\n",
       ":   $contingency_table\n",
       ":   \n",
       "A tibble: 3 x 4\n",
       "\n",
       "| dog_2_mood &lt;fct&gt; | detection &lt;fct&gt; | true_result &lt;fct&gt; | count &lt;int&gt; |\n",
       "|---|---|---|---|\n",
       "| ausgeglichen | Positive | Positive | 294 |\n",
       "| ausgeglichen | Positive | Negative |   1 |\n",
       "| ausgeglichen | Negative | Negative |  65 |\n",
       "\n",
       "\n",
       "$rates\n",
       ":   \n",
       "A tibble: 1 x 4\n",
       "\n",
       "| dog_2_mood &lt;fct&gt; | detection_rate &lt;dbl&gt; | false_neg_rate &lt;dbl&gt; | false_pos_rate &lt;dbl&gt; |\n",
       "|---|---|---|---|\n",
       "| ausgeglichen | 0.8166667 | 0 | 0.002777778 |\n",
       "\n",
       "\n",
       "\n",
       "\n",
       "\n",
       "$dog_3_mood\n",
       ":   $contingency_table\n",
       ":   \n",
       "A tibble: 3 x 4\n",
       "\n",
       "| dog_3_mood &lt;fct&gt; | detection &lt;fct&gt; | true_result &lt;fct&gt; | count &lt;int&gt; |\n",
       "|---|---|---|---|\n",
       "| ausgeglichen | Positive | Positive | 294 |\n",
       "| ausgeglichen | Positive | Negative |   1 |\n",
       "| ausgeglichen | Negative | Negative |  65 |\n",
       "\n",
       "\n",
       "$rates\n",
       ":   \n",
       "A tibble: 1 x 4\n",
       "\n",
       "| dog_3_mood &lt;fct&gt; | detection_rate &lt;dbl&gt; | false_neg_rate &lt;dbl&gt; | false_pos_rate &lt;dbl&gt; |\n",
       "|---|---|---|---|\n",
       "| ausgeglichen | 0.8166667 | 0 | 0.002777778 |\n",
       "\n",
       "\n",
       "\n",
       "\n",
       "\n",
       "$dog_4_mood\n",
       ":   $contingency_table\n",
       ":   \n",
       "A tibble: 3 x 4\n",
       "\n",
       "| dog_4_mood &lt;fct&gt; | detection &lt;fct&gt; | true_result &lt;fct&gt; | count &lt;int&gt; |\n",
       "|---|---|---|---|\n",
       "| ausgeglichen | Positive | Positive | 294 |\n",
       "| ausgeglichen | Positive | Negative |   1 |\n",
       "| ausgeglichen | Negative | Negative |  65 |\n",
       "\n",
       "\n",
       "$rates\n",
       ":   \n",
       "A tibble: 1 x 4\n",
       "\n",
       "| dog_4_mood &lt;fct&gt; | detection_rate &lt;dbl&gt; | false_neg_rate &lt;dbl&gt; | false_pos_rate &lt;dbl&gt; |\n",
       "|---|---|---|---|\n",
       "| ausgeglichen | 0.8166667 | 0 | 0.002777778 |\n",
       "\n",
       "\n",
       "\n",
       "\n",
       "\n",
       "$dog_5_mood\n",
       ":   $contingency_table\n",
       ":   \n",
       "A tibble: 3 x 4\n",
       "\n",
       "| dog_5_mood &lt;fct&gt; | detection &lt;fct&gt; | true_result &lt;fct&gt; | count &lt;int&gt; |\n",
       "|---|---|---|---|\n",
       "| ausgeglichen | Positive | Positive | 294 |\n",
       "| ausgeglichen | Positive | Negative |   1 |\n",
       "| ausgeglichen | Negative | Negative |  65 |\n",
       "\n",
       "\n",
       "$rates\n",
       ":   \n",
       "A tibble: 1 x 4\n",
       "\n",
       "| dog_5_mood &lt;fct&gt; | detection_rate &lt;dbl&gt; | false_neg_rate &lt;dbl&gt; | false_pos_rate &lt;dbl&gt; |\n",
       "|---|---|---|---|\n",
       "| ausgeglichen | 0.8166667 | 0 | 0.002777778 |\n",
       "\n",
       "\n",
       "\n",
       "\n",
       "\n",
       "\n",
       "\n"
      ],
      "text/plain": [
       "$weather\n",
       "$weather$contingency_table\n",
       "\u001b[90m# A tibble: 7 x 4\u001b[39m\n",
       "  weather    detection true_result count\n",
       "  \u001b[3m\u001b[90m<fct>\u001b[39m\u001b[23m      \u001b[3m\u001b[90m<fct>\u001b[39m\u001b[23m     \u001b[3m\u001b[90m<fct>\u001b[39m\u001b[23m       \u001b[3m\u001b[90m<int>\u001b[39m\u001b[23m\n",
       "\u001b[90m1\u001b[39m bewlkt     Positive  Positive      156\n",
       "\u001b[90m2\u001b[39m bewlkt     Positive  Negative        1\n",
       "\u001b[90m3\u001b[39m bewlkt     Negative  Negative       31\n",
       "\u001b[90m4\u001b[39m regnerisch Positive  Positive       82\n",
       "\u001b[90m5\u001b[39m regnerisch Negative  Negative       19\n",
       "\u001b[90m6\u001b[39m sonnig     Positive  Positive       56\n",
       "\u001b[90m7\u001b[39m sonnig     Negative  Negative       15\n",
       "\n",
       "$weather$rates\n",
       "\u001b[90m# A tibble: 3 x 4\u001b[39m\n",
       "  weather    detection_rate false_neg_rate false_pos_rate\n",
       "  \u001b[3m\u001b[90m<fct>\u001b[39m\u001b[23m               \u001b[3m\u001b[90m<dbl>\u001b[39m\u001b[23m          \u001b[3m\u001b[90m<dbl>\u001b[39m\u001b[23m          \u001b[3m\u001b[90m<dbl>\u001b[39m\u001b[23m\n",
       "\u001b[90m1\u001b[39m bewlkt              0.830              0        0.005\u001b[4m3\u001b[24m\u001b[4m2\u001b[24m\n",
       "\u001b[90m2\u001b[39m regnerisch          0.812              0        0      \n",
       "\u001b[90m3\u001b[39m sonnig              0.789              0        0      \n",
       "\n",
       "\n",
       "$supervisor\n",
       "$supervisor$contingency_table\n",
       "\u001b[90m# A tibble: 9 x 4\u001b[39m\n",
       "  supervisor detection true_result count\n",
       "  \u001b[3m\u001b[90m<fct>\u001b[39m\u001b[23m      \u001b[3m\u001b[90m<fct>\u001b[39m\u001b[23m     \u001b[3m\u001b[90m<fct>\u001b[39m\u001b[23m       \u001b[3m\u001b[90m<int>\u001b[39m\u001b[23m\n",
       "\u001b[90m1\u001b[39m A. B.      Positive  Positive       20\n",
       "\u001b[90m2\u001b[39m A. B.      Negative  Negative       13\n",
       "\u001b[90m3\u001b[39m C. W.      Positive  Positive      197\n",
       "\u001b[90m4\u001b[39m C. W.      Positive  Negative        1\n",
       "\u001b[90m5\u001b[39m C. W.      Negative  Negative       43\n",
       "\u001b[90m6\u001b[39m F. B.      Positive  Positive       15\n",
       "\u001b[90m7\u001b[39m F. S.      Positive  Positive       57\n",
       "\u001b[90m8\u001b[39m F. S.      Negative  Negative        9\n",
       "\u001b[90m9\u001b[39m P.  H.     Positive  Positive        5\n",
       "\n",
       "$supervisor$rates\n",
       "\u001b[90m# A tibble: 5 x 4\u001b[39m\n",
       "  supervisor detection_rate false_neg_rate false_pos_rate\n",
       "  \u001b[3m\u001b[90m<fct>\u001b[39m\u001b[23m               \u001b[3m\u001b[90m<dbl>\u001b[39m\u001b[23m          \u001b[3m\u001b[90m<dbl>\u001b[39m\u001b[23m          \u001b[3m\u001b[90m<dbl>\u001b[39m\u001b[23m\n",
       "\u001b[90m1\u001b[39m A. B.               0.606              0        0      \n",
       "\u001b[90m2\u001b[39m C. W.               0.817              0        0.004\u001b[4m1\u001b[24m\u001b[4m5\u001b[24m\n",
       "\u001b[90m3\u001b[39m F. B.               1                  0        0      \n",
       "\u001b[90m4\u001b[39m F. S.               0.864              0        0      \n",
       "\u001b[90m5\u001b[39m P.  H.              1                  0        0      \n",
       "\n",
       "\n",
       "$handler_1_mood\n",
       "$handler_1_mood$contingency_table\n",
       "\u001b[90m# A tibble: 6 x 4\u001b[39m\n",
       "  handler_1_mood detection true_result count\n",
       "  \u001b[3m\u001b[90m<fct>\u001b[39m\u001b[23m          \u001b[3m\u001b[90m<fct>\u001b[39m\u001b[23m     \u001b[3m\u001b[90m<fct>\u001b[39m\u001b[23m       \u001b[3m\u001b[90m<int>\u001b[39m\u001b[23m\n",
       "\u001b[90m1\u001b[39m ausgeglichen   Positive  Positive      264\n",
       "\u001b[90m2\u001b[39m ausgeglichen   Positive  Negative        1\n",
       "\u001b[90m3\u001b[39m ausgeglichen   Negative  Negative       56\n",
       "\u001b[90m4\u001b[39m krank          Positive  Positive       25\n",
       "\u001b[90m5\u001b[39m krank          Negative  Negative        9\n",
       "\u001b[90m6\u001b[39m muede          Positive  Positive        5\n",
       "\n",
       "$handler_1_mood$rates\n",
       "\u001b[90m# A tibble: 3 x 4\u001b[39m\n",
       "  handler_1_mood detection_rate false_neg_rate false_pos_rate\n",
       "  \u001b[3m\u001b[90m<fct>\u001b[39m\u001b[23m                   \u001b[3m\u001b[90m<dbl>\u001b[39m\u001b[23m          \u001b[3m\u001b[90m<dbl>\u001b[39m\u001b[23m          \u001b[3m\u001b[90m<dbl>\u001b[39m\u001b[23m\n",
       "\u001b[90m1\u001b[39m ausgeglichen            0.822              0        0.003\u001b[4m1\u001b[24m\u001b[4m2\u001b[24m\n",
       "\u001b[90m2\u001b[39m krank                   0.735              0        0      \n",
       "\u001b[90m3\u001b[39m muede                   1                  0        0      \n",
       "\n",
       "\n",
       "$handler_2_mood\n",
       "$handler_2_mood$contingency_table\n",
       "\u001b[90m# A tibble: 8 x 4\u001b[39m\n",
       "  handler_2_mood detection true_result count\n",
       "  \u001b[3m\u001b[90m<fct>\u001b[39m\u001b[23m          \u001b[3m\u001b[90m<fct>\u001b[39m\u001b[23m     \u001b[3m\u001b[90m<fct>\u001b[39m\u001b[23m       \u001b[3m\u001b[90m<int>\u001b[39m\u001b[23m\n",
       "\u001b[90m1\u001b[39m ausgeglichen   Positive  Positive      217\n",
       "\u001b[90m2\u001b[39m ausgeglichen   Positive  Negative        1\n",
       "\u001b[90m3\u001b[39m ausgeglichen   Negative  Negative       55\n",
       "\u001b[90m4\u001b[39m gestresst      Positive  Positive       32\n",
       "\u001b[90m5\u001b[39m gestresst      Negative  Negative        9\n",
       "\u001b[90m6\u001b[39m krank          Positive  Positive       20\n",
       "\u001b[90m7\u001b[39m krank          Negative  Negative        1\n",
       "\u001b[90m8\u001b[39m muede          Positive  Positive       25\n",
       "\n",
       "$handler_2_mood$rates\n",
       "\u001b[90m# A tibble: 4 x 4\u001b[39m\n",
       "  handler_2_mood detection_rate false_neg_rate false_pos_rate\n",
       "  \u001b[3m\u001b[90m<fct>\u001b[39m\u001b[23m                   \u001b[3m\u001b[90m<dbl>\u001b[39m\u001b[23m          \u001b[3m\u001b[90m<dbl>\u001b[39m\u001b[23m          \u001b[3m\u001b[90m<dbl>\u001b[39m\u001b[23m\n",
       "\u001b[90m1\u001b[39m ausgeglichen            0.795              0        0.003\u001b[4m6\u001b[24m\u001b[4m6\u001b[24m\n",
       "\u001b[90m2\u001b[39m gestresst               0.780              0        0      \n",
       "\u001b[90m3\u001b[39m krank                   0.952              0        0      \n",
       "\u001b[90m4\u001b[39m muede                   1                  0        0      \n",
       "\n",
       "\n",
       "$handler_3_mood\n",
       "$handler_3_mood$contingency_table\n",
       "\u001b[90m# A tibble: 5 x 4\u001b[39m\n",
       "  handler_3_mood detection true_result count\n",
       "  \u001b[3m\u001b[90m<fct>\u001b[39m\u001b[23m          \u001b[3m\u001b[90m<fct>\u001b[39m\u001b[23m     \u001b[3m\u001b[90m<fct>\u001b[39m\u001b[23m       \u001b[3m\u001b[90m<int>\u001b[39m\u001b[23m\n",
       "\u001b[90m1\u001b[39m ausgeglichen   Positive  Positive      271\n",
       "\u001b[90m2\u001b[39m ausgeglichen   Positive  Negative        1\n",
       "\u001b[90m3\u001b[39m ausgeglichen   Negative  Negative       64\n",
       "\u001b[90m4\u001b[39m muede          Positive  Positive       23\n",
       "\u001b[90m5\u001b[39m muede          Negative  Negative        1\n",
       "\n",
       "$handler_3_mood$rates\n",
       "\u001b[90m# A tibble: 2 x 4\u001b[39m\n",
       "  handler_3_mood detection_rate false_neg_rate false_pos_rate\n",
       "  \u001b[3m\u001b[90m<fct>\u001b[39m\u001b[23m                   \u001b[3m\u001b[90m<dbl>\u001b[39m\u001b[23m          \u001b[3m\u001b[90m<dbl>\u001b[39m\u001b[23m          \u001b[3m\u001b[90m<dbl>\u001b[39m\u001b[23m\n",
       "\u001b[90m1\u001b[39m ausgeglichen            0.807              0        0.002\u001b[4m9\u001b[24m\u001b[4m8\u001b[24m\n",
       "\u001b[90m2\u001b[39m muede                   0.958              0        0      \n",
       "\n",
       "\n",
       "$dog_1_mood\n",
       "$dog_1_mood$contingency_table\n",
       "\u001b[90m# A tibble: 4 x 4\u001b[39m\n",
       "  dog_1_mood   detection true_result count\n",
       "  \u001b[3m\u001b[90m<fct>\u001b[39m\u001b[23m        \u001b[3m\u001b[90m<fct>\u001b[39m\u001b[23m     \u001b[3m\u001b[90m<fct>\u001b[39m\u001b[23m       \u001b[3m\u001b[90m<int>\u001b[39m\u001b[23m\n",
       "\u001b[90m1\u001b[39m ausgeglichen Positive  Positive      274\n",
       "\u001b[90m2\u001b[39m ausgeglichen Positive  Negative        1\n",
       "\u001b[90m3\u001b[39m ausgeglichen Negative  Negative       65\n",
       "\u001b[90m4\u001b[39m muede        Positive  Positive       20\n",
       "\n",
       "$dog_1_mood$rates\n",
       "\u001b[90m# A tibble: 2 x 4\u001b[39m\n",
       "  dog_1_mood   detection_rate false_neg_rate false_pos_rate\n",
       "  \u001b[3m\u001b[90m<fct>\u001b[39m\u001b[23m                 \u001b[3m\u001b[90m<dbl>\u001b[39m\u001b[23m          \u001b[3m\u001b[90m<dbl>\u001b[39m\u001b[23m          \u001b[3m\u001b[90m<dbl>\u001b[39m\u001b[23m\n",
       "\u001b[90m1\u001b[39m ausgeglichen          0.806              0        0.002\u001b[4m9\u001b[24m\u001b[4m4\u001b[24m\n",
       "\u001b[90m2\u001b[39m muede                 1                  0        0      \n",
       "\n",
       "\n",
       "$dog_2_mood\n",
       "$dog_2_mood$contingency_table\n",
       "\u001b[90m# A tibble: 3 x 4\u001b[39m\n",
       "  dog_2_mood   detection true_result count\n",
       "  \u001b[3m\u001b[90m<fct>\u001b[39m\u001b[23m        \u001b[3m\u001b[90m<fct>\u001b[39m\u001b[23m     \u001b[3m\u001b[90m<fct>\u001b[39m\u001b[23m       \u001b[3m\u001b[90m<int>\u001b[39m\u001b[23m\n",
       "\u001b[90m1\u001b[39m ausgeglichen Positive  Positive      294\n",
       "\u001b[90m2\u001b[39m ausgeglichen Positive  Negative        1\n",
       "\u001b[90m3\u001b[39m ausgeglichen Negative  Negative       65\n",
       "\n",
       "$dog_2_mood$rates\n",
       "\u001b[90m# A tibble: 1 x 4\u001b[39m\n",
       "  dog_2_mood   detection_rate false_neg_rate false_pos_rate\n",
       "  \u001b[3m\u001b[90m<fct>\u001b[39m\u001b[23m                 \u001b[3m\u001b[90m<dbl>\u001b[39m\u001b[23m          \u001b[3m\u001b[90m<dbl>\u001b[39m\u001b[23m          \u001b[3m\u001b[90m<dbl>\u001b[39m\u001b[23m\n",
       "\u001b[90m1\u001b[39m ausgeglichen          0.817              0        0.002\u001b[4m7\u001b[24m\u001b[4m8\u001b[24m\n",
       "\n",
       "\n",
       "$dog_3_mood\n",
       "$dog_3_mood$contingency_table\n",
       "\u001b[90m# A tibble: 3 x 4\u001b[39m\n",
       "  dog_3_mood   detection true_result count\n",
       "  \u001b[3m\u001b[90m<fct>\u001b[39m\u001b[23m        \u001b[3m\u001b[90m<fct>\u001b[39m\u001b[23m     \u001b[3m\u001b[90m<fct>\u001b[39m\u001b[23m       \u001b[3m\u001b[90m<int>\u001b[39m\u001b[23m\n",
       "\u001b[90m1\u001b[39m ausgeglichen Positive  Positive      294\n",
       "\u001b[90m2\u001b[39m ausgeglichen Positive  Negative        1\n",
       "\u001b[90m3\u001b[39m ausgeglichen Negative  Negative       65\n",
       "\n",
       "$dog_3_mood$rates\n",
       "\u001b[90m# A tibble: 1 x 4\u001b[39m\n",
       "  dog_3_mood   detection_rate false_neg_rate false_pos_rate\n",
       "  \u001b[3m\u001b[90m<fct>\u001b[39m\u001b[23m                 \u001b[3m\u001b[90m<dbl>\u001b[39m\u001b[23m          \u001b[3m\u001b[90m<dbl>\u001b[39m\u001b[23m          \u001b[3m\u001b[90m<dbl>\u001b[39m\u001b[23m\n",
       "\u001b[90m1\u001b[39m ausgeglichen          0.817              0        0.002\u001b[4m7\u001b[24m\u001b[4m8\u001b[24m\n",
       "\n",
       "\n",
       "$dog_4_mood\n",
       "$dog_4_mood$contingency_table\n",
       "\u001b[90m# A tibble: 3 x 4\u001b[39m\n",
       "  dog_4_mood   detection true_result count\n",
       "  \u001b[3m\u001b[90m<fct>\u001b[39m\u001b[23m        \u001b[3m\u001b[90m<fct>\u001b[39m\u001b[23m     \u001b[3m\u001b[90m<fct>\u001b[39m\u001b[23m       \u001b[3m\u001b[90m<int>\u001b[39m\u001b[23m\n",
       "\u001b[90m1\u001b[39m ausgeglichen Positive  Positive      294\n",
       "\u001b[90m2\u001b[39m ausgeglichen Positive  Negative        1\n",
       "\u001b[90m3\u001b[39m ausgeglichen Negative  Negative       65\n",
       "\n",
       "$dog_4_mood$rates\n",
       "\u001b[90m# A tibble: 1 x 4\u001b[39m\n",
       "  dog_4_mood   detection_rate false_neg_rate false_pos_rate\n",
       "  \u001b[3m\u001b[90m<fct>\u001b[39m\u001b[23m                 \u001b[3m\u001b[90m<dbl>\u001b[39m\u001b[23m          \u001b[3m\u001b[90m<dbl>\u001b[39m\u001b[23m          \u001b[3m\u001b[90m<dbl>\u001b[39m\u001b[23m\n",
       "\u001b[90m1\u001b[39m ausgeglichen          0.817              0        0.002\u001b[4m7\u001b[24m\u001b[4m8\u001b[24m\n",
       "\n",
       "\n",
       "$dog_5_mood\n",
       "$dog_5_mood$contingency_table\n",
       "\u001b[90m# A tibble: 3 x 4\u001b[39m\n",
       "  dog_5_mood   detection true_result count\n",
       "  \u001b[3m\u001b[90m<fct>\u001b[39m\u001b[23m        \u001b[3m\u001b[90m<fct>\u001b[39m\u001b[23m     \u001b[3m\u001b[90m<fct>\u001b[39m\u001b[23m       \u001b[3m\u001b[90m<int>\u001b[39m\u001b[23m\n",
       "\u001b[90m1\u001b[39m ausgeglichen Positive  Positive      294\n",
       "\u001b[90m2\u001b[39m ausgeglichen Positive  Negative        1\n",
       "\u001b[90m3\u001b[39m ausgeglichen Negative  Negative       65\n",
       "\n",
       "$dog_5_mood$rates\n",
       "\u001b[90m# A tibble: 1 x 4\u001b[39m\n",
       "  dog_5_mood   detection_rate false_neg_rate false_pos_rate\n",
       "  \u001b[3m\u001b[90m<fct>\u001b[39m\u001b[23m                 \u001b[3m\u001b[90m<dbl>\u001b[39m\u001b[23m          \u001b[3m\u001b[90m<dbl>\u001b[39m\u001b[23m          \u001b[3m\u001b[90m<dbl>\u001b[39m\u001b[23m\n",
       "\u001b[90m1\u001b[39m ausgeglichen          0.817              0        0.002\u001b[4m7\u001b[24m\u001b[4m8\u001b[24m\n",
       "\n"
      ]
     },
     "metadata": {},
     "output_type": "display_data"
    }
   ],
   "source": [
    "# View results for each confounder\n",
    "names(results) <- confounders\n",
    "results"
   ]
  },
  {
   "cell_type": "code",
   "execution_count": 32,
   "metadata": {
    "vscode": {
     "languageId": "r"
    }
   },
   "outputs": [
    {
     "name": "stderr",
     "output_type": "stream",
     "text": [
      "\n",
      "Attaching package: 'gridExtra'\n",
      "\n",
      "\n",
      "The following object is masked from 'package:dplyr':\n",
      "\n",
      "    combine\n",
      "\n",
      "\n"
     ]
    }
   ],
   "source": [
    "library(gridExtra)\n"
   ]
  },
  {
   "cell_type": "code",
   "execution_count": 33,
   "metadata": {
    "vscode": {
     "languageId": "r"
    }
   },
   "outputs": [],
   "source": [
    "# Function to create individual bar plots for confounders\n",
    "plot_confounder <- function(data, confounder_var, rates_var = \"detection_rate\") {\n",
    "  ggplot(data, aes(x = !!sym(confounder_var), y = !!sym(rates_var), fill = !!sym(confounder_var))) +\n",
    "    geom_bar(stat = \"identity\", position = \"dodge\") +\n",
    "    labs(title = paste(\"Detection Rate by\", confounder_var),\n",
    "         x = confounder_var,\n",
    "         y = \"Detection Rate\") +\n",
    "    theme_minimal() +\n",
    "    ylim(0, 1)  # detection rate is a proportion (0 to 1)\n",
    "}"
   ]
  },
  {
   "cell_type": "code",
   "execution_count": 34,
   "metadata": {
    "vscode": {
     "languageId": "r"
    }
   },
   "outputs": [],
   "source": [
    "options(repr.plot.width=12, repr.plot.height=4)"
   ]
  },
  {
   "cell_type": "code",
   "execution_count": 35,
   "metadata": {
    "vscode": {
     "languageId": "r"
    }
   },
   "outputs": [
    {
     "data": {
      "image/png": "[encoded data removed]",
      "text/plain": [
       "plot without title"
      ]
     },
     "metadata": {
      "image/png": {
       "height": 240,
       "width": 720
      }
     },
     "output_type": "display_data"
    }
   ],
   "source": [
    "# Plots for weather and supervisor\n",
    "plot_weather <- plot_confounder(results$weather$rates, \"weather\")\n",
    "plot_supervisor <- plot_confounder(results$supervisor$rates, \"supervisor\")\n",
    "\n",
    "# Arrange the weather and supervisor plots side by side\n",
    "grid_1 <- grid.arrange(plot_weather, plot_supervisor, nrow = 1, ncol = 2)\n",
    "\n",
    "# Save the grid_1 as an EPS file using ggsave\n",
    "ggsave(\"confounder_weather_supervisor_plots.eps\", plot = grid_1, device = \"eps\", width = 10, height = 5)\n"
   ]
  },
  {
   "cell_type": "markdown",
   "metadata": {},
   "source": [
    "**Weather**\n",
    "1. The detection rate is highest in \"bewölkt\" (overcast) weather (0.83), followed by \"regnerisch\" (rainy) weather (0.81), and is slightly lower in \"sonnig\" (sunny) conditions (0.79).\n",
    "2. There are no false negatives for any weather condition, indicating that when the dogs missed the detection, the diagnosis was negative (which is good).\n",
    "3. The false-positive rate is very low across all conditions, with a small false positive rate in \"bewölkt\" (0.0053) but no false positives in \"regnerisch\" or \"sonnig.\"\n",
    "4. Interpretation: Detection performance remains relatively stable across different weather conditions, with slightly better performance under overcast skies."
   ]
  },
  {
   "cell_type": "markdown",
   "metadata": {},
   "source": [
    "**Supervisor**​\n",
    "1. Detection rates vary between supervisors. \"C. W.\" and \"F. S.\" show high detection rates of 0.82 and 0.86, respectively. \"F.B\" and \"P.H\" show detection rates of 1. \"A. B.\" has the lowest detection rate at 0.61.​\n",
    "2. Only \"C. W.\" has a small false-positive rate (0.004), while the others have zero false positives.​\n",
    "3. Interpretation: Supervisor \"F.B.\" and \"P.H.\" appears to be the most reliable with the highest detection rate, while \"A. B.\" exhibits the lowest performance. This could imply that the supervisor has an impact on the dogs' detection accuracy."
   ]
  },
  {
   "cell_type": "code",
   "execution_count": 62,
   "metadata": {
    "vscode": {
     "languageId": "r"
    }
   },
   "outputs": [
    {
     "data": {
      "image/png": "[encoded data removed]",
      "text/plain": [
       "plot without title"
      ]
     },
     "metadata": {
      "image/png": {
       "height": 360,
       "width": 720
      }
     },
     "output_type": "display_data"
    }
   ],
   "source": [
    "# Plots for handler moods\n",
    "plot_handler_1_mood <- plot_confounder(results$handler_1_mood$rates, \"handler_1_mood\")\n",
    "plot_handler_2_mood <- plot_confounder(results$handler_2_mood$rates, \"handler_2_mood\")\n",
    "plot_handler_3_mood <- plot_confounder(results$handler_3_mood$rates, \"handler_3_mood\")\n",
    "\n",
    "# Arrange the handler mood plots in a 1x3 grid\n",
    "grid_2 <- grid.arrange(plot_handler_1_mood, plot_handler_2_mood, plot_handler_3_mood, nrow = 1, ncol = 3)\n",
    "\n",
    "# Save the grid_1 as an EPS file using ggsave\n",
    "ggsave(\"confounder_handler_mood_plots.eps\", plot = grid_2, device = \"eps\", width = 10, height = 5)\n"
   ]
  },
  {
   "cell_type": "markdown",
   "metadata": {},
   "source": [
    "**Handler_1_mood**​\n",
    "1. Detection rates differ based on the handler's mood. “tired\" handler mood has a perfect detection rate of 1.0, while “balanced\" handlers have a slightly lower rate of 0.82, and “sick\" handlers have the lowest at 0.74.​\n",
    "2. The false-positive rate is low for “balanced\" (0.003) and zero for others.​\n",
    "3. Interpretation: Tired handlers surprisingly demonstrate the highest detection accuracy, possibly because the dogs might compensate or because tiredness affects the dogs differently. Sick handlers show a lower detection rate, indicating their mood may negatively influence dog performance."
   ]
  },
  {
   "cell_type": "markdown",
   "metadata": {},
   "source": [
    "**Handler_2_mood**​\n",
    "1. Similar trends are observed: “tired\" handler mood has a 1.0 detection rate, and “sick\" handler mood is close behind at 0.95. “stressed\" handler mood show lower performance at 0.78.​\n",
    "2. The false-positive rate is very low, with a small value for “balanced\" (0.003).​\n",
    "3. Interpretation: Stress may significantly impact detection accuracy, while tired and sick handler mood seems to influence the dogs positively, likely due to compensatory mechanisms in the training or the dogs."
   ]
  },
  {
   "cell_type": "markdown",
   "metadata": {},
   "source": [
    "**Handler_3_mood**​\n",
    "1. Again, the “tired\" handler mood has a very high detection rate (0.96) compared to “balanced\" (0.81).​\n",
    "2. False positives are minimal, with a slight rate for “balanced\" handlers.​\n",
    "3. Interpretation: Tired handlers consistently outperform, which raises interesting questions about how handler states affect the dogs. It seems that dogs respond better or at least maintain their performance with tired handlers, while balanced handlers see more variability.​\n",
    "​"
   ]
  },
  {
   "cell_type": "code",
   "execution_count": 63,
   "metadata": {
    "vscode": {
     "languageId": "r"
    }
   },
   "outputs": [
    {
     "data": {
      "image/png": "[encoded data removed]",
      "text/plain": [
       "plot without title"
      ]
     },
     "metadata": {
      "image/png": {
       "height": 360,
       "width": 720
      }
     },
     "output_type": "display_data"
    }
   ],
   "source": [
    "options(repr.plot.width=12, repr.plot.height=6)\n",
    "# Plots for dog moods\n",
    "plot_dog_1_mood <- plot_confounder(results$dog_1_mood$rates, \"dog_1_mood\")\n",
    "plot_dog_2_mood <- plot_confounder(results$dog_2_mood$rates, \"dog_2_mood\")\n",
    "plot_dog_3_mood <- plot_confounder(results$dog_3_mood$rates, \"dog_3_mood\")\n",
    "plot_dog_4_mood <- plot_confounder(results$dog_4_mood$rates, \"dog_4_mood\")\n",
    "plot_dog_5_mood <- plot_confounder(results$dog_5_mood$rates, \"dog_5_mood\")\n",
    "\n",
    "# Arrange the dog mood plots in a 2x3 grid (leaving one slot empty)\n",
    "grid_3 <- grid.arrange(plot_dog_1_mood, plot_dog_2_mood, plot_dog_3_mood, \n",
    "                       plot_dog_4_mood, plot_dog_5_mood, nrow = 2, ncol = 3)\n",
    "\n",
    "# Save the grid_1 as an EPS file using ggsave\n",
    "ggsave(\"confounder_dog_mood_plots.eps\", plot = grid_3, device = \"eps\", width = 10, height = 5)\n"
   ]
  },
  {
   "cell_type": "markdown",
   "metadata": {},
   "source": [
    "**Dog 1 mood**​\n",
    "1. “tired\" dog mood has a perfect detection rate (1.0), while “balanced\" shows a slightly lower detection rate (0.81).​\n",
    "2. False positives are minimal.​\n",
    "3. Interpretation: Similar to the handlers, tired dog mood seems to outperform or maintain high detection accuracy, possibly due to being more focused despite their physical state."
   ]
  },
  {
   "cell_type": "markdown",
   "metadata": {},
   "source": [
    "**Dog 2,3,4,5 mood**​\n",
    "1. Across all other dogs, the “balanced\" mood shows consistent detection rates around 0.82 with very low false-positive rates (0.002-0.003).​\n",
    "2. Interpretation: Across different dogs, a balanced mood results in stable detection performance. There's little variability among the dogs, suggesting that regardless of the dog's mood, detection capabilities remain robust."
   ]
  },
  {
   "cell_type": "markdown",
   "metadata": {},
   "source": [
    "**OVERALL SUMMARY:**\n",
    "1. The results indicate that weather, supervisor, and mood (both handler and dog) have some effect on detection performance, but the differences are relatively small in most cases.\n",
    "2. Interestingly, tired handlers and dogs consistently show high detection rates, which might reflect compensatory behavior or focused training under these conditions.\n",
    "3. The supervisor's role seems more influential, with significant variability in detection rates depending on who is managing the dogs, suggesting that human influence plays a notable role in outcomes."
   ]
  },
  {
   "cell_type": "markdown",
   "metadata": {},
   "source": [
    "## 1.2 Descriptive Analysis and Visualizations"
   ]
  },
  {
   "cell_type": "markdown",
   "metadata": {},
   "source": [
    "### Confusion Matrix"
   ]
  },
  {
   "cell_type": "code",
   "execution_count": 77,
   "metadata": {
    "vscode": {
     "languageId": "r"
    }
   },
   "outputs": [],
   "source": [
    "# Function to create confusion matrices and calculate additional metrics, including MCC and Balanced Accuracy\n",
    "calculate_metrics <- function(conf_matrix) {\n",
    "  # Extract values from the confusion matrix\n",
    "  TP <- conf_matrix[2, 2] # True Positive\n",
    "  TN <- conf_matrix[1, 1] # True Negative\n",
    "  FP <- conf_matrix[1, 2] # False Positive\n",
    "  FN <- conf_matrix[2, 1] # False Negative\n",
    "  \n",
    "  # Calculate metrics\n",
    "  sensitivity <- ifelse(TP + FN > 0, TP / (TP + FN), NA)  # Recall\n",
    "  specificity <- ifelse(TN + FP > 0, TN / (TN + FP), NA)  # True Negative Rate\n",
    "  PPV <- ifelse(TP + FP > 0, TP / (TP + FP), NA)          # Precision\n",
    "  NPV <- ifelse(TN + FN > 0, TN / (TN + FN), NA)          # Negative Predictive Value\n",
    "  accuracy <- ifelse(TP + TN + FP + FN > 0, (TP + TN) / (TP + TN + FP + FN), NA)\n",
    "  \n",
    "  # F1 Score: Harmonic mean of precision (PPV) and recall (sensitivity)\n",
    "  F1 <- ifelse(!is.na(PPV) & !is.na(sensitivity) & (PPV + sensitivity > 0),\n",
    "               2 * (PPV * sensitivity) / (PPV + sensitivity), NA)\n",
    "  \n",
    "  # Matthews Correlation Coefficient (MCC)\n",
    "  MCC <- ifelse((TP + FP > 0) & (TP + FN > 0) & (TN + FP > 0) & (TN + FN > 0),\n",
    "                (TP * TN - FP * FN) / sqrt((TP + FP) * (TP + FN) * (TN + FP) * (TN + FN)), NA)\n",
    "  \n",
    "  # Balanced Accuracy: Average of sensitivity (recall) and specificity\n",
    "  balanced_accuracy <- ifelse(!is.na(sensitivity) & !is.na(specificity), \n",
    "                              (sensitivity + specificity) / 2, NA)\n",
    "  \n",
    "  # Return all calculated metrics as a list\n",
    "  return(list(sensitivity = sensitivity,\n",
    "              specificity = specificity,\n",
    "              PPV = PPV,  # Precision\n",
    "              NPV = NPV,\n",
    "              accuracy = accuracy,\n",
    "              F1_score = F1,\n",
    "              MCC = MCC,\n",
    "              balanced_accuracy = balanced_accuracy))\n",
    "}"
   ]
  },
  {
   "cell_type": "code",
   "execution_count": 78,
   "metadata": {
    "vscode": {
     "languageId": "r"
    }
   },
   "outputs": [],
   "source": [
    "# Ensure true_result and detection are factors\n",
    "completed_data$true_result <- factor(completed_data$true_result, levels = c(\"Negative\", \"Positive\"))\n",
    "completed_data$detection <- factor(completed_data$detection, levels = c(\"Negative\", \"Positive\"))\n"
   ]
  },
  {
   "cell_type": "code",
   "execution_count": 80,
   "metadata": {
    "vscode": {
     "languageId": "r"
    }
   },
   "outputs": [],
   "source": [
    "# List of dogs\n",
    "dogs <- c(\"dog_1\", \"dog_2\", \"dog_3\", \"dog_4\", \"dog_5\")"
   ]
  },
  {
   "cell_type": "code",
   "execution_count": 81,
   "metadata": {
    "vscode": {
     "languageId": "r"
    }
   },
   "outputs": [],
   "source": [
    "# Initialize a list to store metrics for each dog\n",
    "dog_metrics <- list()\n",
    "\n",
    "# Loop through each dog and calculate the confusion matrix and metrics\n",
    "for (dog in dogs) {\n",
    "  # Subset data for the specific dog\n",
    "  dog_data <- completed_data\n",
    "  \n",
    "  # Create a confusion matrix\n",
    "  conf_matrix <- table(dog_data$true_result, dog_data$detection)\n",
    "  \n",
    "  # Calculate metrics using the function\n",
    "  metrics <- calculate_metrics(conf_matrix)\n",
    "  \n",
    "  # Store the metrics for this dog\n",
    "  dog_metrics[[dog]] <- metrics\n",
    "}"
   ]
  },
  {
   "cell_type": "code",
   "execution_count": 82,
   "metadata": {
    "vscode": {
     "languageId": "r"
    }
   },
   "outputs": [
    {
     "data": {
      "text/html": [
       "<dl>\n",
       "\t<dt>$dog_1</dt>\n",
       "\t\t<dd><dl>\n",
       "\t<dt>$sensitivity</dt>\n",
       "\t\t<dd>1</dd>\n",
       "\t<dt>$specificity</dt>\n",
       "\t\t<dd>0.984848484848485</dd>\n",
       "\t<dt>$PPV</dt>\n",
       "\t\t<dd>0.996610169491525</dd>\n",
       "\t<dt>$NPV</dt>\n",
       "\t\t<dd>1</dd>\n",
       "\t<dt>$accuracy</dt>\n",
       "\t\t<dd>0.997222222222222</dd>\n",
       "\t<dt>$F1_score</dt>\n",
       "\t\t<dd>0.99830220713073</dd>\n",
       "\t<dt>$MCC</dt>\n",
       "\t\t<dd>0.990711873053069</dd>\n",
       "\t<dt>$balanced_accuracy</dt>\n",
       "\t\t<dd>0.992424242424242</dd>\n",
       "</dl>\n",
       "</dd>\n",
       "\t<dt>$dog_2</dt>\n",
       "\t\t<dd><dl>\n",
       "\t<dt>$sensitivity</dt>\n",
       "\t\t<dd>1</dd>\n",
       "\t<dt>$specificity</dt>\n",
       "\t\t<dd>0.984848484848485</dd>\n",
       "\t<dt>$PPV</dt>\n",
       "\t\t<dd>0.996610169491525</dd>\n",
       "\t<dt>$NPV</dt>\n",
       "\t\t<dd>1</dd>\n",
       "\t<dt>$accuracy</dt>\n",
       "\t\t<dd>0.997222222222222</dd>\n",
       "\t<dt>$F1_score</dt>\n",
       "\t\t<dd>0.99830220713073</dd>\n",
       "\t<dt>$MCC</dt>\n",
       "\t\t<dd>0.990711873053069</dd>\n",
       "\t<dt>$balanced_accuracy</dt>\n",
       "\t\t<dd>0.992424242424242</dd>\n",
       "</dl>\n",
       "</dd>\n",
       "\t<dt>$dog_3</dt>\n",
       "\t\t<dd><dl>\n",
       "\t<dt>$sensitivity</dt>\n",
       "\t\t<dd>1</dd>\n",
       "\t<dt>$specificity</dt>\n",
       "\t\t<dd>0.984848484848485</dd>\n",
       "\t<dt>$PPV</dt>\n",
       "\t\t<dd>0.996610169491525</dd>\n",
       "\t<dt>$NPV</dt>\n",
       "\t\t<dd>1</dd>\n",
       "\t<dt>$accuracy</dt>\n",
       "\t\t<dd>0.997222222222222</dd>\n",
       "\t<dt>$F1_score</dt>\n",
       "\t\t<dd>0.99830220713073</dd>\n",
       "\t<dt>$MCC</dt>\n",
       "\t\t<dd>0.990711873053069</dd>\n",
       "\t<dt>$balanced_accuracy</dt>\n",
       "\t\t<dd>0.992424242424242</dd>\n",
       "</dl>\n",
       "</dd>\n",
       "\t<dt>$dog_4</dt>\n",
       "\t\t<dd><dl>\n",
       "\t<dt>$sensitivity</dt>\n",
       "\t\t<dd>1</dd>\n",
       "\t<dt>$specificity</dt>\n",
       "\t\t<dd>0.984848484848485</dd>\n",
       "\t<dt>$PPV</dt>\n",
       "\t\t<dd>0.996610169491525</dd>\n",
       "\t<dt>$NPV</dt>\n",
       "\t\t<dd>1</dd>\n",
       "\t<dt>$accuracy</dt>\n",
       "\t\t<dd>0.997222222222222</dd>\n",
       "\t<dt>$F1_score</dt>\n",
       "\t\t<dd>0.99830220713073</dd>\n",
       "\t<dt>$MCC</dt>\n",
       "\t\t<dd>0.990711873053069</dd>\n",
       "\t<dt>$balanced_accuracy</dt>\n",
       "\t\t<dd>0.992424242424242</dd>\n",
       "</dl>\n",
       "</dd>\n",
       "\t<dt>$dog_5</dt>\n",
       "\t\t<dd><dl>\n",
       "\t<dt>$sensitivity</dt>\n",
       "\t\t<dd>1</dd>\n",
       "\t<dt>$specificity</dt>\n",
       "\t\t<dd>0.984848484848485</dd>\n",
       "\t<dt>$PPV</dt>\n",
       "\t\t<dd>0.996610169491525</dd>\n",
       "\t<dt>$NPV</dt>\n",
       "\t\t<dd>1</dd>\n",
       "\t<dt>$accuracy</dt>\n",
       "\t\t<dd>0.997222222222222</dd>\n",
       "\t<dt>$F1_score</dt>\n",
       "\t\t<dd>0.99830220713073</dd>\n",
       "\t<dt>$MCC</dt>\n",
       "\t\t<dd>0.990711873053069</dd>\n",
       "\t<dt>$balanced_accuracy</dt>\n",
       "\t\t<dd>0.992424242424242</dd>\n",
       "</dl>\n",
       "</dd>\n",
       "</dl>\n"
      ],
      "text/latex": [
       "\\begin{description}\n",
       "\\item[\\$dog\\_1] \\begin{description}\n",
       "\\item[\\$sensitivity] 1\n",
       "\\item[\\$specificity] 0.984848484848485\n",
       "\\item[\\$PPV] 0.996610169491525\n",
       "\\item[\\$NPV] 1\n",
       "\\item[\\$accuracy] 0.997222222222222\n",
       "\\item[\\$F1\\_score] 0.99830220713073\n",
       "\\item[\\$MCC] 0.990711873053069\n",
       "\\item[\\$balanced\\_accuracy] 0.992424242424242\n",
       "\\end{description}\n",
       "\n",
       "\\item[\\$dog\\_2] \\begin{description}\n",
       "\\item[\\$sensitivity] 1\n",
       "\\item[\\$specificity] 0.984848484848485\n",
       "\\item[\\$PPV] 0.996610169491525\n",
       "\\item[\\$NPV] 1\n",
       "\\item[\\$accuracy] 0.997222222222222\n",
       "\\item[\\$F1\\_score] 0.99830220713073\n",
       "\\item[\\$MCC] 0.990711873053069\n",
       "\\item[\\$balanced\\_accuracy] 0.992424242424242\n",
       "\\end{description}\n",
       "\n",
       "\\item[\\$dog\\_3] \\begin{description}\n",
       "\\item[\\$sensitivity] 1\n",
       "\\item[\\$specificity] 0.984848484848485\n",
       "\\item[\\$PPV] 0.996610169491525\n",
       "\\item[\\$NPV] 1\n",
       "\\item[\\$accuracy] 0.997222222222222\n",
       "\\item[\\$F1\\_score] 0.99830220713073\n",
       "\\item[\\$MCC] 0.990711873053069\n",
       "\\item[\\$balanced\\_accuracy] 0.992424242424242\n",
       "\\end{description}\n",
       "\n",
       "\\item[\\$dog\\_4] \\begin{description}\n",
       "\\item[\\$sensitivity] 1\n",
       "\\item[\\$specificity] 0.984848484848485\n",
       "\\item[\\$PPV] 0.996610169491525\n",
       "\\item[\\$NPV] 1\n",
       "\\item[\\$accuracy] 0.997222222222222\n",
       "\\item[\\$F1\\_score] 0.99830220713073\n",
       "\\item[\\$MCC] 0.990711873053069\n",
       "\\item[\\$balanced\\_accuracy] 0.992424242424242\n",
       "\\end{description}\n",
       "\n",
       "\\item[\\$dog\\_5] \\begin{description}\n",
       "\\item[\\$sensitivity] 1\n",
       "\\item[\\$specificity] 0.984848484848485\n",
       "\\item[\\$PPV] 0.996610169491525\n",
       "\\item[\\$NPV] 1\n",
       "\\item[\\$accuracy] 0.997222222222222\n",
       "\\item[\\$F1\\_score] 0.99830220713073\n",
       "\\item[\\$MCC] 0.990711873053069\n",
       "\\item[\\$balanced\\_accuracy] 0.992424242424242\n",
       "\\end{description}\n",
       "\n",
       "\\end{description}\n"
      ],
      "text/markdown": [
       "$dog_1\n",
       ":   $sensitivity\n",
       ":   1\n",
       "$specificity\n",
       ":   0.984848484848485\n",
       "$PPV\n",
       ":   0.996610169491525\n",
       "$NPV\n",
       ":   1\n",
       "$accuracy\n",
       ":   0.997222222222222\n",
       "$F1_score\n",
       ":   0.99830220713073\n",
       "$MCC\n",
       ":   0.990711873053069\n",
       "$balanced_accuracy\n",
       ":   0.992424242424242\n",
       "\n",
       "\n",
       "\n",
       "$dog_2\n",
       ":   $sensitivity\n",
       ":   1\n",
       "$specificity\n",
       ":   0.984848484848485\n",
       "$PPV\n",
       ":   0.996610169491525\n",
       "$NPV\n",
       ":   1\n",
       "$accuracy\n",
       ":   0.997222222222222\n",
       "$F1_score\n",
       ":   0.99830220713073\n",
       "$MCC\n",
       ":   0.990711873053069\n",
       "$balanced_accuracy\n",
       ":   0.992424242424242\n",
       "\n",
       "\n",
       "\n",
       "$dog_3\n",
       ":   $sensitivity\n",
       ":   1\n",
       "$specificity\n",
       ":   0.984848484848485\n",
       "$PPV\n",
       ":   0.996610169491525\n",
       "$NPV\n",
       ":   1\n",
       "$accuracy\n",
       ":   0.997222222222222\n",
       "$F1_score\n",
       ":   0.99830220713073\n",
       "$MCC\n",
       ":   0.990711873053069\n",
       "$balanced_accuracy\n",
       ":   0.992424242424242\n",
       "\n",
       "\n",
       "\n",
       "$dog_4\n",
       ":   $sensitivity\n",
       ":   1\n",
       "$specificity\n",
       ":   0.984848484848485\n",
       "$PPV\n",
       ":   0.996610169491525\n",
       "$NPV\n",
       ":   1\n",
       "$accuracy\n",
       ":   0.997222222222222\n",
       "$F1_score\n",
       ":   0.99830220713073\n",
       "$MCC\n",
       ":   0.990711873053069\n",
       "$balanced_accuracy\n",
       ":   0.992424242424242\n",
       "\n",
       "\n",
       "\n",
       "$dog_5\n",
       ":   $sensitivity\n",
       ":   1\n",
       "$specificity\n",
       ":   0.984848484848485\n",
       "$PPV\n",
       ":   0.996610169491525\n",
       "$NPV\n",
       ":   1\n",
       "$accuracy\n",
       ":   0.997222222222222\n",
       "$F1_score\n",
       ":   0.99830220713073\n",
       "$MCC\n",
       ":   0.990711873053069\n",
       "$balanced_accuracy\n",
       ":   0.992424242424242\n",
       "\n",
       "\n",
       "\n",
       "\n",
       "\n"
      ],
      "text/plain": [
       "$dog_1\n",
       "$dog_1$sensitivity\n",
       "[1] 1\n",
       "\n",
       "$dog_1$specificity\n",
       "[1] 0.9848485\n",
       "\n",
       "$dog_1$PPV\n",
       "[1] 0.9966102\n",
       "\n",
       "$dog_1$NPV\n",
       "[1] 1\n",
       "\n",
       "$dog_1$accuracy\n",
       "[1] 0.9972222\n",
       "\n",
       "$dog_1$F1_score\n",
       "[1] 0.9983022\n",
       "\n",
       "$dog_1$MCC\n",
       "[1] 0.9907119\n",
       "\n",
       "$dog_1$balanced_accuracy\n",
       "[1] 0.9924242\n",
       "\n",
       "\n",
       "$dog_2\n",
       "$dog_2$sensitivity\n",
       "[1] 1\n",
       "\n",
       "$dog_2$specificity\n",
       "[1] 0.9848485\n",
       "\n",
       "$dog_2$PPV\n",
       "[1] 0.9966102\n",
       "\n",
       "$dog_2$NPV\n",
       "[1] 1\n",
       "\n",
       "$dog_2$accuracy\n",
       "[1] 0.9972222\n",
       "\n",
       "$dog_2$F1_score\n",
       "[1] 0.9983022\n",
       "\n",
       "$dog_2$MCC\n",
       "[1] 0.9907119\n",
       "\n",
       "$dog_2$balanced_accuracy\n",
       "[1] 0.9924242\n",
       "\n",
       "\n",
       "$dog_3\n",
       "$dog_3$sensitivity\n",
       "[1] 1\n",
       "\n",
       "$dog_3$specificity\n",
       "[1] 0.9848485\n",
       "\n",
       "$dog_3$PPV\n",
       "[1] 0.9966102\n",
       "\n",
       "$dog_3$NPV\n",
       "[1] 1\n",
       "\n",
       "$dog_3$accuracy\n",
       "[1] 0.9972222\n",
       "\n",
       "$dog_3$F1_score\n",
       "[1] 0.9983022\n",
       "\n",
       "$dog_3$MCC\n",
       "[1] 0.9907119\n",
       "\n",
       "$dog_3$balanced_accuracy\n",
       "[1] 0.9924242\n",
       "\n",
       "\n",
       "$dog_4\n",
       "$dog_4$sensitivity\n",
       "[1] 1\n",
       "\n",
       "$dog_4$specificity\n",
       "[1] 0.9848485\n",
       "\n",
       "$dog_4$PPV\n",
       "[1] 0.9966102\n",
       "\n",
       "$dog_4$NPV\n",
       "[1] 1\n",
       "\n",
       "$dog_4$accuracy\n",
       "[1] 0.9972222\n",
       "\n",
       "$dog_4$F1_score\n",
       "[1] 0.9983022\n",
       "\n",
       "$dog_4$MCC\n",
       "[1] 0.9907119\n",
       "\n",
       "$dog_4$balanced_accuracy\n",
       "[1] 0.9924242\n",
       "\n",
       "\n",
       "$dog_5\n",
       "$dog_5$sensitivity\n",
       "[1] 1\n",
       "\n",
       "$dog_5$specificity\n",
       "[1] 0.9848485\n",
       "\n",
       "$dog_5$PPV\n",
       "[1] 0.9966102\n",
       "\n",
       "$dog_5$NPV\n",
       "[1] 1\n",
       "\n",
       "$dog_5$accuracy\n",
       "[1] 0.9972222\n",
       "\n",
       "$dog_5$F1_score\n",
       "[1] 0.9983022\n",
       "\n",
       "$dog_5$MCC\n",
       "[1] 0.9907119\n",
       "\n",
       "$dog_5$balanced_accuracy\n",
       "[1] 0.9924242\n",
       "\n"
      ]
     },
     "metadata": {},
     "output_type": "display_data"
    },
    {
     "data": {
      "text/html": [
       "<dl>\n",
       "\t<dt>$sensitivity</dt>\n",
       "\t\t<dd>1</dd>\n",
       "\t<dt>$specificity</dt>\n",
       "\t\t<dd>0.984848484848485</dd>\n",
       "\t<dt>$PPV</dt>\n",
       "\t\t<dd>0.996610169491525</dd>\n",
       "\t<dt>$NPV</dt>\n",
       "\t\t<dd>1</dd>\n",
       "\t<dt>$accuracy</dt>\n",
       "\t\t<dd>0.997222222222222</dd>\n",
       "\t<dt>$F1_score</dt>\n",
       "\t\t<dd>0.99830220713073</dd>\n",
       "\t<dt>$MCC</dt>\n",
       "\t\t<dd>0.990711873053069</dd>\n",
       "\t<dt>$balanced_accuracy</dt>\n",
       "\t\t<dd>0.992424242424242</dd>\n",
       "</dl>\n"
      ],
      "text/latex": [
       "\\begin{description}\n",
       "\\item[\\$sensitivity] 1\n",
       "\\item[\\$specificity] 0.984848484848485\n",
       "\\item[\\$PPV] 0.996610169491525\n",
       "\\item[\\$NPV] 1\n",
       "\\item[\\$accuracy] 0.997222222222222\n",
       "\\item[\\$F1\\_score] 0.99830220713073\n",
       "\\item[\\$MCC] 0.990711873053069\n",
       "\\item[\\$balanced\\_accuracy] 0.992424242424242\n",
       "\\end{description}\n"
      ],
      "text/markdown": [
       "$sensitivity\n",
       ":   1\n",
       "$specificity\n",
       ":   0.984848484848485\n",
       "$PPV\n",
       ":   0.996610169491525\n",
       "$NPV\n",
       ":   1\n",
       "$accuracy\n",
       ":   0.997222222222222\n",
       "$F1_score\n",
       ":   0.99830220713073\n",
       "$MCC\n",
       ":   0.990711873053069\n",
       "$balanced_accuracy\n",
       ":   0.992424242424242\n",
       "\n",
       "\n"
      ],
      "text/plain": [
       "$sensitivity\n",
       "[1] 1\n",
       "\n",
       "$specificity\n",
       "[1] 0.9848485\n",
       "\n",
       "$PPV\n",
       "[1] 0.9966102\n",
       "\n",
       "$NPV\n",
       "[1] 1\n",
       "\n",
       "$accuracy\n",
       "[1] 0.9972222\n",
       "\n",
       "$F1_score\n",
       "[1] 0.9983022\n",
       "\n",
       "$MCC\n",
       "[1] 0.9907119\n",
       "\n",
       "$balanced_accuracy\n",
       "[1] 0.9924242\n"
      ]
     },
     "metadata": {},
     "output_type": "display_data"
    }
   ],
   "source": [
    "# Overall group confusion matrix\n",
    "overall_conf_matrix <- table(completed_data$true_result, completed_data$detection)\n",
    "overall_metrics <- calculate_metrics(overall_conf_matrix)\n",
    "\n",
    "# Print the results\n",
    "dog_metrics\n",
    "overall_metrics"
   ]
  },
  {
   "cell_type": "code",
   "execution_count": 83,
   "metadata": {
    "vscode": {
     "languageId": "r"
    }
   },
   "outputs": [],
   "source": [
    "# Convert the list of metrics into a data frame for visualization\n",
    "metrics_df <- do.call(rbind, lapply(names(dog_metrics), function(dog) {\n",
    "  data.frame(dog = dog,\n",
    "             sensitivity = dog_metrics[[dog]]$sensitivity,\n",
    "             specificity = dog_metrics[[dog]]$specificity,\n",
    "             PPV = dog_metrics[[dog]]$PPV,\n",
    "             NPV = dog_metrics[[dog]]$NPV,\n",
    "             accuracy = dog_metrics[[dog]]$accuracy,\n",
    "             F1_score = dog_metrics[[dog]]$F1_score,\n",
    "             MCC = dog_metrics[[dog]]$MCC,\n",
    "             balanced_accuracy = dog_metrics[[dog]]$balanced_accuracy)\n",
    "}))\n",
    "\n",
    "# Add overall group metrics to the dataframe\n",
    "metrics_df <- rbind(metrics_df, data.frame(dog = \"Overall\",\n",
    "                                           sensitivity = overall_metrics$sensitivity,\n",
    "                                           specificity = overall_metrics$specificity,\n",
    "                                           PPV = overall_metrics$PPV,\n",
    "                                           NPV = overall_metrics$NPV,\n",
    "                                           accuracy = overall_metrics$accuracy,\n",
    "                                           F1_score = overall_metrics$F1_score,\n",
    "                                           MCC = overall_metrics$MCC,\n",
    "                                           balanced_accuracy = overall_metrics$balanced_accuracy))\n",
    "\n",
    "# Reshape data into a long format for easier plotting\n",
    "metrics_long <- reshape2::melt(metrics_df, id = \"dog\")"
   ]
  },
  {
   "cell_type": "code",
   "execution_count": 84,
   "metadata": {
    "vscode": {
     "languageId": "r"
    }
   },
   "outputs": [],
   "source": [
    "# Plot sensitivity, specificity, PPV, NPV, accuracy, F1 score, MCC, and balanced accuracy\n",
    "grid_metric <- ggplot(metrics_long, aes(x = variable, y = value, fill = variable)) +\n",
    "  geom_bar(stat = \"identity\", position = position_dodge()) +\n",
    "  labs(title = \"Performance Metrics by Dog and Overall Group\",\n",
    "       x = \"Metric\", y = \"Value\") +\n",
    "  theme_minimal() +\n",
    "  scale_fill_brewer(palette = \"Set2\") +\n",
    "  theme(axis.text.x = element_text(angle = 45, hjust = 1)) +\n",
    "  facet_wrap(~dog, nrow = 2, ncol = 3)\n",
    "\n",
    "# Save the grid as an EPS file using ggsave\n",
    "ggsave(\"metrics_plots.eps\", plot = grid_metric, device = \"eps\", width = 10, height = 5)"
   ]
  },
  {
   "cell_type": "markdown",
   "metadata": {},
   "source": [
    "**Overall results:**\n",
    "Across all five dogs (Dog 1 to Dog 5), the performance metrics are outstanding. The overall sensitivity is 1.00, indicating that the dogs detected all the true positives (cases where the true result was positive). This means the dogs did not miss any positive cases, demonstrating perfect sensitivity across all detections.\n",
    "1. Specificity: The specificity is 0.9848, meaning that the dogs correctly identified approximately 98.5% of the true negative cases (where the true result was negative). This small margin of error (1.5%) represents the few instances where the dogs indicated detection (false positives), even though the actual result was negative.\n",
    "2. Positive Predictive Value (PPV): The PPV is 0.9966, indicating that 99.7% of the time when the dogs signaled a positive result, it was truly a positive case. This high PPV reflects a strong confidence in the dogs' ability to correctly identify positive cases, meaning that almost every positive indication from the dogs was accurate.\n",
    "3. Negative Predictive Value (NPV): The NPV is 1.00, signifying that every time the dogs indicated a negative result, it was always truly negative. This reflects perfect performance in identifying true negatives, meaning the dogs never falsely indicated a negative when the result was actually positive.\n",
    "4. Accuracy: The overall accuracy of the system is 0.9972 (99.7%), which combines the performance of both positive and negative detections. This high level of accuracy shows that the detection system, with the dogs' involvement, performed exceptionally well across both true positive and true negative cases.\n",
    "5. F1 Score: The F1 score is 0.9983, which is the harmonic mean of precision (PPV) and recall (sensitivity). This high score indicates a strong balance between precision and recall, confirming that the dogs performed exceptionally well at detecting true positives while minimizing false positives.\n",
    "6. Matthews Correlation Coefficient (MCC): The MCC is 0.9907, which reflects an overall strong performance even with the class imbalance. An MCC close to 1 indicates near-perfect correlation between the dogs’ predictions and the actual outcomes. This shows that the detection system is highly effective at predicting both true positives and true negatives.\n",
    "7. Balanced Accuracy: The balanced accuracy is 0.9924, which is the average of sensitivity and specificity. It accounts for the imbalance between positive and negative cases, showing that the dogs performed exceptionally well on both types of outcomes (true positives and true negatives) with a near-perfect balance in performance."
   ]
  },
  {
   "cell_type": "markdown",
   "metadata": {},
   "source": [
    "The additional metrics, MCC and Balanced Accuracy, confirm that the dogs’ detection system maintains its exceptional performance even when considering potential imbalances between positive and negative cases. The MCC demonstrates near-perfect prediction capability across all cases, while the Balanced Accuracy highlights the dogs' consistent detection performance across both positive and negative outcomes. These results further validate the reliability and robustness of the detection system, showing that it can accurately identify both positive and negative cases with minimal errors."
   ]
  },
  {
   "cell_type": "markdown",
   "metadata": {},
   "source": [
    "### Stratified performance"
   ]
  },
  {
   "cell_type": "markdown",
   "metadata": {},
   "source": [
    "Given that the overall performance metrics for all dogs show 100% sensitivity, nearly perfect specificity (98.5%), extremely high positive predictive value (PPV), and perfect negative predictive value (NPV), the detection capabilities are already performing at an exceptionally high level. This level of accuracy suggests that the dogs are consistently detecting true positives and negatives with minimal false positives.\n",
    "\n",
    "Stratifying performance across different conditions (like mood, environment, or fatigue) is typically useful when there are notable variations in performance that might need further investigation. However, in this case, the uniformly high performance across all dogs makes it unlikely that any significant differences would emerge under different conditions. Moreover, the near-perfect specificity (with a minimal margin of error) suggests that the dogs maintain their accuracy regardless of these external factors.\n",
    "\n",
    "Thus, additional stratification would not provide new insights or actionable outcomes, and the focus can remain on maintaining the already excellent detection performance."
   ]
  },
  {
   "cell_type": "markdown",
   "metadata": {},
   "source": [
    "## 1.3 Statistical Hypothesis Testing"
   ]
  },
  {
   "cell_type": "code",
   "execution_count": 45,
   "metadata": {
    "vscode": {
     "languageId": "r"
    }
   },
   "outputs": [],
   "source": [
    "# Create a binary variable for correct detection (1 = correct, 0 = incorrect)\n",
    "completed_data$correct_detection <- ifelse(completed_data$detection == completed_data$true_result, 1, 0)\n"
   ]
  },
  {
   "cell_type": "code",
   "execution_count": 46,
   "metadata": {
    "vscode": {
     "languageId": "r"
    }
   },
   "outputs": [
    {
     "name": "stderr",
     "output_type": "stream",
     "text": [
      "Warning message:\n",
      "\"glm.fit: fitted probabilities numerically 0 or 1 occurred\"\n"
     ]
    },
    {
     "data": {
      "text/plain": [
       "\n",
       "Call:\n",
       "glm(formula = correct_detection ~ weather + supervisor + handler_1_mood + \n",
       "    handler_2_mood + handler_3_mood + dog_1_mood, family = \"binomial\", \n",
       "    data = completed_data)\n",
       "\n",
       "Coefficients: (1 not defined because of singularities)\n",
       "                          Estimate Std. Error z value Pr(>|z|)\n",
       "(Intercept)              4.533e+00  2.621e+04   0.000    1.000\n",
       "weatherregnerisch        1.810e+01  7.332e+03   0.002    0.998\n",
       "weathersonnig            1.903e+01  1.927e+04   0.001    0.999\n",
       "supervisorC. W.          5.796e-07  2.621e+04   0.000    1.000\n",
       "supervisorF. B.          1.903e+01  3.631e+04   0.001    1.000\n",
       "supervisorF. S.          1.710e+01  2.752e+04   0.001    1.000\n",
       "supervisorP.  H.         1.903e+01  4.416e+04   0.000    1.000\n",
       "handler_1_moodkrank     -2.115e-08  2.831e+04   0.000    1.000\n",
       "handler_1_moodmuede     -1.847e+01  6.180e+04   0.000    1.000\n",
       "handler_2_moodgestresst  1.903e+01  1.241e+04   0.002    0.999\n",
       "handler_2_moodkrank     -4.388e-02  3.845e+04   0.000    1.000\n",
       "handler_2_moodmuede      1.847e+01  4.388e+04   0.000    1.000\n",
       "handler_3_moodmuede      5.678e-01  4.012e+04   0.000    1.000\n",
       "dog_1_moodmuede                 NA         NA      NA       NA\n",
       "\n",
       "(Dispersion parameter for binomial family taken to be 1)\n",
       "\n",
       "    Null deviance: 13.769  on 359  degrees of freedom\n",
       "Residual deviance: 11.076  on 347  degrees of freedom\n",
       "AIC: 37.076\n",
       "\n",
       "Number of Fisher Scoring iterations: 22\n"
      ]
     },
     "metadata": {},
     "output_type": "display_data"
    }
   ],
   "source": [
    "# Logistic regression with selected variables\n",
    "logistic_model <- glm(correct_detection ~ weather + supervisor + handler_1_mood + \n",
    "                        handler_2_mood + handler_3_mood + dog_1_mood, \n",
    "                      data = completed_data, family = \"binomial\")\n",
    "\n",
    "# Summary of the logistic regression model\n",
    "summary(logistic_model)"
   ]
  },
  {
   "cell_type": "markdown",
   "metadata": {},
   "source": [
    "The logistic regression model aimed to evaluate the impact of environmental and handler factors on the detection performance of the dogs. Key predictors in the model included Weather (bewölkt, regnerisch, sonnig), Supervisor, Handler Mood (handler_1_mood, handler_2_mood, handler_3_mood), and Dog Mood (dog_1_mood)."
   ]
  },
  {
   "cell_type": "markdown",
   "metadata": {},
   "source": [
    "However, several issues emerged from the logistic regression analysis:\n",
    "\n",
    "1. Numerically Perfect Predictions: The model generated fitted probabilities that were either close to 0 or 1, a problem known as separation. This occurs when the detection results are nearly perfect, making it difficult for the logistic regression to properly estimate the relationships between the predictors and the detection outcome. As a result, the model produced very large (and implausible) coefficient estimates with extremely high standard errors.\n",
    "2. Lack of Variability in the Outcome: The detection system performed with near-perfect accuracy across the dogs (as indicated by the confusion matrix results), leading to very little variability in the outcome. Logistic regression requires a balance of correct and incorrect outcomes to estimate coefficients effectively. When the outcome is consistently correct, the model struggles to provide meaningful results.\n",
    "3. Singularities in the Model: One of the predictors, dog_1_moodmuede, was excluded from the model due to singularities. This typically occurs when a predictor does not contribute to the variability in the outcome, often due to perfect predictions or insufficient representation of that predictor in the data."
   ]
  },
  {
   "cell_type": "markdown",
   "metadata": {},
   "source": [
    "Logistic Regression Limitations:\n",
    "1. The logistic regression model demonstrates that when predictions are nearly perfect, traditional regression models may not be suitable. The issue of separation arises when the model attempts to predict outcomes that are overwhelmingly correct, leading to exaggerated or undefined coefficient estimates. In this case, the detection system’s high performance limited the model’s ability to identify meaningful relationships between the input variables and the outcome.\n",
    "2. To address these limitations, alternative approaches, such as machine learning methods, should be explored. Machine learning techniques can better handle non-linear relationships and complex interactions between variables, providing more robust predictions even when the outcomes are near-perfect."
   ]
  },
  {
   "cell_type": "markdown",
   "metadata": {},
   "source": [
    "### ROC Curve for visualisation"
   ]
  },
  {
   "cell_type": "code",
   "execution_count": 47,
   "metadata": {
    "vscode": {
     "languageId": "r"
    }
   },
   "outputs": [],
   "source": [
    "# Predicted probabilities for logistic regression\n",
    "logit_prob <- predict(logistic_model, type = \"response\")\n"
   ]
  },
  {
   "cell_type": "code",
   "execution_count": 67,
   "metadata": {
    "vscode": {
     "languageId": "r"
    }
   },
   "outputs": [
    {
     "name": "stdout",
     "output_type": "stream",
     "text": [
      "\n",
      "The downloaded binary packages are in\n",
      "\t/var/folders/1j/rn9q783j7sjdszqsfc6_89sw0000gn/T//Rtmp0MfMmf/downloaded_packages\n"
     ]
    }
   ],
   "source": [
    "library(pROC)\n",
    "install.packages(\"PRROC\")\n",
    "library(PRROC)"
   ]
  },
  {
   "cell_type": "code",
   "execution_count": 49,
   "metadata": {
    "vscode": {
     "languageId": "r"
    }
   },
   "outputs": [
    {
     "name": "stderr",
     "output_type": "stream",
     "text": [
      "Setting levels: control = 0, case = 1\n",
      "\n",
      "Setting direction: controls < cases\n",
      "\n"
     ]
    }
   ],
   "source": [
    "# ROC Curve and AUC for logistic regression\n",
    "logit_roc <- roc(completed_data$correct_detection, logit_prob)\n",
    "logit_auc <- auc(logit_roc)"
   ]
  },
  {
   "cell_type": "code",
   "execution_count": 50,
   "metadata": {
    "vscode": {
     "languageId": "r"
    }
   },
   "outputs": [
    {
     "data": {
      "text/html": [
       "<strong>pdf:</strong> 2"
      ],
      "text/latex": [
       "\\textbf{pdf:} 2"
      ],
      "text/markdown": [
       "**pdf:** 2"
      ],
      "text/plain": [
       "pdf \n",
       "  2 "
      ]
     },
     "metadata": {},
     "output_type": "display_data"
    }
   ],
   "source": [
    "# Save the ROC curve plot as an EPS file\n",
    "postscript(\"roc_curve_logistic_regression.eps\", width = 7, height = 7, horizontal = FALSE, onefile = FALSE, paper = \"special\")\n",
    "\n",
    "# Plot the ROC curve for logistic regression\n",
    "plot(logit_roc, col = \"blue\", main = \"ROC Curve for Logistic Regression\")\n",
    "legend(\"bottomright\", legend = c(paste(\"Logistic Regression AUC =\", round(logit_auc, 2))),\n",
    "       col = c(\"blue\"), lwd = 2)\n",
    "\n",
    "# Close the device to save the file\n",
    "dev.off()"
   ]
  },
  {
   "cell_type": "code",
   "execution_count": 51,
   "metadata": {
    "vscode": {
     "languageId": "r"
    }
   },
   "outputs": [
    {
     "data": {
      "image/png": "[encoded data removed]",
      "text/plain": [
       "Plot with title \"ROC Curve for Logistic Regression\""
      ]
     },
     "metadata": {
      "image/png": {
       "height": 360,
       "width": 720
      }
     },
     "output_type": "display_data"
    }
   ],
   "source": [
    "# Plot the ROC curve for logistic regression\n",
    "plot(logit_roc, col = \"blue\", main = \"ROC Curve for Logistic Regression\")\n",
    "legend(\"bottomright\", legend = c(paste(\"Logistic Regression AUC =\", round(logit_auc, 2))),\n",
    "       col = c(\"blue\"), lwd = 2)"
   ]
  },
  {
   "cell_type": "markdown",
   "metadata": {},
   "source": [
    "Outcome Imbalance and Its Impact:\n",
    "1. The ROC curve may initially suggest good model performance, as seen in your AUC score of 0.87, which usually indicates that the model discriminates well between the two classes. However, the model's performance might be artificially inflated due to the severe imbalance in the outcome variable (nearly all predictions being correct).\n",
    "2. In cases where the positive or negative class dominates (as in your case, with near-perfect detection), the ROC curve can be misleading because the model might predict the majority class very well, while potentially neglecting the minority class. This often leads to high sensitivity and an overall good AUC score, but it doesn't necessarily reflect the model's actual performance, especially for the minority class (e.g., false positives or false negatives).\n",
    "\n",
    "\n",
    "Sensitivity-Specificity Trade-off:\n",
    "1. While the ROC curve shows a high sensitivity (true positive rate), this might be driven by the fact that most of the data points belong to the majority class (i.e., correct detections). The imbalance means that the model has few opportunities to make incorrect predictions, making it easier for the model to achieve high sensitivity and high specificity.\n",
    "2. The ROC curve does not account for the imbalance in class sizes, so it might look favorable even if the model struggles to correctly classify the minority class (false positives or false negatives). In your case, since the system has near-perfect performance, the curve might be disguising the fact that the model could be relying too much on the majority class to achieve high scores.\n",
    "\n",
    "\n",
    "ROC Curve and Imbalanced Data:\n",
    "1. The ROC curve, while useful for visualizing overall performance, does not directly reflect the class imbalance issue. This is because the ROC curve plots the true positive rate (sensitivity) against the false positive rate without taking class proportions into account. As a result, even with good AUC values, the model may still be biased towards the majority class, making it unreliable for predicting the minority class (e.g., false positives or negatives)."
   ]
  },
  {
   "cell_type": "code",
   "execution_count": 68,
   "metadata": {
    "vscode": {
     "languageId": "r"
    }
   },
   "outputs": [],
   "source": [
    "# Convert correct_detection to binary values (0 or 1)\n",
    "true_labels <- as.numeric(completed_data$correct_detection)  # Assuming 1 is positive and 0 is negative\n",
    "\n",
    "# Generate the Precision-Recall Curve\n",
    "pr_curve <- pr.curve(scores.class0 = logit_prob, weights.class0 = true_labels, curve = TRUE)\n"
   ]
  },
  {
   "cell_type": "code",
   "execution_count": 69,
   "metadata": {
    "vscode": {
     "languageId": "r"
    }
   },
   "outputs": [
    {
     "data": {
      "text/html": [
       "<strong>pdf:</strong> 2"
      ],
      "text/latex": [
       "\\textbf{pdf:} 2"
      ],
      "text/markdown": [
       "**pdf:** 2"
      ],
      "text/plain": [
       "pdf \n",
       "  2 "
      ]
     },
     "metadata": {},
     "output_type": "display_data"
    },
    {
     "data": {
      "image/png": "[encoded data removed]",
      "text/plain": [
       "Plot with title \"Precision-Recall Curve for Logistic Regression\n",
       "AUC = 0.999604\""
      ]
     },
     "metadata": {
      "image/png": {
       "height": 360,
       "width": 720
      }
     },
     "output_type": "display_data"
    }
   ],
   "source": [
    "# Plot the Precision-Recall Curve\n",
    "plot(pr_curve, col = \"red\", main = \"Precision-Recall Curve for Logistic Regression\")\n",
    "\n",
    "# Save the Precision-Recall curve plot as an EPS file\n",
    "postscript(\"precision_recall_curve_logistic_regression.eps\", width = 7, height = 7, horizontal = FALSE, onefile = FALSE, paper = \"special\")\n",
    "\n",
    "# Plot the Precision-Recall curve for logistic regression\n",
    "plot(pr_curve, col = \"red\", main = \"Precision-Recall Curve for Logistic Regression\")\n",
    "legend(\"bottomleft\", legend = c(paste(\"AUC =\", round(pr_curve$auc.integral, 2))),\n",
    "       col = c(\"red\"), lwd = 2)\n",
    "\n",
    "# Close the device to save the file\n",
    "dev.off()"
   ]
  },
  {
   "cell_type": "markdown",
   "metadata": {},
   "source": [
    "1. Inflated Precision: The model’s high precision (1.0) is mainly due to the overwhelming number of true positives relative to the false positives (only 1 false positive). While this indicates strong performance in identifying true positives, the imbalance in the data likely contributes to the seemingly perfect performance.\n",
    "2. Potential Overfitting: The lack of false negatives and the very low number of false positives may indicate that the model is either overfitted to the data or that the task is not particularly difficult due to the class imbalance. If the negative cases were more frequent, we might observe a different performance.\n",
    "3. Data Imbalance Concerns: The model’s excellent performance metrics, as depicted by the PR curve, could be misleading due to the class imbalance. The AUC near 1.0 may not be a true reflection of how well the model will perform in a real-world scenario, especially if the proportion of positive and negative cases changes."
   ]
  },
  {
   "cell_type": "markdown",
   "metadata": {},
   "source": [
    "## 1.4 Machine Learing Approaches:"
   ]
  },
  {
   "cell_type": "markdown",
   "metadata": {},
   "source": [
    "### Random Forest and XGBoost"
   ]
  },
  {
   "cell_type": "markdown",
   "metadata": {},
   "source": [
    "Given the near-perfect predictive performance observed in our confusion matrix and logistic regression models, applying machine learning techniques like Random Forest or XGBoost does not provide any meaningful advantage in this context. Several factors contribute to this conclusion:\n",
    "\n",
    "1. Perfect or Near-Perfect Predictions: The data shows almost flawless prediction outcomes, as demonstrated by sensitivity, specificity, and accuracy metrics. Machine learning models typically aim to improve prediction accuracy by learning from complex patterns, but with nearly perfect predictions already achieved, there is little room for these models to improve or add value.\n",
    "2. Lack of Variability in the Outcome: The binary outcome variable (correct_detection) has almost no misclassifications, meaning that there is limited information for machine learning models to learn from. Such situations often result in overfitting, where models memorize specific cases rather than generalize better insights.\n",
    "3. Overfitting Concerns: In cases where performance is already near perfect, machine learning models risk overfitting to the small number of errors or outliers present in the dataset. This overfitting would not yield any new insights but may mislead the analysis by over-complicating an already well-understood relationship."
   ]
  },
  {
   "cell_type": "markdown",
   "metadata": {},
   "source": [
    "Given these reasons, applying machine learning models such as Random Forest and XGBoost in this context is unnecessary. The existing models provide sufficient accuracy and insight, making further exploration with machine learning algorithms redundant."
   ]
  },
  {
   "cell_type": "markdown",
   "metadata": {},
   "source": [
    "## 2-Beginnings\n",
    "[Back to Table of Content](#table-of-content)\n"
   ]
  },
  {
   "cell_type": "code",
   "execution_count": 52,
   "metadata": {
    "vscode": {
     "languageId": "r"
    }
   },
   "outputs": [
    {
     "name": "stderr",
     "output_type": "stream",
     "text": [
      "\u001b[1mRows: \u001b[22m\u001b[34m3093\u001b[39m \u001b[1mColumns: \u001b[22m\u001b[34m38\u001b[39m\n",
      "\u001b[36m--\u001b[39m \u001b[1mColumn specification\u001b[22m \u001b[36m--------------------------------------------------------\u001b[39m\n",
      "\u001b[1mDelimiter:\u001b[22m \",\"\n",
      "\u001b[31mchr\u001b[39m  (26): dog, positive_mask, subject, mask_indicated, control_mask, contro...\n",
      "\u001b[32mdbl\u001b[39m   (9): setup_id, board_number, temperature, number_of_boards, max_positi...\n",
      "\u001b[33mlgl\u001b[39m   (1): note\n",
      "\u001b[34mdate\u001b[39m  (2): date, mask_worn_on\n",
      "\n",
      "\u001b[36mi\u001b[39m Use `spec()` to retrieve the full column specification for this data.\n",
      "\u001b[36mi\u001b[39m Specify the column types or set `show_col_types = FALSE` to quiet this message.\n"
     ]
    }
   ],
   "source": [
    "# Load dataset\n",
    "training_data <- read_csv(paste0(path, \"/data/merged_training_data.csv\"))"
   ]
  },
  {
   "cell_type": "markdown",
   "metadata": {},
   "source": [
    "# 2-Data Overview\n",
    "[Back to Table of Content](#table-of-content)"
   ]
  },
  {
   "cell_type": "code",
   "execution_count": 53,
   "metadata": {
    "vscode": {
     "languageId": "r"
    }
   },
   "outputs": [
    {
     "name": "stdout",
     "output_type": "stream",
     "text": [
      "spc_tbl_ [3,093 x 38] (S3: spec_tbl_df/tbl_df/tbl/data.frame)\n",
      " $ setup_id                    : num [1:3093] 1 1 1 1 1 1 1 1 1 1 ...\n",
      " $ board_number                : num [1:3093] 34 34 34 34 34 94 94 94 94 94 ...\n",
      " $ date                        : Date[1:3093], format: \"2024-01-06\" \"2024-01-06\" ...\n",
      " $ dog                         : chr [1:3093] \"Aaron\" \"Loki\" \"Aki\" \"Biest\" ...\n",
      " $ positive_mask               : chr [1:3093] \"Ja\" \"Ja\" \"Ja\" \"Ja\" ...\n",
      " $ subject                     : chr [1:3093] \"A. O.\" \"A. O.\" \"A. O.\" \"A. O.\" ...\n",
      " $ mask_worn_on                : Date[1:3093], format: \"2023-12-29\" \"2023-12-29\" ...\n",
      " $ mask_indicated              : chr [1:3093] \"angezeigt\" \"nicht angezeigt\" \"angezeigt\" \"angezeigt\" ...\n",
      " $ control_mask                : chr [1:3093] NA NA NA NA ...\n",
      " $ control_mask_indicated      : chr [1:3093] NA NA NA NA ...\n",
      " $ note                        : logi [1:3093] NA NA NA NA NA NA ...\n",
      " $ weather                     : chr [1:3093] \"<U+26C5><U+FE0F> bew<U+00F6>lkt\" \"<U+26C5><U+FE0F> bew<U+00F6>lkt\" \"<U+26C5><U+FE0F> bew<U+00F6>lkt\" \"<U+26C5><U+FE0F> bew<U+00F6>lkt\" ...\n",
      " $ temperature                 : num [1:3093] 4 4 4 4 4 4 4 4 4 4 ...\n",
      " $ blind_setup                 : chr [1:3093] \"Ja\" \"Ja\" \"Ja\" \"Ja\" ...\n",
      " $ supervisor                  : chr [1:3093] \"C. W.\" \"C. W.\" \"C. W.\" \"C. W.\" ...\n",
      " $ number_of_boards            : num [1:3093] 100 100 100 100 100 100 100 100 100 100 ...\n",
      " $ max_positive_masks          : num [1:3093] 10 10 10 10 10 10 10 10 10 10 ...\n",
      " $ random_positive_mask_count  : num [1:3093] 10 10 10 10 10 10 10 10 10 10 ...\n",
      " $ random_positive_board_number: chr [1:3093] \"34, 94, 87, 42, 24, 41, 93, 80, 53, 20\" \"34, 94, 87, 42, 24, 41, 93, 80, 53, 20\" \"34, 94, 87, 42, 24, 41, 93, 80, 53, 20\" \"34, 94, 87, 42, 24, 41, 93, 80, 53, 20\" ...\n",
      " $ handler_1                   : chr [1:3093] \"A. M.\" \"A. M.\" \"A. M.\" \"A. M.\" ...\n",
      " $ handler_1_mood              : chr [1:3093] \"krank\" \"krank\" \"krank\" \"krank\" ...\n",
      " $ handler_2                   : chr [1:3093] \"F. W.\" \"F. W.\" \"F. W.\" \"F. W.\" ...\n",
      " $ handler_2_mood              : chr [1:3093] \"krank\" \"krank\" \"krank\" \"krank\" ...\n",
      " $ handler_3                   : chr [1:3093] \"F. F.\" \"F. F.\" \"F. F.\" \"F. F.\" ...\n",
      " $ handler_3_mood              : chr [1:3093] \"euforisch\" \"euforisch\" \"euforisch\" \"euforisch\" ...\n",
      " $ dog_1                       : chr [1:3093] \"Aaron\" \"Aaron\" \"Aaron\" \"Aaron\" ...\n",
      " $ dog_1_mood                  : chr [1:3093] \"motiviert\" \"motiviert\" \"motiviert\" \"motiviert\" ...\n",
      " $ dog_2                       : chr [1:3093] \"Loki\" \"Loki\" \"Loki\" \"Loki\" ...\n",
      " $ dog_2_mood                  : chr [1:3093] \"motiviert\" \"motiviert\" \"motiviert\" \"motiviert\" ...\n",
      " $ dog_3                       : chr [1:3093] \"Aki\" \"Aki\" \"Aki\" \"Aki\" ...\n",
      " $ dog_3_mood                  : chr [1:3093] \"motiviert\" \"motiviert\" \"motiviert\" \"motiviert\" ...\n",
      " $ dog_4                       : chr [1:3093] \"Biest\" \"Biest\" \"Biest\" \"Biest\" ...\n",
      " $ dog_4_mood                  : chr [1:3093] \"<U+00FC>bermotiviert\" \"<U+00FC>bermotiviert\" \"<U+00FC>bermotiviert\" \"<U+00FC>bermotiviert\" ...\n",
      " $ dog_5                       : chr [1:3093] \"Lu\" \"Lu\" \"Lu\" \"Lu\" ...\n",
      " $ dog_5_mood                  : chr [1:3093] \"motiviert\" \"motiviert\" \"motiviert\" \"motiviert\" ...\n",
      " $ total_sniffed               : num [1:3093] 100 100 100 100 100 100 100 100 100 100 ...\n",
      " $ total_correct_indications   : num [1:3093] 10 10 10 10 10 10 10 10 10 10 ...\n",
      " $ number_of_control_masks     : num [1:3093] 90 90 90 90 90 90 90 90 90 90 ...\n",
      " - attr(*, \"spec\")=\n",
      "  .. cols(\n",
      "  ..   setup_id = \u001b[32mcol_double()\u001b[39m,\n",
      "  ..   board_number = \u001b[32mcol_double()\u001b[39m,\n",
      "  ..   date = \u001b[34mcol_date(format = \"\")\u001b[39m,\n",
      "  ..   dog = \u001b[31mcol_character()\u001b[39m,\n",
      "  ..   positive_mask = \u001b[31mcol_character()\u001b[39m,\n",
      "  ..   subject = \u001b[31mcol_character()\u001b[39m,\n",
      "  ..   mask_worn_on = \u001b[34mcol_date(format = \"\")\u001b[39m,\n",
      "  ..   mask_indicated = \u001b[31mcol_character()\u001b[39m,\n",
      "  ..   control_mask = \u001b[31mcol_character()\u001b[39m,\n",
      "  ..   control_mask_indicated = \u001b[31mcol_character()\u001b[39m,\n",
      "  ..   note = \u001b[33mcol_logical()\u001b[39m,\n",
      "  ..   weather = \u001b[31mcol_character()\u001b[39m,\n",
      "  ..   temperature = \u001b[32mcol_double()\u001b[39m,\n",
      "  ..   blind_setup = \u001b[31mcol_character()\u001b[39m,\n",
      "  ..   supervisor = \u001b[31mcol_character()\u001b[39m,\n",
      "  ..   number_of_boards = \u001b[32mcol_double()\u001b[39m,\n",
      "  ..   max_positive_masks = \u001b[32mcol_double()\u001b[39m,\n",
      "  ..   random_positive_mask_count = \u001b[32mcol_double()\u001b[39m,\n",
      "  ..   random_positive_board_number = \u001b[31mcol_character()\u001b[39m,\n",
      "  ..   handler_1 = \u001b[31mcol_character()\u001b[39m,\n",
      "  ..   handler_1_mood = \u001b[31mcol_character()\u001b[39m,\n",
      "  ..   handler_2 = \u001b[31mcol_character()\u001b[39m,\n",
      "  ..   handler_2_mood = \u001b[31mcol_character()\u001b[39m,\n",
      "  ..   handler_3 = \u001b[31mcol_character()\u001b[39m,\n",
      "  ..   handler_3_mood = \u001b[31mcol_character()\u001b[39m,\n",
      "  ..   dog_1 = \u001b[31mcol_character()\u001b[39m,\n",
      "  ..   dog_1_mood = \u001b[31mcol_character()\u001b[39m,\n",
      "  ..   dog_2 = \u001b[31mcol_character()\u001b[39m,\n",
      "  ..   dog_2_mood = \u001b[31mcol_character()\u001b[39m,\n",
      "  ..   dog_3 = \u001b[31mcol_character()\u001b[39m,\n",
      "  ..   dog_3_mood = \u001b[31mcol_character()\u001b[39m,\n",
      "  ..   dog_4 = \u001b[31mcol_character()\u001b[39m,\n",
      "  ..   dog_4_mood = \u001b[31mcol_character()\u001b[39m,\n",
      "  ..   dog_5 = \u001b[31mcol_character()\u001b[39m,\n",
      "  ..   dog_5_mood = \u001b[31mcol_character()\u001b[39m,\n",
      "  ..   total_sniffed = \u001b[32mcol_double()\u001b[39m,\n",
      "  ..   total_correct_indications = \u001b[32mcol_double()\u001b[39m,\n",
      "  ..   number_of_control_masks = \u001b[32mcol_double()\u001b[39m\n",
      "  .. )\n",
      " - attr(*, \"problems\")=<externalptr> \n"
     ]
    }
   ],
   "source": [
    "str(training_data)"
   ]
  },
  {
   "cell_type": "code",
   "execution_count": 54,
   "metadata": {
    "vscode": {
     "languageId": "r"
    }
   },
   "outputs": [
    {
     "data": {
      "text/html": [
       "<table class=\"dataframe\">\n",
       "<caption>A tibble: 6 x 38</caption>\n",
       "<thead>\n",
       "\t<tr><th scope=col>setup_id</th><th scope=col>board_number</th><th scope=col>date</th><th scope=col>dog</th><th scope=col>positive_mask</th><th scope=col>subject</th><th scope=col>mask_worn_on</th><th scope=col>mask_indicated</th><th scope=col>control_mask</th><th scope=col>control_mask_indicated</th><th scope=col>...</th><th scope=col>dog_2_mood</th><th scope=col>dog_3</th><th scope=col>dog_3_mood</th><th scope=col>dog_4</th><th scope=col>dog_4_mood</th><th scope=col>dog_5</th><th scope=col>dog_5_mood</th><th scope=col>total_sniffed</th><th scope=col>total_correct_indications</th><th scope=col>number_of_control_masks</th></tr>\n",
       "\t<tr><th scope=col>&lt;dbl&gt;</th><th scope=col>&lt;dbl&gt;</th><th scope=col>&lt;date&gt;</th><th scope=col>&lt;chr&gt;</th><th scope=col>&lt;chr&gt;</th><th scope=col>&lt;chr&gt;</th><th scope=col>&lt;date&gt;</th><th scope=col>&lt;chr&gt;</th><th scope=col>&lt;chr&gt;</th><th scope=col>&lt;chr&gt;</th><th scope=col>...</th><th scope=col>&lt;chr&gt;</th><th scope=col>&lt;chr&gt;</th><th scope=col>&lt;chr&gt;</th><th scope=col>&lt;chr&gt;</th><th scope=col>&lt;chr&gt;</th><th scope=col>&lt;chr&gt;</th><th scope=col>&lt;chr&gt;</th><th scope=col>&lt;dbl&gt;</th><th scope=col>&lt;dbl&gt;</th><th scope=col>&lt;dbl&gt;</th></tr>\n",
       "</thead>\n",
       "<tbody>\n",
       "\t<tr><td>1</td><td>34</td><td>2024-01-06</td><td>Aaron</td><td>Ja</td><td>A. O.</td><td>2023-12-29</td><td><span style=white-space:pre-wrap>angezeigt      </span></td><td>NA</td><td>NA</td><td>...</td><td>motiviert</td><td>Aki</td><td>motiviert</td><td>Biest</td><td>&lt;U+00FC&gt;bermotiviert</td><td>Lu</td><td>motiviert</td><td>100</td><td>10</td><td>90</td></tr>\n",
       "\t<tr><td>1</td><td>34</td><td>2024-01-06</td><td>Loki </td><td>Ja</td><td>A. O.</td><td>2023-12-29</td><td>nicht angezeigt</td><td>NA</td><td>NA</td><td>...</td><td>motiviert</td><td>Aki</td><td>motiviert</td><td>Biest</td><td>&lt;U+00FC&gt;bermotiviert</td><td>Lu</td><td>motiviert</td><td>100</td><td>10</td><td>90</td></tr>\n",
       "\t<tr><td>1</td><td>34</td><td>2024-01-06</td><td><span style=white-space:pre-wrap>Aki  </span></td><td>Ja</td><td>A. O.</td><td>2023-12-29</td><td><span style=white-space:pre-wrap>angezeigt      </span></td><td>NA</td><td>NA</td><td>...</td><td>motiviert</td><td>Aki</td><td>motiviert</td><td>Biest</td><td>&lt;U+00FC&gt;bermotiviert</td><td>Lu</td><td>motiviert</td><td>100</td><td>10</td><td>90</td></tr>\n",
       "\t<tr><td>1</td><td>34</td><td>2024-01-06</td><td>Biest</td><td>Ja</td><td>A. O.</td><td>2023-12-29</td><td><span style=white-space:pre-wrap>angezeigt      </span></td><td>NA</td><td>NA</td><td>...</td><td>motiviert</td><td>Aki</td><td>motiviert</td><td>Biest</td><td>&lt;U+00FC&gt;bermotiviert</td><td>Lu</td><td>motiviert</td><td>100</td><td>10</td><td>90</td></tr>\n",
       "\t<tr><td>1</td><td>34</td><td>2024-01-06</td><td><span style=white-space:pre-wrap>Lu   </span></td><td>Ja</td><td>A. O.</td><td>2023-12-29</td><td><span style=white-space:pre-wrap>angezeigt      </span></td><td>NA</td><td>NA</td><td>...</td><td>motiviert</td><td>Aki</td><td>motiviert</td><td>Biest</td><td>&lt;U+00FC&gt;bermotiviert</td><td>Lu</td><td>motiviert</td><td>100</td><td>10</td><td>90</td></tr>\n",
       "\t<tr><td>1</td><td>94</td><td>2024-01-06</td><td>Aaron</td><td>Ja</td><td>A. O.</td><td>2023-12-27</td><td><span style=white-space:pre-wrap>angezeigt      </span></td><td>NA</td><td>NA</td><td>...</td><td>motiviert</td><td>Aki</td><td>motiviert</td><td>Biest</td><td>&lt;U+00FC&gt;bermotiviert</td><td>Lu</td><td>motiviert</td><td>100</td><td>10</td><td>90</td></tr>\n",
       "</tbody>\n",
       "</table>\n"
      ],
      "text/latex": [
       "A tibble: 6 x 38\n",
       "\\begin{tabular}{lllllllllllllllllllll}\n",
       " setup\\_id & board\\_number & date & dog & positive\\_mask & subject & mask\\_worn\\_on & mask\\_indicated & control\\_mask & control\\_mask\\_indicated & ... & dog\\_2\\_mood & dog\\_3 & dog\\_3\\_mood & dog\\_4 & dog\\_4\\_mood & dog\\_5 & dog\\_5\\_mood & total\\_sniffed & total\\_correct\\_indications & number\\_of\\_control\\_masks\\\\\n",
       " <dbl> & <dbl> & <date> & <chr> & <chr> & <chr> & <date> & <chr> & <chr> & <chr> & ... & <chr> & <chr> & <chr> & <chr> & <chr> & <chr> & <chr> & <dbl> & <dbl> & <dbl>\\\\\n",
       "\\hline\n",
       "\t 1 & 34 & 2024-01-06 & Aaron & Ja & A. O. & 2023-12-29 & angezeigt       & NA & NA & ... & motiviert & Aki & motiviert & Biest & <U+00FC>bermotiviert & Lu & motiviert & 100 & 10 & 90\\\\\n",
       "\t 1 & 34 & 2024-01-06 & Loki  & Ja & A. O. & 2023-12-29 & nicht angezeigt & NA & NA & ... & motiviert & Aki & motiviert & Biest & <U+00FC>bermotiviert & Lu & motiviert & 100 & 10 & 90\\\\\n",
       "\t 1 & 34 & 2024-01-06 & Aki   & Ja & A. O. & 2023-12-29 & angezeigt       & NA & NA & ... & motiviert & Aki & motiviert & Biest & <U+00FC>bermotiviert & Lu & motiviert & 100 & 10 & 90\\\\\n",
       "\t 1 & 34 & 2024-01-06 & Biest & Ja & A. O. & 2023-12-29 & angezeigt       & NA & NA & ... & motiviert & Aki & motiviert & Biest & <U+00FC>bermotiviert & Lu & motiviert & 100 & 10 & 90\\\\\n",
       "\t 1 & 34 & 2024-01-06 & Lu    & Ja & A. O. & 2023-12-29 & angezeigt       & NA & NA & ... & motiviert & Aki & motiviert & Biest & <U+00FC>bermotiviert & Lu & motiviert & 100 & 10 & 90\\\\\n",
       "\t 1 & 94 & 2024-01-06 & Aaron & Ja & A. O. & 2023-12-27 & angezeigt       & NA & NA & ... & motiviert & Aki & motiviert & Biest & <U+00FC>bermotiviert & Lu & motiviert & 100 & 10 & 90\\\\\n",
       "\\end{tabular}\n"
      ],
      "text/markdown": [
       "\n",
       "A tibble: 6 x 38\n",
       "\n",
       "| setup_id &lt;dbl&gt; | board_number &lt;dbl&gt; | date &lt;date&gt; | dog &lt;chr&gt; | positive_mask &lt;chr&gt; | subject &lt;chr&gt; | mask_worn_on &lt;date&gt; | mask_indicated &lt;chr&gt; | control_mask &lt;chr&gt; | control_mask_indicated &lt;chr&gt; | ... ... | dog_2_mood &lt;chr&gt; | dog_3 &lt;chr&gt; | dog_3_mood &lt;chr&gt; | dog_4 &lt;chr&gt; | dog_4_mood &lt;chr&gt; | dog_5 &lt;chr&gt; | dog_5_mood &lt;chr&gt; | total_sniffed &lt;dbl&gt; | total_correct_indications &lt;dbl&gt; | number_of_control_masks &lt;dbl&gt; |\n",
       "|---|---|---|---|---|---|---|---|---|---|---|---|---|---|---|---|---|---|---|---|---|\n",
       "| 1 | 34 | 2024-01-06 | Aaron | Ja | A. O. | 2023-12-29 | angezeigt       | NA | NA | ... | motiviert | Aki | motiviert | Biest | &lt;U+00FC&gt;bermotiviert | Lu | motiviert | 100 | 10 | 90 |\n",
       "| 1 | 34 | 2024-01-06 | Loki  | Ja | A. O. | 2023-12-29 | nicht angezeigt | NA | NA | ... | motiviert | Aki | motiviert | Biest | &lt;U+00FC&gt;bermotiviert | Lu | motiviert | 100 | 10 | 90 |\n",
       "| 1 | 34 | 2024-01-06 | Aki   | Ja | A. O. | 2023-12-29 | angezeigt       | NA | NA | ... | motiviert | Aki | motiviert | Biest | &lt;U+00FC&gt;bermotiviert | Lu | motiviert | 100 | 10 | 90 |\n",
       "| 1 | 34 | 2024-01-06 | Biest | Ja | A. O. | 2023-12-29 | angezeigt       | NA | NA | ... | motiviert | Aki | motiviert | Biest | &lt;U+00FC&gt;bermotiviert | Lu | motiviert | 100 | 10 | 90 |\n",
       "| 1 | 34 | 2024-01-06 | Lu    | Ja | A. O. | 2023-12-29 | angezeigt       | NA | NA | ... | motiviert | Aki | motiviert | Biest | &lt;U+00FC&gt;bermotiviert | Lu | motiviert | 100 | 10 | 90 |\n",
       "| 1 | 94 | 2024-01-06 | Aaron | Ja | A. O. | 2023-12-27 | angezeigt       | NA | NA | ... | motiviert | Aki | motiviert | Biest | &lt;U+00FC&gt;bermotiviert | Lu | motiviert | 100 | 10 | 90 |\n",
       "\n"
      ],
      "text/plain": [
       "  setup_id board_number date       dog   positive_mask subject mask_worn_on\n",
       "1 1        34           2024-01-06 Aaron Ja            A. O.   2023-12-29  \n",
       "2 1        34           2024-01-06 Loki  Ja            A. O.   2023-12-29  \n",
       "3 1        34           2024-01-06 Aki   Ja            A. O.   2023-12-29  \n",
       "4 1        34           2024-01-06 Biest Ja            A. O.   2023-12-29  \n",
       "5 1        34           2024-01-06 Lu    Ja            A. O.   2023-12-29  \n",
       "6 1        94           2024-01-06 Aaron Ja            A. O.   2023-12-27  \n",
       "  mask_indicated  control_mask control_mask_indicated ... dog_2_mood dog_3\n",
       "1 angezeigt       NA           NA                     ... motiviert  Aki  \n",
       "2 nicht angezeigt NA           NA                     ... motiviert  Aki  \n",
       "3 angezeigt       NA           NA                     ... motiviert  Aki  \n",
       "4 angezeigt       NA           NA                     ... motiviert  Aki  \n",
       "5 angezeigt       NA           NA                     ... motiviert  Aki  \n",
       "6 angezeigt       NA           NA                     ... motiviert  Aki  \n",
       "  dog_3_mood dog_4 dog_4_mood           dog_5 dog_5_mood total_sniffed\n",
       "1 motiviert  Biest <U+00FC>bermotiviert Lu    motiviert  100          \n",
       "2 motiviert  Biest <U+00FC>bermotiviert Lu    motiviert  100          \n",
       "3 motiviert  Biest <U+00FC>bermotiviert Lu    motiviert  100          \n",
       "4 motiviert  Biest <U+00FC>bermotiviert Lu    motiviert  100          \n",
       "5 motiviert  Biest <U+00FC>bermotiviert Lu    motiviert  100          \n",
       "6 motiviert  Biest <U+00FC>bermotiviert Lu    motiviert  100          \n",
       "  total_correct_indications number_of_control_masks\n",
       "1 10                        90                     \n",
       "2 10                        90                     \n",
       "3 10                        90                     \n",
       "4 10                        90                     \n",
       "5 10                        90                     \n",
       "6 10                        90                     "
      ]
     },
     "metadata": {},
     "output_type": "display_data"
    }
   ],
   "source": [
    "head(training_data)"
   ]
  },
  {
   "cell_type": "code",
   "execution_count": null,
   "metadata": {
    "vscode": {
     "languageId": "r"
    }
   },
   "outputs": [],
   "source": []
  },
  {
   "cell_type": "code",
   "execution_count": null,
   "metadata": {
    "vscode": {
     "languageId": "r"
    }
   },
   "outputs": [],
   "source": []
  },
  {
   "cell_type": "code",
   "execution_count": null,
   "metadata": {
    "vscode": {
     "languageId": "r"
    }
   },
   "outputs": [],
   "source": []
  },
  {
   "cell_type": "code",
   "execution_count": null,
   "metadata": {
    "vscode": {
     "languageId": "r"
    }
   },
   "outputs": [],
   "source": []
  },
  {
   "cell_type": "code",
   "execution_count": null,
   "metadata": {
    "vscode": {
     "languageId": "r"
    }
   },
   "outputs": [],
   "source": []
  },
  {
   "cell_type": "code",
   "execution_count": null,
   "metadata": {
    "vscode": {
     "languageId": "r"
    }
   },
   "outputs": [],
   "source": []
  },
  {
   "cell_type": "code",
   "execution_count": null,
   "metadata": {
    "vscode": {
     "languageId": "r"
    }
   },
   "outputs": [],
   "source": []
  }
 ],
 "metadata": {
  "kernelspec": {
   "display_name": "R",
   "language": "R",
   "name": "ir"
  },
  "language_info": {
   "codemirror_mode": "r",
   "file_extension": ".r",
   "mimetype": "text/x-r-source",
   "name": "R",
   "pygments_lexer": "r",
   "version": "4.3.2"
  }
 },
 "nbformat": 4,
 "nbformat_minor": 2
}
