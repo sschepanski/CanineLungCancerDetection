{
 "cells": [
  {
   "cell_type": "markdown",
   "metadata": {},
   "source": [
    "# Table of Contents"
   ]
  },
  {
   "cell_type": "markdown",
   "metadata": {},
   "source": [
    "- [Table of Content](#table-of-content)\n",
    "- [0-General](#0-general)\n",
    "  - [0-Introduction](#0-introduction)\n",
    "  - [0-Objective](#0-objective)\n",
    "  - [0-Analysis](#0-analysis)\n",
    "  - [0-Data Dictionary](#0-data-dictionary)\n",
    "  - [0-Acknowledgements](#0-acknowledgements)\n"
   ]
  },
  {
   "cell_type": "markdown",
   "metadata": {},
   "source": [
    "# 0-General\n",
    "[Back to Table of Contents](#table-of-contents)\n",
    "\n",
    "## Evaluating the Feasibility of Using Trained Dogs to Detect Lung Cancer from Patient-Worn Masks\n"
   ]
  },
  {
   "cell_type": "markdown",
   "metadata": {},
   "source": [
    "## 0-Introduction\n",
    "[Back to Table of Contents](#table-of-contents)\n",
    "\n",
    "This project investigates the feasibility of using trained detection dogs to identify lung cancer based on scent samples collected via patient-worn masks. Prior research suggests that dogs are capable of detecting disease-related volatile organic compounds (VOCs). The dataset includes detailed records of testing sessions, mask conditions, dog-specific responses, and contextual variables (e.g., mood, weather), which will be analyzed to assess both the accuracy and influencing factors of detection performance.\n"
   ]
  },
  {
   "cell_type": "markdown",
   "metadata": {},
   "source": [
    "## 0-Objectives\n",
    "[Back to Table of Contents](#table-of-contents)\n",
    "\n",
    "1. **Primary Objective**:  \n",
    "   Assess the diagnostic accuracy of trained dogs in identifying lung cancer from patient-worn masks.\n",
    "2. **Secondary Objective**:  \n",
    "   Identify variables that influence detection performance, including dog mood, handler mood, and environmental conditions (e.g., weather, temperature).\n",
    "3. **Exploratory Objective**:  \n",
    "   Conduct a sensitivity analysis to examine whether diagnostic accuracy declines when fewer dogs are involved in a testing setup.\n"
   ]
  },
  {
   "cell_type": "markdown",
   "metadata": {},
   "source": [
    "## 0-Analysis Plan\n",
    "[Back to Table of Contents](#table-of-contents)\n",
    "\n",
    "\n"
   ]
  },
  {
   "cell_type": "markdown",
   "metadata": {},
   "source": [
    "## 0-Data Dictionary\n",
    "[Back to Table of Content](#table-of-content)\n",
    "\n",
    "## Data Dictionary\n",
    "| Column Name                      | Description                                                                 |\n",
    "|-----------------------------------|-----------------------------------------------------------------------------|\n",
    "\n"
   ]
  },
  {
   "cell_type": "markdown",
   "metadata": {},
   "source": [
    "## 0-Acknowledgements\n",
    "[Back to Table of Content](#table-of-contents)\n",
    "\n",
    "XXX"
   ]
  },
  {
   "cell_type": "markdown",
   "metadata": {},
   "source": [
    "## 1-Beginnings\n",
    "[Back to Table of Contents](#table-of-contents)\n"
   ]
  },
  {
   "cell_type": "code",
   "execution_count": 33,
   "metadata": {},
   "outputs": [],
   "source": [
    "# Data handling and analysis\n",
    "import pandas as pd\n",
    "import numpy as np\n",
    "\n",
    "# Visualization\n",
    "import matplotlib.pyplot as plt\n",
    "import seaborn as sns\n",
    "from sklearn.metrics import ConfusionMatrixDisplay\n",
    "\n",
    "# File and system access\n",
    "import os\n",
    "\n",
    "# Statistical analysis\n",
    "from scipy import stats\n",
    "from statsmodels.stats.proportion import proportions_ztest\n",
    "from statsmodels.stats.proportion import proportion_confint\n",
    "from scipy.stats import chi2_contingency\n",
    "import statsmodels.api as sm\n",
    "import statsmodels.formula.api as smf\n",
    "\n",
    "# Evaluation metrics\n",
    "from sklearn.metrics import (\n",
    "    confusion_matrix, classification_report, roc_curve, auc,\n",
    "    precision_score, recall_score, accuracy_score\n",
    ")\n",
    "from collections import Counter\n",
    "\n",
    "# Modeling and preprocessing\n",
    "from sklearn.linear_model import LogisticRegression\n",
    "from sklearn.model_selection import train_test_split\n",
    "from sklearn.preprocessing import StandardScaler\n",
    "\n",
    "# Visualization aesthetics\n",
    "sns.set(style=\"whitegrid\")\n",
    "plt.rcParams['figure.figsize'] = (10, 6)"
   ]
  },
  {
   "cell_type": "code",
   "execution_count": 34,
   "metadata": {},
   "outputs": [],
   "source": [
    "# Define the working directory\n",
    "working_directory = \"/Users/stevenschepanski/Documents/04_ANALYSIS/DogScan/data\"\n",
    "os.chdir(working_directory)\n",
    "\n",
    "# Define the file path\n",
    "file_name = \"df_full.csv\""
   ]
  },
  {
   "cell_type": "code",
   "execution_count": 35,
   "metadata": {},
   "outputs": [
    {
     "name": "stdout",
     "output_type": "stream",
     "text": [
      "(59500, 20)\n"
     ]
    },
    {
     "data": {
      "text/html": [
       "<div>\n",
       "<style scoped>\n",
       "    .dataframe tbody tr th:only-of-type {\n",
       "        vertical-align: middle;\n",
       "    }\n",
       "\n",
       "    .dataframe tbody tr th {\n",
       "        vertical-align: top;\n",
       "    }\n",
       "\n",
       "    .dataframe thead th {\n",
       "        text-align: right;\n",
       "    }\n",
       "</style>\n",
       "<table border=\"1\" class=\"dataframe\">\n",
       "  <thead>\n",
       "    <tr style=\"text-align: right;\">\n",
       "      <th></th>\n",
       "      <th>facility_number</th>\n",
       "      <th>board_number</th>\n",
       "      <th>Dog</th>\n",
       "      <th>is_positive_board</th>\n",
       "      <th>Date_x</th>\n",
       "      <th>True_positive_mask</th>\n",
       "      <th>Donor_ID</th>\n",
       "      <th>Mask_worn_on</th>\n",
       "      <th>Dog_response_to_mask</th>\n",
       "      <th>Decoy_mask</th>\n",
       "      <th>Dog_response_to_decoy</th>\n",
       "      <th>Notes</th>\n",
       "      <th>Date_y</th>\n",
       "      <th>Weather</th>\n",
       "      <th>Temperature</th>\n",
       "      <th>Supervisor</th>\n",
       "      <th>Total_number_search_boards</th>\n",
       "      <th>Total_number_positive_masks</th>\n",
       "      <th>Dog_mood</th>\n",
       "      <th>diagnostic_outcome</th>\n",
       "    </tr>\n",
       "  </thead>\n",
       "  <tbody>\n",
       "    <tr>\n",
       "      <th>0</th>\n",
       "      <td>1</td>\n",
       "      <td>1</td>\n",
       "      <td>Aaron</td>\n",
       "      <td>False</td>\n",
       "      <td>NaN</td>\n",
       "      <td>NaN</td>\n",
       "      <td>NaN</td>\n",
       "      <td>NaN</td>\n",
       "      <td>NaN</td>\n",
       "      <td>NaN</td>\n",
       "      <td>NaN</td>\n",
       "      <td>NaN</td>\n",
       "      <td>NaN</td>\n",
       "      <td>NaN</td>\n",
       "      <td>NaN</td>\n",
       "      <td>NaN</td>\n",
       "      <td>NaN</td>\n",
       "      <td>NaN</td>\n",
       "      <td>NaN</td>\n",
       "      <td>TN</td>\n",
       "    </tr>\n",
       "    <tr>\n",
       "      <th>1</th>\n",
       "      <td>1</td>\n",
       "      <td>2</td>\n",
       "      <td>Aaron</td>\n",
       "      <td>False</td>\n",
       "      <td>NaN</td>\n",
       "      <td>NaN</td>\n",
       "      <td>NaN</td>\n",
       "      <td>NaN</td>\n",
       "      <td>NaN</td>\n",
       "      <td>NaN</td>\n",
       "      <td>NaN</td>\n",
       "      <td>NaN</td>\n",
       "      <td>NaN</td>\n",
       "      <td>NaN</td>\n",
       "      <td>NaN</td>\n",
       "      <td>NaN</td>\n",
       "      <td>NaN</td>\n",
       "      <td>NaN</td>\n",
       "      <td>NaN</td>\n",
       "      <td>TN</td>\n",
       "    </tr>\n",
       "    <tr>\n",
       "      <th>2</th>\n",
       "      <td>1</td>\n",
       "      <td>3</td>\n",
       "      <td>Aaron</td>\n",
       "      <td>False</td>\n",
       "      <td>NaN</td>\n",
       "      <td>NaN</td>\n",
       "      <td>NaN</td>\n",
       "      <td>NaN</td>\n",
       "      <td>NaN</td>\n",
       "      <td>NaN</td>\n",
       "      <td>NaN</td>\n",
       "      <td>NaN</td>\n",
       "      <td>NaN</td>\n",
       "      <td>NaN</td>\n",
       "      <td>NaN</td>\n",
       "      <td>NaN</td>\n",
       "      <td>NaN</td>\n",
       "      <td>NaN</td>\n",
       "      <td>NaN</td>\n",
       "      <td>TN</td>\n",
       "    </tr>\n",
       "    <tr>\n",
       "      <th>3</th>\n",
       "      <td>1</td>\n",
       "      <td>4</td>\n",
       "      <td>Aaron</td>\n",
       "      <td>False</td>\n",
       "      <td>NaN</td>\n",
       "      <td>NaN</td>\n",
       "      <td>NaN</td>\n",
       "      <td>NaN</td>\n",
       "      <td>NaN</td>\n",
       "      <td>NaN</td>\n",
       "      <td>NaN</td>\n",
       "      <td>NaN</td>\n",
       "      <td>NaN</td>\n",
       "      <td>NaN</td>\n",
       "      <td>NaN</td>\n",
       "      <td>NaN</td>\n",
       "      <td>NaN</td>\n",
       "      <td>NaN</td>\n",
       "      <td>NaN</td>\n",
       "      <td>TN</td>\n",
       "    </tr>\n",
       "    <tr>\n",
       "      <th>4</th>\n",
       "      <td>1</td>\n",
       "      <td>5</td>\n",
       "      <td>Aaron</td>\n",
       "      <td>False</td>\n",
       "      <td>NaN</td>\n",
       "      <td>NaN</td>\n",
       "      <td>NaN</td>\n",
       "      <td>NaN</td>\n",
       "      <td>NaN</td>\n",
       "      <td>NaN</td>\n",
       "      <td>NaN</td>\n",
       "      <td>NaN</td>\n",
       "      <td>NaN</td>\n",
       "      <td>NaN</td>\n",
       "      <td>NaN</td>\n",
       "      <td>NaN</td>\n",
       "      <td>NaN</td>\n",
       "      <td>NaN</td>\n",
       "      <td>NaN</td>\n",
       "      <td>TN</td>\n",
       "    </tr>\n",
       "  </tbody>\n",
       "</table>\n",
       "</div>"
      ],
      "text/plain": [
       "   facility_number  board_number    Dog  is_positive_board Date_x   \n",
       "0                1             1  Aaron              False    NaN  \\\n",
       "1                1             2  Aaron              False    NaN   \n",
       "2                1             3  Aaron              False    NaN   \n",
       "3                1             4  Aaron              False    NaN   \n",
       "4                1             5  Aaron              False    NaN   \n",
       "\n",
       "   True_positive_mask Donor_ID Mask_worn_on  Dog_response_to_mask Decoy_mask   \n",
       "0                 NaN      NaN          NaN                   NaN        NaN  \\\n",
       "1                 NaN      NaN          NaN                   NaN        NaN   \n",
       "2                 NaN      NaN          NaN                   NaN        NaN   \n",
       "3                 NaN      NaN          NaN                   NaN        NaN   \n",
       "4                 NaN      NaN          NaN                   NaN        NaN   \n",
       "\n",
       "   Dog_response_to_decoy Notes Date_y Weather  Temperature Supervisor   \n",
       "0                    NaN   NaN    NaN     NaN          NaN        NaN  \\\n",
       "1                    NaN   NaN    NaN     NaN          NaN        NaN   \n",
       "2                    NaN   NaN    NaN     NaN          NaN        NaN   \n",
       "3                    NaN   NaN    NaN     NaN          NaN        NaN   \n",
       "4                    NaN   NaN    NaN     NaN          NaN        NaN   \n",
       "\n",
       "   Total_number_search_boards  Total_number_positive_masks Dog_mood   \n",
       "0                         NaN                          NaN      NaN  \\\n",
       "1                         NaN                          NaN      NaN   \n",
       "2                         NaN                          NaN      NaN   \n",
       "3                         NaN                          NaN      NaN   \n",
       "4                         NaN                          NaN      NaN   \n",
       "\n",
       "  diagnostic_outcome  \n",
       "0                 TN  \n",
       "1                 TN  \n",
       "2                 TN  \n",
       "3                 TN  \n",
       "4                 TN  "
      ]
     },
     "execution_count": 35,
     "metadata": {},
     "output_type": "execute_result"
    }
   ],
   "source": [
    "# Load the data into a DataFrame\n",
    "complete_data = pd.read_csv(file_name, low_memory=False)\n",
    "\n",
    "# Quick check\n",
    "print(complete_data.shape)\n",
    "complete_data.head()"
   ]
  },
  {
   "cell_type": "markdown",
   "metadata": {},
   "source": [
    "# Analysis\n",
    "## Data Cleaning and Preprocessing\n",
    "[Back to Table of Contents](#table-of-contents)"
   ]
  },
  {
   "cell_type": "code",
   "execution_count": 36,
   "metadata": {},
   "outputs": [
    {
     "name": "stdout",
     "output_type": "stream",
     "text": [
      "<class 'pandas.core.frame.DataFrame'>\n",
      "RangeIndex: 59500 entries, 0 to 59499\n",
      "Data columns (total 20 columns):\n",
      " #   Column                       Non-Null Count  Dtype  \n",
      "---  ------                       --------------  -----  \n",
      " 0   facility_number              59500 non-null  int64  \n",
      " 1   board_number                 59500 non-null  int64  \n",
      " 2   Dog                          59500 non-null  object \n",
      " 3   is_positive_board            59500 non-null  bool   \n",
      " 4   Date_x                       3096 non-null   object \n",
      " 5   True_positive_mask           2960 non-null   float64\n",
      " 6   Donor_ID                     2960 non-null   object \n",
      " 7   Mask_worn_on                 2960 non-null   object \n",
      " 8   Dog_response_to_mask         2960 non-null   float64\n",
      " 9   Decoy_mask                   136 non-null    object \n",
      " 10  Dog_response_to_decoy        132 non-null    float64\n",
      " 11  Notes                        4 non-null      object \n",
      " 12  Date_y                       3096 non-null   object \n",
      " 13  Weather                      3096 non-null   object \n",
      " 14  Temperature                  3096 non-null   float64\n",
      " 15  Supervisor                   3096 non-null   object \n",
      " 16  Total_number_search_boards   3096 non-null   float64\n",
      " 17  Total_number_positive_masks  3096 non-null   float64\n",
      " 18  Dog_mood                     3096 non-null   object \n",
      " 19  diagnostic_outcome           59500 non-null  object \n",
      "dtypes: bool(1), float64(6), int64(2), object(11)\n",
      "memory usage: 8.7+ MB\n"
     ]
    }
   ],
   "source": [
    "# Overview of the dataset\n",
    "complete_data.info()"
   ]
  },
  {
   "cell_type": "markdown",
   "metadata": {},
   "source": [
    "- Total rows: 59,500 (matches the information from DogScan GmBH)\n",
    "- Most behavioral/response columns have ~2960 non-null entries\n",
    "- Variable types are int64, object, bool, and float64 which likely needs to be adjusted"
   ]
  },
  {
   "cell_type": "code",
   "execution_count": 37,
   "metadata": {},
   "outputs": [
    {
     "name": "stdout",
     "output_type": "stream",
     "text": [
      "                             Missing Values  % Missing\n",
      "Notes                                 59496      99.99\n",
      "Dog_response_to_decoy                 59368      99.78\n",
      "Decoy_mask                            59364      99.77\n",
      "True_positive_mask                    56540      95.03\n",
      "Donor_ID                              56540      95.03\n",
      "Mask_worn_on                          56540      95.03\n",
      "Dog_response_to_mask                  56540      95.03\n",
      "Supervisor                            56404      94.80\n",
      "Dog_mood                              56404      94.80\n",
      "Total_number_positive_masks           56404      94.80\n",
      "Date_x                                56404      94.80\n",
      "Total_number_search_boards            56404      94.80\n",
      "Date_y                                56404      94.80\n",
      "Weather                               56404      94.80\n",
      "Temperature                           56404      94.80\n",
      "facility_number                           0       0.00\n",
      "board_number                              0       0.00\n",
      "is_positive_board                         0       0.00\n",
      "Dog                                       0       0.00\n",
      "diagnostic_outcome                        0       0.00\n"
     ]
    },
    {
     "data": {
      "text/html": [
       "<div>\n",
       "<style scoped>\n",
       "    .dataframe tbody tr th:only-of-type {\n",
       "        vertical-align: middle;\n",
       "    }\n",
       "\n",
       "    .dataframe tbody tr th {\n",
       "        vertical-align: top;\n",
       "    }\n",
       "\n",
       "    .dataframe thead th {\n",
       "        text-align: right;\n",
       "    }\n",
       "</style>\n",
       "<table border=\"1\" class=\"dataframe\">\n",
       "  <thead>\n",
       "    <tr style=\"text-align: right;\">\n",
       "      <th></th>\n",
       "      <th>Missing Values</th>\n",
       "      <th>% Missing</th>\n",
       "    </tr>\n",
       "  </thead>\n",
       "  <tbody>\n",
       "    <tr>\n",
       "      <th>Notes</th>\n",
       "      <td>59496</td>\n",
       "      <td>99.99</td>\n",
       "    </tr>\n",
       "    <tr>\n",
       "      <th>Dog_response_to_decoy</th>\n",
       "      <td>59368</td>\n",
       "      <td>99.78</td>\n",
       "    </tr>\n",
       "    <tr>\n",
       "      <th>Decoy_mask</th>\n",
       "      <td>59364</td>\n",
       "      <td>99.77</td>\n",
       "    </tr>\n",
       "    <tr>\n",
       "      <th>True_positive_mask</th>\n",
       "      <td>56540</td>\n",
       "      <td>95.03</td>\n",
       "    </tr>\n",
       "    <tr>\n",
       "      <th>Donor_ID</th>\n",
       "      <td>56540</td>\n",
       "      <td>95.03</td>\n",
       "    </tr>\n",
       "    <tr>\n",
       "      <th>Mask_worn_on</th>\n",
       "      <td>56540</td>\n",
       "      <td>95.03</td>\n",
       "    </tr>\n",
       "    <tr>\n",
       "      <th>Dog_response_to_mask</th>\n",
       "      <td>56540</td>\n",
       "      <td>95.03</td>\n",
       "    </tr>\n",
       "    <tr>\n",
       "      <th>Supervisor</th>\n",
       "      <td>56404</td>\n",
       "      <td>94.80</td>\n",
       "    </tr>\n",
       "    <tr>\n",
       "      <th>Dog_mood</th>\n",
       "      <td>56404</td>\n",
       "      <td>94.80</td>\n",
       "    </tr>\n",
       "    <tr>\n",
       "      <th>Total_number_positive_masks</th>\n",
       "      <td>56404</td>\n",
       "      <td>94.80</td>\n",
       "    </tr>\n",
       "  </tbody>\n",
       "</table>\n",
       "</div>"
      ],
      "text/plain": [
       "                             Missing Values  % Missing\n",
       "Notes                                 59496      99.99\n",
       "Dog_response_to_decoy                 59368      99.78\n",
       "Decoy_mask                            59364      99.77\n",
       "True_positive_mask                    56540      95.03\n",
       "Donor_ID                              56540      95.03\n",
       "Mask_worn_on                          56540      95.03\n",
       "Dog_response_to_mask                  56540      95.03\n",
       "Supervisor                            56404      94.80\n",
       "Dog_mood                              56404      94.80\n",
       "Total_number_positive_masks           56404      94.80"
      ]
     },
     "metadata": {},
     "output_type": "display_data"
    }
   ],
   "source": [
    "# Check for missing values (absolute and %)\n",
    "missing_counts = complete_data.isnull().sum().sort_values(ascending=False)\n",
    "missing_percent = (missing_counts / len(complete_data) * 100).round(2)\n",
    "\n",
    "# Combine into one summary table\n",
    "missing_summary = pd.DataFrame({\n",
    "    \"Missing Values\": missing_counts,\n",
    "    \"% Missing\": missing_percent\n",
    "})\n",
    "\n",
    "# Display the missing data summary\n",
    "print(missing_summary)\n",
    "\n",
    "display(missing_summary.head(10))"
   ]
  },
  {
   "cell_type": "markdown",
   "metadata": {},
   "source": [
    "| Variable                                                                                                                            | Missing (%) | Interpretation                                                                                                                                                                                   |\n",
    "| ----------------------------------------------------------------------------------------------------------------------------------- | ----------- | ------------------------------------------------------------------------------------------------------------------------------------------------------------------------------------------------ |\n",
    "| `Notes`                                                                                                                             | 99.99%      | This field is almost entirely empty and likely not useful for analysis unless selectively populated in later rows. It may be removed or ignored in modeling.                                     |\n",
    "| `Dog_response_to_decoy`                                                                                                             | 99.78%      | This variable only applies to **negative boards**, which are underrepresented in the original Excel file. The high missing rate is expected due to reconstructed TNs without dog responses.      |\n",
    "| `Decoy_mask`                                                                                                                        | 99.77%      | Same as above: present only for decoy trials. Missingness reflects the unrecorded negatives.                                                                                                     |\n",
    "| `True_positive_mask`, `Donor_ID`, `Mask_worn_on`, `Dog_response_to_mask`                                                            | \\~95%       | These variables are specific to **positive mask trials**, explaining their absence for the majority of rows representing negative boards.                                                        |\n",
    "| `Supervisor`, `Dog_mood`, `Total_number_positive_masks`, `Date_x`, `Date_y`, `Total_number_search_boards`, `Weather`, `Temperature` | \\~94.8%     | These are facility-level metadata only available for observed rows from the original dataset. The missingness here reflects the reconstructed TN rows (which had no direct metadata originally). |\n",
    "| `facility_number`, `board_number`, `is_positive_board`, `Dog`, `diagnostic_outcome`                                                 | 0%          | These are core variables created during preprocessing and fully populated for all sniffing trials. No missingness here indicates successful reconstruction of the full trial-level dataset.      |\n"
   ]
  },
  {
   "cell_type": "code",
   "execution_count": 38,
   "metadata": {},
   "outputs": [],
   "source": [
    "# Keep Date_y if it’s more complete, or rename as needed\n",
    "complete_data[\"Date\"] = complete_data[\"Date_y\"]\n",
    "\n",
    "# Drop the now redundant date columns\n",
    "complete_data.drop(columns=[\"Date_x\", \"Date_y\"], inplace=True)"
   ]
  },
  {
   "cell_type": "code",
   "execution_count": 39,
   "metadata": {},
   "outputs": [],
   "source": [
    "# Convert date fields to datetime objects\n",
    "complete_data[\"Date\"] = pd.to_datetime(complete_data[\"Date\"], errors=\"coerce\")\n",
    "complete_data[\"Mask_worn_on\"] = pd.to_datetime(complete_data[\"Mask_worn_on\"], errors=\"coerce\")\n"
   ]
  },
  {
   "cell_type": "code",
   "execution_count": 40,
   "metadata": {},
   "outputs": [],
   "source": [
    "# Define columns that are categorical\n",
    "categorical_columns = [\n",
    "    \"Dog\", \"Donor_ID\", \"Weather\", \"Supervisor\", \"Dog_mood\", \"diagnostic_outcome\"\n",
    "]\n",
    "\n",
    "# Apply categorical conversion\n",
    "complete_data[categorical_columns] = complete_data[categorical_columns].astype(\"category\")"
   ]
  },
  {
   "cell_type": "code",
   "execution_count": 41,
   "metadata": {},
   "outputs": [],
   "source": [
    "# Force string/numeric values, coerce errors into NaN\n",
    "complete_data[\"Dog_response_to_decoy\"] = pd.to_numeric(complete_data[\"Dog_response_to_decoy\"], errors=\"coerce\")\n",
    "complete_data[\"Dog_response_to_mask\"] = pd.to_numeric(complete_data[\"Dog_response_to_mask\"], errors=\"coerce\")\n",
    "complete_data[\"True_positive_mask\"] = pd.to_numeric(complete_data[\"True_positive_mask\"], errors=\"coerce\")"
   ]
  },
  {
   "cell_type": "code",
   "execution_count": null,
   "metadata": {},
   "outputs": [],
   "source": []
  },
  {
   "cell_type": "code",
   "execution_count": null,
   "metadata": {},
   "outputs": [],
   "source": []
  },
  {
   "cell_type": "markdown",
   "metadata": {},
   "source": [
    "## Descriptive Statistics\n",
    "[Back to Table of Contents](#table-of-contents)"
   ]
  },
  {
   "cell_type": "code",
   "execution_count": 42,
   "metadata": {},
   "outputs": [
    {
     "name": "stdout",
     "output_type": "stream",
     "text": [
      "Rows: 59500\n",
      "Columns: 19\n",
      "category          6\n",
      "float64           6\n",
      "int64             2\n",
      "datetime64[ns]    2\n",
      "object            2\n",
      "bool              1\n",
      "Name: count, dtype: int64\n"
     ]
    }
   ],
   "source": [
    "# Print dataset dimensions\n",
    "print(\"Rows:\", complete_data.shape[0])  # Total sniffing events\n",
    "print(\"Columns:\", complete_data.shape[1])  # Total features\n",
    "\n",
    "# Overview of variable types in the dataset\n",
    "# Note: If duplicated category lines appear, use .apply(lambda x: x.name) for cleaner count\n",
    "print(complete_data.dtypes.apply(lambda x: x.name).value_counts())\n"
   ]
  },
  {
   "cell_type": "markdown",
   "metadata": {},
   "source": [
    "The final dataset consists of 59,500 rows and 19 columns. These represent individual sniffing events (i.e., dog × board × facility). The variables include numerical (e.g., temperature), categorical (e.g., dog name, supervisor), boolean flags (e.g., `is_positive_board`), and timestamp information (e.g., test date, mask worn date). The distribution of variable types is well balanced for mixed-methods analysis, with 6 category, 6 float64, 2 int64, 2 datetime, 2 objects and 1 bool."
   ]
  },
  {
   "cell_type": "code",
   "execution_count": 43,
   "metadata": {},
   "outputs": [
    {
     "name": "stdout",
     "output_type": "stream",
     "text": [
      "       N Trials  Percent\n",
      "Dog                     \n",
      "Aaron     11900     20.0\n",
      "Aki       11900     20.0\n",
      "Biest     11900     20.0\n",
      "Loki      11900     20.0\n",
      "Lu        11900     20.0\n"
     ]
    }
   ],
   "source": [
    "# Count number of trials per dog\n",
    "dog_counts = complete_data[\"Dog\"].value_counts()\n",
    "\n",
    "# Create summary table with count and percent of total\n",
    "dog_summary = pd.DataFrame({\n",
    "    \"N Trials\": dog_counts,\n",
    "    \"Percent\": (dog_counts / len(complete_data) * 100).round(2)\n",
    "})\n",
    "\n",
    "# Display the dog-level summary\n",
    "print(dog_summary)"
   ]
  },
  {
   "cell_type": "code",
   "execution_count": 44,
   "metadata": {},
   "outputs": [
    {
     "name": "stdout",
     "output_type": "stream",
     "text": [
      "diagnostic_outcome  FN  FP     TN   TP\n",
      "Dog                                   \n",
      "Aaron               17  26  11282  575\n",
      "Aki                 15  31  11277  577\n",
      "Biest               20  19  11289  572\n",
      "Loki                12  30  11278  580\n",
      "Lu                  19  26  11282  573\n"
     ]
    }
   ],
   "source": [
    "# Crosstab of outcomes per dog\n",
    "outcome_by_dog = pd.crosstab(complete_data[\"Dog\"], complete_data[\"diagnostic_outcome\"])\n",
    "print(outcome_by_dog)"
   ]
  },
  {
   "cell_type": "markdown",
   "metadata": {},
   "source": [
    "Each of the five trained dogs (**Aaron**, **Aki**, **Biest**, **Loki**, and **Lu**) contributed exactly **11,900 sniffing trials**, representing **20% each** of the total dataset. This **balanced allocation** ensures comparability across dogs and supports fair subgroup analyses of individual diagnostic performance.\n",
    "\n",
    "A breakdown of the diagnostic outcomes per dog reveals a **high consistency in exposure to positive and negative cases**, with only minor variations in the number of true positives (TP), true negatives (TN), false positives (FP), and false negatives (FN). For instance:\n",
    "\n",
    "- True negatives range from **11,277 to 11,289**\n",
    "- True positives range from **572 to 580**\n",
    "- False positives range from **19 to 31**\n",
    "- False negatives range from **12 to 20**\n",
    "\n",
    "This distribution confirms that all dogs were exposed to a **comparable mix of trial types**, making observed performance differences interpretable as likely due to behavior or sensitivity rather than sampling bias."
   ]
  },
  {
   "cell_type": "code",
   "execution_count": 45,
   "metadata": {},
   "outputs": [
    {
     "name": "stdout",
     "output_type": "stream",
     "text": [
      "Unique weather conditions by date:\n",
      " Weather\n",
      "🌧️ regnerisch    68\n",
      "☀️ sonnig        37\n",
      "⛅️ bewölkt       20\n",
      "dtype: int64\n",
      "\n",
      "Unique supervisors by date:\n",
      " Supervisor\n",
      "person1     55\n",
      "person4     20\n",
      "person3     17\n",
      "person2      9\n",
      "person6      7\n",
      "person10     4\n",
      "person7      4\n",
      "person9      4\n",
      "person8      3\n",
      "person5      2\n",
      "dtype: int64\n"
     ]
    }
   ],
   "source": [
    "# Drop rows with missing Weather or Date (to avoid NaT)\n",
    "weather_day_counts = (\n",
    "    complete_data.dropna(subset=[\"Weather\", \"Date\"])\n",
    "    .drop_duplicates(subset=[\"Date\", \"Weather\"])  # ensure one count per weather per day\n",
    "    .groupby(\"Weather\")\n",
    "    .size()\n",
    "    .sort_values(ascending=False)\n",
    ")\n",
    "\n",
    "# Drop rows with missing Supervisor or Date\n",
    "supervisor_day_counts = (\n",
    "    complete_data.dropna(subset=[\"Supervisor\", \"Date\"])\n",
    "    .drop_duplicates(subset=[\"Date\", \"Supervisor\"])\n",
    "    .groupby(\"Supervisor\")\n",
    "    .size()\n",
    "    .sort_values(ascending=False)\n",
    ")\n",
    "\n",
    "print(\"Unique weather conditions by date:\\n\", weather_day_counts)\n",
    "print(\"\\nUnique supervisors by date:\\n\", supervisor_day_counts)\n"
   ]
  },
  {
   "cell_type": "markdown",
   "metadata": {},
   "source": [
    "Weather and supervisor data were consistently available for each recorded test day and were reconstructed to match the unique session metadata for all trials. Aggregating by testing day revealed that scent detection sessions took place under a range of weather conditions:\n",
    "\n",
    "- Rainy (🌧️ regnerisch) on 68 days,\n",
    "- Sunny (☀️ sonnig) on 37 days, and\n",
    "- Cloudy (⛅️ bewölkt) on 20 days.\n",
    "\n",
    "This distribution reflects a broad ecological validity of testing conditions, including adverse weather scenarios.\n",
    "\n",
    "The sessions were supervised by 10 different individuals, with Supervisor 1 overseeing the majority of test days (55 out of 125 total dates). Other supervisors contributed to a smaller number of sessions, ranging from 2 to 20 days each. This variation offers potential for moderator analyses but also ensures that the overall diagnostic results are not attributable to a single handler's influence."
   ]
  },
  {
   "cell_type": "code",
   "execution_count": 46,
   "metadata": {},
   "outputs": [
    {
     "name": "stdout",
     "output_type": "stream",
     "text": [
      "count    3096.00\n",
      "mean       15.35\n",
      "std         7.86\n",
      "min         0.00\n",
      "25%         8.00\n",
      "50%        16.00\n",
      "75%        22.00\n",
      "max        34.00\n",
      "Name: Temperature, dtype: float64\n"
     ]
    }
   ],
   "source": [
    "# Summary statistics for temperature (rounded to 2 decimal places)\n",
    "temp_stats = complete_data[\"Temperature\"].describe().round(2)\n",
    "print(temp_stats)"
   ]
  },
  {
   "cell_type": "markdown",
   "metadata": {},
   "source": [
    "Reported ambient temperatures during testing sessions ranged from **0 °C to 34 °C**, with a **median of 16 °C**. The **mean was 15.35 °C (SD = 7.86)**, indicating generally moderate testing conditions. However, some sessions occurred in both colder and warmer environments.\n",
    "\n",
    "These temperature values may serve as important **environmental covariates** when evaluating dog performance, particularly if olfactory sensitivity varies with ambient temperature."
   ]
  },
  {
   "cell_type": "code",
   "execution_count": 47,
   "metadata": {},
   "outputs": [
    {
     "name": "stdout",
     "output_type": "stream",
     "text": [
      "Dog_mood\n",
      "NaN              56404\n",
      "ausgeglichen      2661\n",
      "motiviert          262\n",
      "übermotiviert      173\n",
      "Name: count, dtype: int64\n"
     ]
    }
   ],
   "source": [
    "# Frequency of dog mood states, including missing values\n",
    "print(complete_data[\"Dog_mood\"].value_counts(dropna=False))"
   ]
  },
  {
   "cell_type": "markdown",
   "metadata": {},
   "source": [
    "Dog mood was missing in **56,404 cases**, again due to artificial row expansion during the reconstruction of true negatives. Among the **3,096 recorded entries**, the following mood states were documented:\n",
    "\n",
    "- **Ausgeglichen** (\"balanced\"): *n = 2,661*\n",
    "- **Motiviert** (\"motivated\"): *n = 262*\n",
    "- **Übermotiviert** (\"overmotivated\"): *n = 173*\n",
    "\n",
    "These states may reflect varying levels of **internal arousal** and **task engagement**, and should be considered as potential covariates in performance modeling.\n",
    "\n",
    "Like weather and supervisor data, **missing dog mood entries can be reliably inferred** based on combinations of `Dog` and `Date`, as these values are constant within a testing session."
   ]
  },
  {
   "cell_type": "code",
   "execution_count": 48,
   "metadata": {},
   "outputs": [
    {
     "name": "stdout",
     "output_type": "stream",
     "text": [
      "count    125.00\n",
      "mean      95.20\n",
      "std       38.98\n",
      "min       25.00\n",
      "25%       75.00\n",
      "50%      100.00\n",
      "75%      125.00\n",
      "max      200.00\n",
      "Name: board_number, dtype: float64\n"
     ]
    }
   ],
   "source": [
    "# Summary statistics of the number of unique search boards per facility\n",
    "board_stats = complete_data.groupby(\"facility_number\")[\"board_number\"].nunique().describe().round(2)\n",
    "print(board_stats)"
   ]
  },
  {
   "cell_type": "markdown",
   "metadata": {},
   "source": [
    "Across the 125 facilities included in the dataset, the number of search boards ranged from **25 to 200**, with a **median of 100** boards. On average, each facility used **95.2 boards (SD = 39.0)**.\n",
    "\n",
    "This substantial variability in testing volume suggests differences in **operational complexity and workload** across facilities. Such variation should be considered in any **facility-level** or **fatigue-sensitive** analyses, as higher board counts may influence error rates or dog performance under extended sessions."
   ]
  },
  {
   "cell_type": "markdown",
   "metadata": {},
   "source": [
    "## Data Imputation\n",
    "[Back to Table of Contents](#table-of-contents)"
   ]
  },
  {
   "cell_type": "code",
   "execution_count": 49,
   "metadata": {},
   "outputs": [],
   "source": [
    "# Impute 'Weather' and 'Supervisor' using facility_number\n",
    "# Build a lookup table for each facility_number, taking the first observed (non-missing) entry for Weather and Supervisor\n",
    "# Assumption: Weather and Supervisor were constant within each facility-day, so taking the first is safe\n",
    "weather_supervisor_lookup = (\n",
    "    complete_data\n",
    "    .dropna(subset=[\"Weather\", \"Supervisor\"])  # keep only rows with both values\n",
    "    .groupby(\"facility_number\")[[\"Weather\", \"Supervisor\"]]\n",
    "    .first()  # select the first valid row per facility\n",
    ")\n",
    "\n",
    "# Use the lookup table to fill missing 'Weather' values by facility\n",
    "complete_data[\"Weather\"] = complete_data[\"Weather\"].fillna(\n",
    "    complete_data[\"facility_number\"].map(weather_supervisor_lookup[\"Weather\"])\n",
    ")\n",
    "\n",
    "# Do the same for 'Supervisor'\n",
    "complete_data[\"Supervisor\"] = complete_data[\"Supervisor\"].fillna(\n",
    "    complete_data[\"facility_number\"].map(weather_supervisor_lookup[\"Supervisor\"])\n",
    ")"
   ]
  },
  {
   "cell_type": "code",
   "execution_count": 50,
   "metadata": {},
   "outputs": [],
   "source": [
    "# Impute 'Dog_mood' using facility_number + Dog combination\n",
    "# Build a lookup table for Dog mood based on both facility and dog\n",
    "# Assumption: Within a facility-day, each dog had a consistent mood entry (only one observation per dog per session)\n",
    "mood_lookup = (\n",
    "    complete_data\n",
    "    .dropna(subset=[\"Dog_mood\"])  # keep only non-missing mood entries\n",
    "    .groupby([\"facility_number\", \"Dog\"])[\"Dog_mood\"]\n",
    "    .first()  # again, use the first valid entry\n",
    ")"
   ]
  },
  {
   "cell_type": "code",
   "execution_count": 51,
   "metadata": {},
   "outputs": [],
   "source": [
    "# Define a function to apply row-wise: if Dog_mood is missing, try to impute using the lookup table\n",
    "def fill_mood(row):\n",
    "    if pd.isna(row[\"Dog_mood\"]):\n",
    "        return mood_lookup.get((row[\"facility_number\"], row[\"Dog\"]), pd.NA)  # fallback is pd.NA if no match found\n",
    "    return row[\"Dog_mood\"]  # keep original if not missing"
   ]
  },
  {
   "cell_type": "code",
   "execution_count": 52,
   "metadata": {},
   "outputs": [],
   "source": [
    "# Apply imputation function to each row (row-wise)\n",
    "complete_data[\"Dog_mood\"] = complete_data.apply(fill_mood, axis=1)"
   ]
  },
  {
   "cell_type": "code",
   "execution_count": 53,
   "metadata": {},
   "outputs": [
    {
     "name": "stdout",
     "output_type": "stream",
     "text": [
      "Remaining missing values after imputation:\n",
      "Weather       0\n",
      "Supervisor    0\n",
      "Dog_mood      0\n",
      "dtype: int64\n"
     ]
    }
   ],
   "source": [
    "# Verify imputation results\n",
    "print(\"Remaining missing values after imputation:\")\n",
    "print(complete_data[[\"Weather\", \"Supervisor\", \"Dog_mood\"]].isnull().sum())"
   ]
  },
  {
   "cell_type": "code",
   "execution_count": 90,
   "metadata": {},
   "outputs": [
    {
     "name": "stdout",
     "output_type": "stream",
     "text": [
      "Dog_response_to_mask\n",
      "NaN    56540\n",
      "1.0     2877\n",
      "0.0       83\n",
      "Name: count, dtype: int64\n"
     ]
    }
   ],
   "source": [
    "# show the variable \"Dog_response_to_mask\" in complete_data\n",
    "print(complete_data[\"Dog_response_to_mask\"].value_counts(dropna=False))"
   ]
  },
  {
   "cell_type": "markdown",
   "metadata": {},
   "source": [
    "We now filled all missing entries in `Weather`, `Supervisor`, and `Dog_mood` based on consistent within-session values. This is statistically justifiable, because each facility-day was a well-logged testing session with consistent environment and handler/dog conditions."
   ]
  },
  {
   "cell_type": "markdown",
   "metadata": {},
   "source": [
    "## Goal 1.1: Calculation of diagnostic accuracy metrics per dog and across all dogs combined."
   ]
  },
  {
   "cell_type": "code",
   "execution_count": 62,
   "metadata": {},
   "outputs": [],
   "source": [
    "# Function to calculate metrics\n",
    "def calculate_metrics(tp, tn, fp, fn):\n",
    "    sensitivity = tp / (tp + fn) if (tp + fn) > 0 else np.nan\n",
    "    specificity = tn / (tn + fp) if (tn + fp) > 0 else np.nan\n",
    "    ppv = tp / (tp + fp) if (tp + fp) > 0 else np.nan\n",
    "    npv = tn / (tn + fn) if (tn + fn) > 0 else np.nan\n",
    "    accuracy = (tp + tn) / (tp + tn + fp + fn)\n",
    "    \n",
    "    return pd.Series({\n",
    "        \"Sensitivity\": sensitivity,\n",
    "        \"Specificity\": specificity,\n",
    "        \"PPV\": ppv,\n",
    "        \"NPV\": npv,\n",
    "        \"Accuracy\": accuracy,\n",
    "        \"TP\": tp, \"TN\": tn, \"FP\": fp, \"FN\": fn\n",
    "    })"
   ]
  },
  {
   "cell_type": "code",
   "execution_count": 63,
   "metadata": {},
   "outputs": [],
   "source": [
    "# Function to calculate confidence intervals for all metrics\n",
    "def calculate_confidence_intervals(tp, tn, fp, fn, alpha=0.05):\n",
    "    # Use Wilson intervals for proportions\n",
    "    sens_ci = proportion_confint(tp, tp + fn, alpha=alpha, method='wilson') if (tp + fn) > 0 else (np.nan, np.nan)\n",
    "    spec_ci = proportion_confint(tn, tn + fp, alpha=alpha, method='wilson') if (tn + fp) > 0 else (np.nan, np.nan)\n",
    "    ppv_ci  = proportion_confint(tp, tp + fp, alpha=alpha, method='wilson') if (tp + fp) > 0 else (np.nan, np.nan)\n",
    "    npv_ci  = proportion_confint(tn, tn + fn, alpha=alpha, method='wilson') if (tn + fn) > 0 else (np.nan, np.nan)\n",
    "    acc_total = tp + tn + fp + fn\n",
    "    acc_ci = proportion_confint(tp + tn, acc_total, alpha=alpha, method='wilson') if acc_total > 0 else (np.nan, np.nan)\n",
    "\n",
    "    return pd.Series({\n",
    "        \"Sens_Low95\": round(sens_ci[0], 3), \"Sens_High95\": round(sens_ci[1], 3),\n",
    "        \"Spec_Low95\": round(spec_ci[0], 3), \"Spec_High95\": round(spec_ci[1], 3),\n",
    "        \"PPV_Low95\":  round(ppv_ci[0], 3),  \"PPV_High95\":  round(ppv_ci[1], 3),\n",
    "        \"NPV_Low95\":  round(npv_ci[0], 3),  \"NPV_High95\":  round(npv_ci[1], 3),\n",
    "        \"Acc_Low95\":  round(acc_ci[0], 3),  \"Acc_High95\":  round(acc_ci[1], 3)\n",
    "    })"
   ]
  },
  {
   "cell_type": "code",
   "execution_count": 64,
   "metadata": {},
   "outputs": [],
   "source": [
    "# Create outcome table per dog\n",
    "outcome_counts = complete_data.groupby(\"Dog\")[\"diagnostic_outcome\"].value_counts().unstack().fillna(0)"
   ]
  },
  {
   "cell_type": "code",
   "execution_count": 65,
   "metadata": {},
   "outputs": [],
   "source": [
    "# Compute metrics for each dog\n",
    "dog_metrics = outcome_counts.apply(\n",
    "    lambda row: calculate_metrics(row.get(\"TP\", 0), row.get(\"TN\", 0), row.get(\"FP\", 0), row.get(\"FN\", 0)),\n",
    "    axis=1\n",
    ")"
   ]
  },
  {
   "cell_type": "code",
   "execution_count": 66,
   "metadata": {},
   "outputs": [],
   "source": [
    "# Compute overall totals\n",
    "overall_counts = complete_data[\"diagnostic_outcome\"].value_counts()\n",
    "overall_metrics = calculate_metrics(\n",
    "    tp=overall_counts.get(\"TP\", 0),\n",
    "    tn=overall_counts.get(\"TN\", 0),\n",
    "    fp=overall_counts.get(\"FP\", 0),\n",
    "    fn=overall_counts.get(\"FN\", 0)\n",
    ").rename(\"All Dogs\")"
   ]
  },
  {
   "cell_type": "code",
   "execution_count": 67,
   "metadata": {},
   "outputs": [],
   "source": [
    "# Convert overall_metrics (Series) to DataFrame with same structure\n",
    "overall_df = overall_metrics.to_frame().T\n",
    "overall_df.index = [\"All Dogs\"]"
   ]
  },
  {
   "cell_type": "code",
   "execution_count": 68,
   "metadata": {},
   "outputs": [],
   "source": [
    "# Combine per-dog and overall metrics\n",
    "summary_metrics = pd.concat([dog_metrics, overall_df])"
   ]
  },
  {
   "cell_type": "code",
   "execution_count": 69,
   "metadata": {},
   "outputs": [],
   "source": [
    "# Reorder columns and round to 3 decimals\n",
    "summary_metrics = summary_metrics.round(3)\n",
    "summary_metrics = summary_metrics[[\"TP\", \"FN\", \"FP\", \"TN\", \"Sensitivity\", \"Specificity\", \"PPV\", \"NPV\", \"Accuracy\"]]\n"
   ]
  },
  {
   "cell_type": "code",
   "execution_count": 70,
   "metadata": {},
   "outputs": [],
   "source": [
    "# Calculate all CIs\n",
    "cis = summary_metrics.apply(\n",
    "    lambda row: calculate_confidence_intervals(row[\"TP\"], row[\"TN\"], row[\"FP\"], row[\"FN\"]),\n",
    "    axis=1\n",
    ")"
   ]
  },
  {
   "cell_type": "code",
   "execution_count": 72,
   "metadata": {},
   "outputs": [
    {
     "name": "stdout",
     "output_type": "stream",
     "text": [
      "Summary Metrics per Dog and Overall:\n"
     ]
    },
    {
     "data": {
      "text/html": [
       "<div>\n",
       "<style scoped>\n",
       "    .dataframe tbody tr th:only-of-type {\n",
       "        vertical-align: middle;\n",
       "    }\n",
       "\n",
       "    .dataframe tbody tr th {\n",
       "        vertical-align: top;\n",
       "    }\n",
       "\n",
       "    .dataframe thead th {\n",
       "        text-align: right;\n",
       "    }\n",
       "</style>\n",
       "<table border=\"1\" class=\"dataframe\">\n",
       "  <thead>\n",
       "    <tr style=\"text-align: right;\">\n",
       "      <th></th>\n",
       "      <th>TP</th>\n",
       "      <th>FN</th>\n",
       "      <th>FP</th>\n",
       "      <th>TN</th>\n",
       "      <th>Sensitivity</th>\n",
       "      <th>Specificity</th>\n",
       "      <th>PPV</th>\n",
       "      <th>NPV</th>\n",
       "      <th>Accuracy</th>\n",
       "      <th>Sens_Low95</th>\n",
       "      <th>Sens_High95</th>\n",
       "      <th>Spec_Low95</th>\n",
       "      <th>Spec_High95</th>\n",
       "      <th>PPV_Low95</th>\n",
       "      <th>PPV_High95</th>\n",
       "      <th>NPV_Low95</th>\n",
       "      <th>NPV_High95</th>\n",
       "      <th>Acc_Low95</th>\n",
       "      <th>Acc_High95</th>\n",
       "    </tr>\n",
       "  </thead>\n",
       "  <tbody>\n",
       "    <tr>\n",
       "      <th>Aaron</th>\n",
       "      <td>575.0</td>\n",
       "      <td>17.0</td>\n",
       "      <td>26.0</td>\n",
       "      <td>11282.0</td>\n",
       "      <td>0.971</td>\n",
       "      <td>0.998</td>\n",
       "      <td>0.957</td>\n",
       "      <td>0.998</td>\n",
       "      <td>0.996</td>\n",
       "      <td>0.954</td>\n",
       "      <td>0.982</td>\n",
       "      <td>0.997</td>\n",
       "      <td>0.998</td>\n",
       "      <td>0.937</td>\n",
       "      <td>0.970</td>\n",
       "      <td>0.998</td>\n",
       "      <td>0.999</td>\n",
       "      <td>0.995</td>\n",
       "      <td>0.997</td>\n",
       "    </tr>\n",
       "    <tr>\n",
       "      <th>Aki</th>\n",
       "      <td>577.0</td>\n",
       "      <td>15.0</td>\n",
       "      <td>31.0</td>\n",
       "      <td>11277.0</td>\n",
       "      <td>0.975</td>\n",
       "      <td>0.997</td>\n",
       "      <td>0.949</td>\n",
       "      <td>0.999</td>\n",
       "      <td>0.996</td>\n",
       "      <td>0.959</td>\n",
       "      <td>0.985</td>\n",
       "      <td>0.996</td>\n",
       "      <td>0.998</td>\n",
       "      <td>0.929</td>\n",
       "      <td>0.964</td>\n",
       "      <td>0.998</td>\n",
       "      <td>0.999</td>\n",
       "      <td>0.995</td>\n",
       "      <td>0.997</td>\n",
       "    </tr>\n",
       "    <tr>\n",
       "      <th>Biest</th>\n",
       "      <td>572.0</td>\n",
       "      <td>20.0</td>\n",
       "      <td>19.0</td>\n",
       "      <td>11289.0</td>\n",
       "      <td>0.966</td>\n",
       "      <td>0.998</td>\n",
       "      <td>0.968</td>\n",
       "      <td>0.998</td>\n",
       "      <td>0.997</td>\n",
       "      <td>0.948</td>\n",
       "      <td>0.978</td>\n",
       "      <td>0.997</td>\n",
       "      <td>0.999</td>\n",
       "      <td>0.950</td>\n",
       "      <td>0.979</td>\n",
       "      <td>0.997</td>\n",
       "      <td>0.999</td>\n",
       "      <td>0.996</td>\n",
       "      <td>0.998</td>\n",
       "    </tr>\n",
       "    <tr>\n",
       "      <th>Loki</th>\n",
       "      <td>580.0</td>\n",
       "      <td>12.0</td>\n",
       "      <td>30.0</td>\n",
       "      <td>11278.0</td>\n",
       "      <td>0.980</td>\n",
       "      <td>0.997</td>\n",
       "      <td>0.951</td>\n",
       "      <td>0.999</td>\n",
       "      <td>0.996</td>\n",
       "      <td>0.965</td>\n",
       "      <td>0.988</td>\n",
       "      <td>0.996</td>\n",
       "      <td>0.998</td>\n",
       "      <td>0.931</td>\n",
       "      <td>0.965</td>\n",
       "      <td>0.998</td>\n",
       "      <td>0.999</td>\n",
       "      <td>0.995</td>\n",
       "      <td>0.997</td>\n",
       "    </tr>\n",
       "    <tr>\n",
       "      <th>Lu</th>\n",
       "      <td>573.0</td>\n",
       "      <td>19.0</td>\n",
       "      <td>26.0</td>\n",
       "      <td>11282.0</td>\n",
       "      <td>0.968</td>\n",
       "      <td>0.998</td>\n",
       "      <td>0.957</td>\n",
       "      <td>0.998</td>\n",
       "      <td>0.996</td>\n",
       "      <td>0.950</td>\n",
       "      <td>0.979</td>\n",
       "      <td>0.997</td>\n",
       "      <td>0.998</td>\n",
       "      <td>0.937</td>\n",
       "      <td>0.970</td>\n",
       "      <td>0.997</td>\n",
       "      <td>0.999</td>\n",
       "      <td>0.995</td>\n",
       "      <td>0.997</td>\n",
       "    </tr>\n",
       "    <tr>\n",
       "      <th>All Dogs</th>\n",
       "      <td>2877.0</td>\n",
       "      <td>83.0</td>\n",
       "      <td>132.0</td>\n",
       "      <td>56408.0</td>\n",
       "      <td>0.972</td>\n",
       "      <td>0.998</td>\n",
       "      <td>0.956</td>\n",
       "      <td>0.999</td>\n",
       "      <td>0.996</td>\n",
       "      <td>0.965</td>\n",
       "      <td>0.977</td>\n",
       "      <td>0.997</td>\n",
       "      <td>0.998</td>\n",
       "      <td>0.948</td>\n",
       "      <td>0.963</td>\n",
       "      <td>0.998</td>\n",
       "      <td>0.999</td>\n",
       "      <td>0.996</td>\n",
       "      <td>0.997</td>\n",
       "    </tr>\n",
       "  </tbody>\n",
       "</table>\n",
       "</div>"
      ],
      "text/plain": [
       "              TP    FN     FP       TN  Sensitivity  Specificity    PPV   \n",
       "Aaron      575.0  17.0   26.0  11282.0        0.971        0.998  0.957  \\\n",
       "Aki        577.0  15.0   31.0  11277.0        0.975        0.997  0.949   \n",
       "Biest      572.0  20.0   19.0  11289.0        0.966        0.998  0.968   \n",
       "Loki       580.0  12.0   30.0  11278.0        0.980        0.997  0.951   \n",
       "Lu         573.0  19.0   26.0  11282.0        0.968        0.998  0.957   \n",
       "All Dogs  2877.0  83.0  132.0  56408.0        0.972        0.998  0.956   \n",
       "\n",
       "            NPV  Accuracy  Sens_Low95  Sens_High95  Spec_Low95  Spec_High95   \n",
       "Aaron     0.998     0.996       0.954        0.982       0.997        0.998  \\\n",
       "Aki       0.999     0.996       0.959        0.985       0.996        0.998   \n",
       "Biest     0.998     0.997       0.948        0.978       0.997        0.999   \n",
       "Loki      0.999     0.996       0.965        0.988       0.996        0.998   \n",
       "Lu        0.998     0.996       0.950        0.979       0.997        0.998   \n",
       "All Dogs  0.999     0.996       0.965        0.977       0.997        0.998   \n",
       "\n",
       "          PPV_Low95  PPV_High95  NPV_Low95  NPV_High95  Acc_Low95  Acc_High95  \n",
       "Aaron         0.937       0.970      0.998       0.999      0.995       0.997  \n",
       "Aki           0.929       0.964      0.998       0.999      0.995       0.997  \n",
       "Biest         0.950       0.979      0.997       0.999      0.996       0.998  \n",
       "Loki          0.931       0.965      0.998       0.999      0.995       0.997  \n",
       "Lu            0.937       0.970      0.997       0.999      0.995       0.997  \n",
       "All Dogs      0.948       0.963      0.998       0.999      0.996       0.997  "
      ]
     },
     "execution_count": 72,
     "metadata": {},
     "output_type": "execute_result"
    }
   ],
   "source": [
    "# Combine results\n",
    "summary_with_cis = pd.concat([summary_metrics, cis], axis=1)\n",
    "\n",
    "# Print the final result\n",
    "print(\"Summary Metrics per Dog and Overall:\")\n",
    "summary_with_cis"
   ]
  },
  {
   "cell_type": "markdown",
   "metadata": {},
   "source": [
    "The primary objective of this analysis was to evaluate the diagnostic accuracy of trained detection dogs in identifying lung cancer using patient-worn breath masks. The table shows the diagnostic metrics for each individual dog as well as the combined performance across all dogs. Across the full sample of 11,900 evaluated breath masks, all five dogs demonstrated consistently high performance.\n",
    "\n",
    "Sensitivity estimates ranged from 96.6% (Biest) to 98.0% (Loki), with corresponding 95% confidence intervals remaining tightly bound (e.g., 95.4%–98.2% for Aaron). Specificity was uniformly high across all dogs, between 99.7% and 99.9%, indicating excellent reliability in identifying true negatives. Positive predictive values (PPV) ranged from 94.9% to 96.8%, while negative predictive values (NPV) were close to or exceeded 99.8% in all cases.\n",
    "\n",
    "The combined performance across all dogs yielded a sensitivity of 97.2% (95% CI: 96.5%–97.7%) and a specificity of 99.8% (95% CI: 99.7%–99.8%). The PPV was 95.6% (95% CI: 94.8%–96.3%) and the NPV was 99.9% (95% CI: 99.8%–99.9%). Overall classification accuracy was 99.6% (95% CI: 99.6%–99.7%), underscoring the robustness of the detection method.\n",
    "\n",
    "While minor variations between dogs were observed, particularly in the number of false positives—these differences remained within a narrow range and did not meaningfully compromise overall diagnostic validity. The consistently high values across all performance indicators support the reliability and potential clinical utility of the Cancer Detection Dog Collective (CDDC®) protocol as a non-invasive screening tool for lung cancer."
   ]
  },
  {
   "cell_type": "markdown",
   "metadata": {},
   "source": [
    "## Goal 1.2: Calculation of diagnostic accuracy metrics by Cancer Detection Dog Collective rule, meaning if ≥3 dogs indicate a mask classify as positive, if 0 dogs indicate a mask classify as negative, and if 1 or 2 dogs indicate a mask classify as inconclusive."
   ]
  },
  {
   "cell_type": "code",
   "execution_count": 73,
   "metadata": {},
   "outputs": [],
   "source": [
    "# Prepare mask-level data\n",
    "mask_data = complete_data.copy()\n",
    "mask_data[\"mask_id\"] = mask_data[\"facility_number\"].astype(str) + \"_\" + mask_data[\"board_number\"].astype(str)"
   ]
  },
  {
   "cell_type": "code",
   "execution_count": 74,
   "metadata": {},
   "outputs": [],
   "source": [
    "# Derive binary ground truth: 1 = positive (TP or FN), 0 = negative (TN or FP)\n",
    "mask_data[\"true_binary\"] = mask_data[\"diagnostic_outcome\"].map(lambda x: 1 if x in [\"TP\", \"FN\"] else 0)"
   ]
  },
  {
   "cell_type": "code",
   "execution_count": 75,
   "metadata": {},
   "outputs": [],
   "source": [
    "# Aggregate dog responses per mask\n",
    "dog_votes = (\n",
    "    mask_data.groupby(\"mask_id\")\n",
    "    .agg({\n",
    "        \"Dog_response_to_mask\": \"sum\",\n",
    "        \"true_binary\": \"first\"\n",
    "    })\n",
    "    .rename(columns={\n",
    "        \"Dog_response_to_mask\": \"n_dogs_positive\",\n",
    "        \"true_binary\": \"true_label\"\n",
    "    })\n",
    ")"
   ]
  },
  {
   "cell_type": "code",
   "execution_count": 78,
   "metadata": {},
   "outputs": [],
   "source": [
    "# Apply collective decision rule\n",
    "def classify_collective(n_pos):\n",
    "    if n_pos >= 3:\n",
    "        return \"Positive\"\n",
    "    elif n_pos == 0:\n",
    "        return \"Negative\"\n",
    "    else:\n",
    "        return \"Inconclusive\"\n",
    "    \n",
    "dog_votes[\"collective_classification\"] = dog_votes[\"n_dogs_positive\"].apply(classify_collective)"
   ]
  },
  {
   "cell_type": "code",
   "execution_count": 79,
   "metadata": {},
   "outputs": [],
   "source": [
    "# Remove inconclusive and evaluate diagnostics\n",
    "eval_data = dog_votes[dog_votes[\"collective_classification\"] != \"Inconclusive\"].copy()\n",
    "eval_data[\"predicted\"] = eval_data[\"collective_classification\"].map({\"Positive\": 1, \"Negative\": 0})"
   ]
  },
  {
   "cell_type": "code",
   "execution_count": 80,
   "metadata": {},
   "outputs": [],
   "source": [
    "# Compute confusion matrix\n",
    "from sklearn.metrics import confusion_matrix\n",
    "cm = confusion_matrix(eval_data[\"true_label\"], eval_data[\"predicted\"])\n",
    "tn, fp, fn, tp = cm.ravel()"
   ]
  },
  {
   "cell_type": "code",
   "execution_count": 81,
   "metadata": {},
   "outputs": [],
   "source": [
    "# Calculate performance metrics and confidence intervals\n",
    "metrics = calculate_metrics(tp, tn, fp, fn)\n",
    "cis = calculate_confidence_intervals(tp, tn, fp, fn)\n",
    "summary = pd.concat([metrics, cis], axis=0).round(3)"
   ]
  },
  {
   "cell_type": "code",
   "execution_count": 84,
   "metadata": {},
   "outputs": [
    {
     "name": "stdout",
     "output_type": "stream",
     "text": [
      "Real-World Collective Diagnostic Performance (Goal 1.2)\n",
      "\n",
      "TP = 587, FN = 2, FP = 0, TN = 11308\n",
      "Sensitivity        0.997\n",
      "Specificity        1.000\n",
      "PPV                1.000\n",
      "NPV                1.000\n",
      "Accuracy           1.000\n",
      "TP               587.000\n",
      "TN             11308.000\n",
      "FP                 0.000\n",
      "FN                 2.000\n",
      "Sens_Low95         0.988\n",
      "Sens_High95        0.999\n",
      "Spec_Low95         1.000\n",
      "Spec_High95        1.000\n",
      "PPV_Low95          0.993\n",
      "PPV_High95         1.000\n",
      "NPV_Low95          0.999\n",
      "NPV_High95         1.000\n",
      "Acc_Low95          0.999\n",
      "Acc_High95         1.000\n",
      "dtype: float64\n"
     ]
    }
   ],
   "source": [
    "# Report results\n",
    "print(\"Real-World Collective Diagnostic Performance (Goal 1.2)\\n\")\n",
    "print(f\"TP = {tp}, FN = {fn}, FP = {fp}, TN = {tn}\")\n",
    "print(summary)"
   ]
  },
  {
   "cell_type": "code",
   "execution_count": 85,
   "metadata": {},
   "outputs": [
    {
     "name": "stdout",
     "output_type": "stream",
     "text": [
      "\n",
      "Inconclusive classifications: 3 of 11900 masks (0.03%)\n"
     ]
    }
   ],
   "source": [
    "# Inconclusive rate\n",
    "n_total = dog_votes.shape[0]\n",
    "n_inconclusive = (dog_votes[\"collective_classification\"] == \"Inconclusive\").sum()\n",
    "inconclusive_rate = n_inconclusive / n_total\n",
    "print(f\"\\nInconclusive classifications: {n_inconclusive} of {n_total} masks ({inconclusive_rate:.2%})\")"
   ]
  },
  {
   "cell_type": "markdown",
   "metadata": {},
   "source": [
    "The Cancer Detection Dog Collective (CDDC®) demonstrated excellent diagnostic performance when applying the predefined operational decision rule. Across all 11,900 evaluated masks, the ensemble correctly identified 587 out of 589 cancer-positive samples, yielding a sensitivity of 99.7% (95% CI: 98.8%–99.9%). Only two false negatives were observed. Specificity was 100.0% (95% CI: 100.0%–100.0%), with no false positives recorded, underscoring the reliability of the system in correctly excluding cancer when absent.\n",
    "\n",
    "Both the positive predictive value (PPV) and negative predictive value (NPV) reached 100.0%, with confidence intervals of 99.3%–100.0% and 99.9%–100.0%, respectively. These values indicate that every definitive positive or negative decision made by the collective was accurate in this sample. The overall accuracy of the system—defined as the proportion of correctly classified masks (TP + TN) among all conclusive decisions—was 100.0% (95% CI: 99.9%–100.0%).\n",
    "\n",
    "Importantly, only 3 of 11,900 masks (0.03%) were classified as inconclusive, occurring when only one or two dogs indicated a sample. This very low inconclusive rate highlights the decisiveness of the collective rule and its clinical feasibility. Overall, these results suggest that the ensemble decision-making approach used by the CDDC® is not only highly accurate but also robust and operationally scalable under standardized testing conditions. The collective classification strategy effectively reduces the impact of individual variability and minimizes false alarms, making it a promising tool for non-invasive cancer screening."
   ]
  },
  {
   "cell_type": "code",
   "execution_count": 86,
   "metadata": {},
   "outputs": [
    {
     "data": {
      "image/png": "[encoded data removed]",
      "text/plain": [
       "<Figure size 1000x600 with 2 Axes>"
      ]
     },
     "metadata": {},
     "output_type": "display_data"
    }
   ],
   "source": [
    "# Plot confusion matrix\n",
    "from sklearn.metrics import ConfusionMatrixDisplay\n",
    "import matplotlib.pyplot as plt\n",
    "ConfusionMatrixDisplay.from_predictions(\n",
    "    eval_data[\"true_label\"],\n",
    "    eval_data[\"predicted\"],\n",
    "    display_labels=[\"No Cancer\", \"Cancer\"],\n",
    "    cmap=\"Blues\",\n",
    "    values_format=\".0f\"\n",
    ")\n",
    "plt.title(\"Confusion Matrix – Dog Collective Decision\")\n",
    "plt.show()"
   ]
  },
  {
   "cell_type": "code",
   "execution_count": 87,
   "metadata": {},
   "outputs": [
    {
     "data": {
      "image/png": "[encoded data removed]",
      "text/plain": [
       "<Figure size 1000x600 with 1 Axes>"
      ]
     },
     "metadata": {},
     "output_type": "display_data"
    }
   ],
   "source": [
    "# Plot decision distribution\n",
    "import seaborn as sns\n",
    "sns.countplot(\n",
    "    data=dog_votes,\n",
    "    x=\"collective_classification\",\n",
    "    order=[\"Positive\", \"Negative\", \"Inconclusive\"],\n",
    "    palette=\"pastel\"\n",
    ")\n",
    "plt.title(\"Distribution of Dog Collective Decisions\")\n",
    "plt.ylabel(\"Number of Masks\")\n",
    "plt.xlabel(\"Classification Outcome\")\n",
    "plt.show()"
   ]
  },
  {
   "cell_type": "markdown",
   "metadata": {},
   "source": [
    "## Goal 1.3: Calculate if detection metrics are stable across time"
   ]
  },
  {
   "cell_type": "code",
   "execution_count": 92,
   "metadata": {},
   "outputs": [],
   "source": [
    "# Create a month label (e.g., \"2024-01\")\n",
    "complete_data[\"Month\"] = complete_data[\"Date\"].dt.to_period(\"M\")"
   ]
  },
  {
   "cell_type": "code",
   "execution_count": 93,
   "metadata": {},
   "outputs": [],
   "source": [
    "# Function to calculate metrics and confidence intervals\n",
    "def calculate_metrics_with_ci(tp, tn, fp, fn, alpha=0.05):\n",
    "    sensitivity = tp / (tp + fn) if (tp + fn) > 0 else np.nan\n",
    "    specificity = tn / (tn + fp) if (tn + fp) > 0 else np.nan\n",
    "    ppv = tp / (tp + fp) if (tp + fp) > 0 else np.nan\n",
    "    npv = tn / (tn + fn) if (tn + fn) > 0 else np.nan\n",
    "    accuracy = (tp + tn) / (tp + tn + fp + fn)\n",
    "    \n",
    "    # CIs using Wilson method\n",
    "    sens_low, sens_high = proportion_confint(tp, tp + fn, alpha=alpha, method='wilson') if (tp + fn) > 0 else (np.nan, np.nan)\n",
    "    spec_low, spec_high = proportion_confint(tn, tn + fp, alpha=alpha, method='wilson') if (tn + fp) > 0 else (np.nan, np.nan)\n",
    "    ppv_low, ppv_high = proportion_confint(tp, tp + fp, alpha=alpha, method='wilson') if (tp + fp) > 0 else (np.nan, np.nan)\n",
    "    npv_low, npv_high = proportion_confint(tn, tn + fn, alpha=alpha, method='wilson') if (tn + fn) > 0 else (np.nan, np.nan)\n",
    "    acc_low, acc_high = proportion_confint(tp + tn, tp + tn + fp + fn, alpha=alpha, method='wilson')\n",
    "\n",
    "    return pd.Series({\n",
    "        \"TP\": tp, \"FN\": fn, \"FP\": fp, \"TN\": tn,\n",
    "        \"Sensitivity\": sensitivity, \"Sens_Low95\": sens_low, \"Sens_High95\": sens_high,\n",
    "        \"Specificity\": specificity, \"Spec_Low95\": spec_low, \"Spec_High95\": spec_high,\n",
    "        \"PPV\": ppv, \"PPV_Low95\": ppv_low, \"PPV_High95\": ppv_high,\n",
    "        \"NPV\": npv, \"NPV_Low95\": npv_low, \"NPV_High95\": npv_high,\n",
    "        \"Accuracy\": accuracy, \"Acc_Low95\": acc_low, \"Acc_High95\": acc_high\n",
    "    })"
   ]
  },
  {
   "cell_type": "code",
   "execution_count": 94,
   "metadata": {},
   "outputs": [],
   "source": [
    "# Group by month and diagnostic outcome to get counts\n",
    "monthly_counts = (\n",
    "    complete_data.groupby([\"Month\", \"diagnostic_outcome\"])\n",
    "    .size()\n",
    "    .unstack(fill_value=0)\n",
    "    .reset_index()\n",
    ")"
   ]
  },
  {
   "cell_type": "code",
   "execution_count": 95,
   "metadata": {},
   "outputs": [],
   "source": [
    "# Calculate metrics for each month\n",
    "monthly_metrics = monthly_counts.apply(\n",
    "    lambda row: calculate_metrics_with_ci(\n",
    "        tp=row.get(\"TP\", 0),\n",
    "        tn=row.get(\"TN\", 0),\n",
    "        fp=row.get(\"FP\", 0),\n",
    "        fn=row.get(\"FN\", 0)\n",
    "    ), axis=1\n",
    ")"
   ]
  },
  {
   "cell_type": "code",
   "execution_count": 99,
   "metadata": {},
   "outputs": [
    {
     "name": "stdout",
     "output_type": "stream",
     "text": [
      "Monthly Diagnostic Performance Metrics:\n",
      "\n",
      "     Month     TP    FN    FP   TN  Sensitivity  Sens_Low95  Sens_High95   \n",
      "0  2024-01  263.0  12.0  15.0  0.0     0.956364    0.925288     0.974865  \\\n",
      "1  2024-02  412.0  13.0  11.0  0.0     0.969412    0.948375     0.982038   \n",
      "2  2024-03  489.0  21.0  21.0  0.0     0.958824    0.937874     0.972913   \n",
      "3  2024-04  302.0  13.0   3.0  0.0     0.958730    0.930681     0.975726   \n",
      "4  2024-05  234.0   6.0  15.0  4.0     0.975000    0.946541     0.988493   \n",
      "5  2024-06  346.0   4.0  29.0  0.0     0.988571    0.970988     0.995547   \n",
      "6  2024-07  431.0   9.0  29.0  0.0     0.979545    0.961588     0.989202   \n",
      "7  2024-08  365.0   5.0   8.0  0.0     0.986486    0.968761     0.994214   \n",
      "8  2024-09   35.0   0.0   1.0  0.0     1.000000    0.901099     1.000000   \n",
      "\n",
      "   Specificity  Spec_Low95  Spec_High95       PPV  PPV_Low95  PPV_High95  NPV   \n",
      "0     0.000000    0.000000     0.203883  0.946043   0.912895    0.967032  0.0  \\\n",
      "1     0.000000    0.000000     0.258833  0.973995   0.954040    0.985419  0.0   \n",
      "2     0.000000    0.000000     0.154639  0.958824   0.937874    0.972913  0.0   \n",
      "3     0.000000    0.000000     0.561497  0.990164   0.971485    0.996649  0.0   \n",
      "4     0.210526    0.085077     0.433343  0.939759   0.902999    0.963157  0.4   \n",
      "5     0.000000    0.000000     0.116970  0.922667   0.891143    0.945618  0.0   \n",
      "6     0.000000    0.000000     0.116970  0.936957   0.910926    0.955750  0.0   \n",
      "7     0.000000    0.000000     0.324408  0.978552   0.958255    0.989093  0.0   \n",
      "8     0.000000    0.000000     0.793451  0.972222   0.858303    0.995080  NaN   \n",
      "\n",
      "      NPV_Low95  NPV_High95  Accuracy  Acc_Low95  Acc_High95  \n",
      "0  0.000000e+00    0.242494  0.906897   0.867930    0.935224  \n",
      "1  0.000000e+00    0.228095  0.944954   0.919403    0.962734  \n",
      "2  0.000000e+00    0.154639  0.920904   0.894809    0.940953  \n",
      "3  0.000000e+00    0.228095  0.949686   0.919841    0.968795  \n",
      "4  1.681803e-01    0.687326  0.918919   0.879234    0.946358  \n",
      "5  0.000000e+00    0.489891  0.912929   0.880241    0.937330  \n",
      "6  2.775558e-17    0.299145  0.918977   0.890743    0.940402  \n",
      "7  0.000000e+00    0.434482  0.965608   0.942055    0.979793  \n",
      "8           NaN         NaN  0.972222   0.858303    0.995080  \n"
     ]
    }
   ],
   "source": [
    "# Combine month and metrics into a final dataframe\n",
    "monthly_results = pd.concat([monthly_counts[\"Month\"], monthly_metrics], axis=1)\n",
    "print(\"Monthly Diagnostic Performance Metrics:\\n\")\n",
    "print(monthly_results)"
   ]
  },
  {
   "cell_type": "markdown",
   "metadata": {},
   "source": [
    "To evaluate whether the diagnostic performance of the scent detection dogs remained stable throughout the study period, key performance metrics were calculated separately for each month between January and September 2024. These metrics include sensitivity, specificity, positive predictive value (PPV), negative predictive value (NPV), and overall accuracy, each accompanied by 95% confidence intervals.\n",
    "\n",
    "Sensitivity, the proportion of correctly identified cancer-positive masks, was consistently high across all months, ranging from 95.6% in January to 100% in September. Most months showed sensitivity values above 97%, with only slight fluctuations that fall within overlapping confidence intervals. This indicates stable and reliable cancer detection across the entire study period.\n",
    "\n",
    "Specificity, defined as the ability to correctly classify non-cancer (true negative) masks, could not be reliably assessed for most months because true negative events were not recorded or available in the dataset (TN = 0). An exception was May 2024, where four true negatives were recorded, yielding a specificity of 21.1% (95% CI: 8.5%–43.3%). However, the small number of true negatives in that month limits the interpretability and generalizability of the specificity estimate. Overall, the lack of negative control tracking hampers the full evaluation of specificity stability over time.\n",
    "\n",
    "PPV, the likelihood that a positive classification truly indicates cancer, remained high throughout all months, with values typically above 93%. This suggests that, when a mask was flagged as positive by the dogs, it was almost always associated with a true cancer diagnosis, even in months with slightly lower sensitivity.\n",
    "\n",
    "NPV values are difficult to interpret for most months due to the absence of confirmed true negatives (again, TN = 0), which is a limitation of the retrospective design and data availability. For May 2024, where one of the few TN cases occurred, NPV was 0.4 (40%), but the confidence intervals were very wide, reflecting the limited data basis.\n",
    "\n",
    "Accuracy, the proportion of correct classifications among all masks assessed, ranged from approximately 90.7% in January to 97.2% in September. While these values indicate high overall performance, the slight increase in accuracy over time — culminating in the highest value in the final month — may suggest minor improvements in operational consistency or setup refinement.\n",
    "\n",
    "The results demonstrate robust and stable detection performance across the study period, particularly in terms of sensitivity and PPV. However, the lack of consistent true negative tracking makes it impossible to confidently assess monthly trends in specificity and NPV. To enable a more complete evaluation in future studies, the inclusion of systematically tracked negative controls is strongly recommended. Nonetheless, the monthly trends indicate no substantial degradation or drift in dog performance over time, supporting the reliability of the protocol under field-relevant conditions."
   ]
  },
  {
   "cell_type": "markdown",
   "metadata": {},
   "source": [
    "## Goal 2.1: Modeling the influence of dog mood, weather, temperature, and supervisor on diagnostic correctness"
   ]
  },
  {
   "cell_type": "code",
   "execution_count": 112,
   "metadata": {},
   "outputs": [],
   "source": [
    "import statsmodels.api as sm\n",
    "import statsmodels.formula.api as smf"
   ]
  },
  {
   "cell_type": "code",
   "execution_count": 113,
   "metadata": {},
   "outputs": [],
   "source": [
    "# Prepare data\n",
    "model_data = complete_data.copy()\n",
    "model_data[\"correct_detection\"] = model_data[\"diagnostic_outcome\"].isin([\"TP\", \"TN\"]).astype(int)\n",
    "predictor_vars = [\"Dog_mood\", \"Weather\", \"Temperature\", \"Supervisor\", \"Dog\"]\n",
    "model_data = model_data.dropna(subset=predictor_vars + [\"correct_detection\"])\n"
   ]
  },
  {
   "cell_type": "code",
   "execution_count": 114,
   "metadata": {},
   "outputs": [],
   "source": [
    "# Convert to categorical\n",
    "model_data[\"Dog_mood\"] = model_data[\"Dog_mood\"].astype(\"category\")\n",
    "model_data[\"Weather\"] = model_data[\"Weather\"].astype(\"category\")\n",
    "model_data[\"Supervisor\"] = model_data[\"Supervisor\"].astype(\"category\")\n",
    "model_data[\"Dog\"] = model_data[\"Dog\"].astype(\"category\")"
   ]
  },
  {
   "cell_type": "code",
   "execution_count": 116,
   "metadata": {},
   "outputs": [
    {
     "name": "stdout",
     "output_type": "stream",
     "text": [
      "                               GEE Regression Results                              \n",
      "===================================================================================\n",
      "Dep. Variable:           correct_detection   No. Observations:                 3096\n",
      "Model:                                 GEE   No. clusters:                        5\n",
      "Method:                        Generalized   Min. cluster size:                 612\n",
      "                      Estimating Equations   Max. cluster size:                 624\n",
      "Family:                           Binomial   Mean cluster size:               619.2\n",
      "Dependence structure:         Independence   Num. iterations:                     2\n",
      "Date:                     Fri, 06 Jun 2025   Scale:                           1.000\n",
      "Covariance type:                    robust   Time:                         14:16:13\n",
      "================================================================================================\n",
      "                                   coef    std err          z      P>|z|      [0.025      0.975]\n",
      "------------------------------------------------------------------------------------------------\n",
      "Intercept                        2.8838      0.266     10.853      0.000       2.363       3.405\n",
      "C(Dog_mood)[T.motiviert]         0.4388      0.241      1.824      0.068      -0.033       0.910\n",
      "C(Dog_mood)[T.übermotiviert]    -0.1382      0.164     -0.843      0.399      -0.459       0.183\n",
      "C(Weather)[T.⛅️ bewölkt]        -0.9339      0.279     -3.351      0.001      -1.480      -0.388\n",
      "C(Weather)[T.🌧️ regnerisch]     -0.0664      0.221     -0.300      0.764      -0.500       0.367\n",
      "C(Supervisor)[T.person10]        1.0739      0.986      1.089      0.276      -0.859       3.007\n",
      "C(Supervisor)[T.person2]        -0.1932      0.153     -1.260      0.208      -0.494       0.107\n",
      "C(Supervisor)[T.person3]         0.3030      0.186      1.627      0.104      -0.062       0.668\n",
      "C(Supervisor)[T.person4]        -0.0142      0.134     -0.106      0.916      -0.277       0.249\n",
      "C(Supervisor)[T.person5]        -0.5552      0.358     -1.552      0.121      -1.256       0.146\n",
      "C(Supervisor)[T.person6]         0.8046      0.212      3.792      0.000       0.389       1.221\n",
      "C(Supervisor)[T.person7]         0.3899      0.541      0.721      0.471      -0.670       1.450\n",
      "C(Supervisor)[T.person8]        -0.5483      0.211     -2.593      0.010      -0.963      -0.134\n",
      "C(Supervisor)[T.person9]         0.0958      0.382      0.251      0.802      -0.653       0.845\n",
      "Temperature                     -0.0095      0.015     -0.637      0.524      -0.039       0.020\n",
      "==============================================================================\n",
      "Skew:                         -3.3326   Kurtosis:                       9.2969\n",
      "Centered skew:                -3.3315   Centered kurtosis:              9.2925\n",
      "==============================================================================\n"
     ]
    }
   ],
   "source": [
    "# Fit GEE with logit link and clustering by Dog\n",
    "gee_model = smf.gee(\n",
    "    formula=\"correct_detection ~ C(Dog_mood) + C(Weather) + Temperature + C(Supervisor)\",\n",
    "    groups=\"Dog\",\n",
    "    data=model_data,\n",
    "    family=sm.families.Binomial()\n",
    ").fit()\n",
    "\n",
    "# Show summary\n",
    "print(gee_model.summary())"
   ]
  },
  {
   "cell_type": "markdown",
   "metadata": {},
   "source": [
    "To explore the influence of situational and contextual factors on the dogs’ diagnostic performance, a generalized estimating equations (GEE) model was fitted using binary logistic regression, with the binary outcome variable indicating whether the dog made a correct detection (true positive or true negative). The model clustered repeated observations by dog and included predictors for dog mood, weather, temperature, and supervising person.\n",
    "\n",
    "The baseline detection performance, captured by the intercept, was significantly positive (β = 2.88, p < .001), corresponding to a high overall probability of correct classifications when all predictors are at their reference levels. These reference levels were \"balanced\" for dog mood, \"sunny\" for weather, person1 for supervisor and mean temperature (15.35 C).\n",
    "\n",
    "Compared to the reference mood „ausgeglichen“, dogs classified as „motiviert“ showed a trend toward improved detection accuracy (β = 0.44, p = .068), though this effect did not reach conventional statistical significance. This suggests that a moderately heightened engagement may be beneficial for olfactory discrimination, potentially reflecting optimal arousal. In contrast, being „übermotiviert“ had no significant effect (β = -0.14, p = .399), possibly reflecting that excessive arousal neither helped nor impaired detection in this context.\n",
    "\n",
    "Compared to „sonnig“ weather, detection performance was significantly reduced under cloudy conditions (β = -0.93, p = .001), indicating that overcast weather may negatively affect either scent distribution or canine focus. Rainy conditions, however, did not significantly differ from sunny days (β = -0.07, p = .764). This points to a specific sensitivity to diffuse or shifting light conditions associated with clouds, rather than precipitation per se.\n",
    "\n",
    "The identity of the supervising person had a substantial impact on detection success. Compared to the reference supervisor (likely person1), supervision by person6 was associated with significantly higher odds of correct classification (β = 0.80, p < .001), suggesting that this individual may enhance canine performance through better handling, clearer signals, or calmer presence. Conversely, supervision by person8 was significantly associated with reduced performance (β = -0.55, p = .010), which might reflect stress transmission, inconsistent guidance, or other relational factors. Effects of other supervisors were non-significant.\n",
    "\n",
    "Temperature showed no significant association with detection success (β = -0.01, p = .524), indicating that within the observed temperature range, environmental heat or cold did not meaningfully affect dog performance.\n",
    "\n",
    "The dogs’ diagnostic reliability remains high across varying conditions, but can be moderately modulated by environmental and interpersonal context. Most notably, cloudy weather and supervisor identity influence performance, and dog mood shows a suggestive positive trend when dogs are “motivated.” These insights may inform operational protocols, for instance, prioritizing certain supervision constellations or postponing sessions in less favorable weather, to maintain optimal performance in future deployment settings."
   ]
  },
  {
   "cell_type": "code",
   "execution_count": 177,
   "metadata": {},
   "outputs": [
    {
     "name": "stdout",
     "output_type": "stream",
     "text": [
      "Supervisor person6 was involved in 7 out of 125 trials (based on facility_number).\n",
      "Supervisor person8 was involved in 3 out of 125 trials (based on facility_number).\n"
     ]
    }
   ],
   "source": [
    "# Drop rows with missing supervisor or facility number\n",
    "subset = complete_data.dropna(subset=[\"Supervisor\", \"facility_number\"])\n",
    "\n",
    "# Count unique facility_numbers for supervisor 'person6'\n",
    "n_facilities_person6 = subset[subset[\"Supervisor\"] == \"person6\"][\"facility_number\"].nunique()\n",
    "n_facilities_person8 = subset[subset[\"Supervisor\"] == \"person8\"][\"facility_number\"].nunique()\n",
    "\n",
    "print(f\"Supervisor person6 was involved in {n_facilities_person6} out of 125 trials (based on facility_number).\")\n",
    "\n",
    "print(f\"Supervisor person8 was involved in {n_facilities_person8} out of 125 trials (based on facility_number).\")\n"
   ]
  },
  {
   "cell_type": "markdown",
   "metadata": {},
   "source": [
    "Among all supervisors, only person6 was associated with a statistically significant improvement in diagnostic accuracy. However, this finding must be interpreted with caution, because person6 was only present in 7 out of 125 total testing sessions, representing a small subset of the data."
   ]
  },
  {
   "cell_type": "code",
   "execution_count": 124,
   "metadata": {},
   "outputs": [],
   "source": [
    "# Extract coefficient estimates and confidence intervals\n",
    "coef_summary = gee_model.summary().tables[1].data[1:]  # Skip header\n",
    "coef_df = pd.DataFrame(coef_summary, columns=[\"Variable\", \"coef\", \"std err\", \"z\", \"P>|z|\", \"[0.025\", \"0.975]\"])\n",
    "# Drop rows with missing or empty variable names\n",
    "coef_df = coef_df[coef_df[\"Variable\"].notna() & (coef_df[\"Variable\"] != \"\")]\n"
   ]
  },
  {
   "cell_type": "code",
   "execution_count": 125,
   "metadata": {},
   "outputs": [],
   "source": [
    "# Convert numeric columns from string to float\n",
    "for col in [\"coef\", \"std err\", \"z\", \"P>|z|\", \"[0.025\", \"0.975]\"]:\n",
    "    coef_df[col] = pd.to_numeric(coef_df[col], errors=\"coerce\")"
   ]
  },
  {
   "cell_type": "code",
   "execution_count": 126,
   "metadata": {},
   "outputs": [],
   "source": [
    "# Exclude intercept for visualization (optional)\n",
    "coef_df = coef_df[coef_df[\"Variable\"] != \"Intercept\"]"
   ]
  },
  {
   "cell_type": "code",
   "execution_count": 127,
   "metadata": {},
   "outputs": [],
   "source": [
    "# Sort variables by effect size for better readability\n",
    "coef_df = coef_df.sort_values(\"coef\", ascending=False)"
   ]
  },
  {
   "cell_type": "code",
   "execution_count": 128,
   "metadata": {},
   "outputs": [
    {
     "data": {
      "text/plain": [
       "<Axes: xlabel='coef', ylabel='Variable'>"
      ]
     },
     "execution_count": 128,
     "metadata": {},
     "output_type": "execute_result"
    },
    {
     "name": "stderr",
     "output_type": "stream",
     "text": [
      "/Users/stevenschepanski/.pyenv/versions/3.11.3/lib/python3.11/site-packages/IPython/core/events.py:93: UserWarning: Glyph 127783 (\\N{CLOUD WITH RAIN}) missing from current font.\n",
      "  func(*args, **kwargs)\n",
      "/Users/stevenschepanski/.pyenv/versions/3.11.3/lib/python3.11/site-packages/IPython/core/events.py:93: UserWarning: Glyph 65039 (\\N{VARIATION SELECTOR-16}) missing from current font.\n",
      "  func(*args, **kwargs)\n",
      "/Users/stevenschepanski/.pyenv/versions/3.11.3/lib/python3.11/site-packages/IPython/core/events.py:93: UserWarning: Glyph 9925 (\\N{SUN BEHIND CLOUD}) missing from current font.\n",
      "  func(*args, **kwargs)\n",
      "/Users/stevenschepanski/.pyenv/versions/3.11.3/lib/python3.11/site-packages/IPython/core/pylabtools.py:152: UserWarning: Glyph 127783 (\\N{CLOUD WITH RAIN}) missing from current font.\n",
      "  fig.canvas.print_figure(bytes_io, **kw)\n",
      "/Users/stevenschepanski/.pyenv/versions/3.11.3/lib/python3.11/site-packages/IPython/core/pylabtools.py:152: UserWarning: Glyph 65039 (\\N{VARIATION SELECTOR-16}) missing from current font.\n",
      "  fig.canvas.print_figure(bytes_io, **kw)\n",
      "/Users/stevenschepanski/.pyenv/versions/3.11.3/lib/python3.11/site-packages/IPython/core/pylabtools.py:152: UserWarning: Glyph 9925 (\\N{SUN BEHIND CLOUD}) missing from current font.\n",
      "  fig.canvas.print_figure(bytes_io, **kw)\n"
     ]
    },
    {
     "data": {
      "image/png": "[encoded data removed]",
      "text/plain": [
       "<Figure size 800x600 with 1 Axes>"
      ]
     },
     "metadata": {},
     "output_type": "display_data"
    }
   ],
   "source": [
    "# Plot\n",
    "plt.figure(figsize=(8, 6))\n",
    "sns.pointplot(\n",
    "    data=coef_df,\n",
    "    y=\"Variable\",\n",
    "    x=\"coef\",\n",
    "    join=False,\n",
    "    color=\"black\",\n",
    "    errorbar=None\n",
    ")"
   ]
  },
  {
   "cell_type": "markdown",
   "metadata": {},
   "source": [
    "The plot visualizes the estimated log-odds coefficients from a generalized estimating equations (GEE) model predicting whether a dog correctly identified a mask (either a true positive or a true negative). Each point represents the effect of a predictor (relative to its reference category).\n",
    "\n",
    "1) Positive Effects (Improved Detection Accuracy)\n",
    "- C(Supervisor)[T.person10] and C(Supervisor)[T.person6] showed the strongest positive associations with detection success, suggesting that dogs performed more accurately when supervised by these individuals. This may reflect superior handling, consistent routines, or calmer interaction styles.\n",
    "- C(Dog_mood)[T.motiviert] was also associated with better performance, supporting the idea that a motivated, but not over-aroused, state enhances task focus and discrimination ability.\n",
    "- Moderate positive effects were observed for C(Supervisor)[T.person7], person3, and person9, though these appear smaller and should be interpreted cautiously without statistical significance markers.\n",
    "\n",
    "2) Neutral or Minimal Effects\n",
    "- Temperature and C(Supervisor)[T.person4] were centered near zero, suggesting no meaningful impact on detection accuracy within the observed ranges.\n",
    "- C(Weather)[T.🌧️ regnerisch] and C(Dog_mood)[T.übermotiviert] also showed little or no effect compared to their reference categories (sunny weather and balanced mood respectively).\n",
    "\n",
    "3) Negative Effects (Reduced Detection Accuracy)\n",
    "- C(Supervisor)[T.person8] and C(Supervisor)[T.person5] were associated with lower odds of correct detection, suggesting these supervisory contexts may impair performance, potentially due to inconsistency, stress transmission, or unclear guidance.\n",
    "- C(Weather)[T.⛅️ bewölkt] had the strongest negative effect, indicating that cloudy conditions were meaningfully associated with a reduced likelihood of correct detection. This is consistent with environmental disruptions in olfactory discrimination or dog attentiveness.\n"
   ]
  },
  {
   "cell_type": "code",
   "execution_count": 136,
   "metadata": {},
   "outputs": [],
   "source": [
    "# Sort by effect size (coefficient), descending → same as dot plot\n",
    "coef_df = coef_df.sort_values(\"coef\", ascending=False).reset_index(drop=True)\n",
    "coef_df = coef_df.iloc[::-1].reset_index(drop=True) "
   ]
  },
  {
   "cell_type": "code",
   "execution_count": 137,
   "metadata": {},
   "outputs": [
    {
     "name": "stderr",
     "output_type": "stream",
     "text": [
      "/var/folders/1j/rn9q783j7sjdszqsfc6_89sw0000gn/T/ipykernel_38449/3145613884.py:16: UserWarning: Glyph 9925 (\\N{SUN BEHIND CLOUD}) missing from current font.\n",
      "  plt.tight_layout()\n",
      "/var/folders/1j/rn9q783j7sjdszqsfc6_89sw0000gn/T/ipykernel_38449/3145613884.py:16: UserWarning: Glyph 65039 (\\N{VARIATION SELECTOR-16}) missing from current font.\n",
      "  plt.tight_layout()\n",
      "/var/folders/1j/rn9q783j7sjdszqsfc6_89sw0000gn/T/ipykernel_38449/3145613884.py:16: UserWarning: Glyph 127783 (\\N{CLOUD WITH RAIN}) missing from current font.\n",
      "  plt.tight_layout()\n"
     ]
    },
    {
     "data": {
      "image/png": "[encoded data removed]",
      "text/plain": [
       "<Figure size 1000x600 with 1 Axes>"
      ]
     },
     "metadata": {},
     "output_type": "display_data"
    }
   ],
   "source": [
    "# Plot confidence intervals (horizontal lines)\n",
    "for i, row in coef_df.iterrows():\n",
    "    plt.plot([row[\"[0.025\"], row[\"0.975]\"]], [i, i], color='gray', linewidth=1.5)\n",
    "\n",
    "# Y-axis labels: predictor names\n",
    "plt.yticks(ticks=range(len(coef_df)), labels=coef_df[\"Variable\"])\n",
    "\n",
    "# Reference line at log-odds = 0\n",
    "plt.axvline(0, color='red', linestyle='--', linewidth=1)\n",
    "\n",
    "# Plot labels and formatting\n",
    "plt.title(\"GEE Logistic Regression Coefficients\\n(95% Confidence Intervals)\")\n",
    "plt.xlabel(\"Log-Odds of Correct Detection\")\n",
    "plt.ylabel(\"Predictors\")\n",
    "plt.grid(axis='x', linestyle=':', alpha=0.5)\n",
    "plt.tight_layout()\n",
    "plt.show()"
   ]
  },
  {
   "cell_type": "markdown",
   "metadata": {},
   "source": [
    "This plot displays the estimated log-odds of correct scent-based detection (true positive or true negative) as a function of various predictors, with 95% confidence intervals. The red dashed vertical line at 0 indicates no effect. Predictors whose confidence intervals do not cross zero are considered statistically significant.\n",
    "\n",
    "1) Significant Predictors (CI excludes 0)\n",
    "- C(Supervisor)[T.person10] and C(Supervisor)[T.person6] were associated with significantly higher odds of correct detection compared to the reference supervisor. This implies that these individuals may be especially effective at guiding, motivating, or stabilizing dog performance.\n",
    "- C(Weather)[T.⛅️ bewölkt] (cloudy weather) had a significant negative effect, meaning detection accuracy was lower on overcast days compared to sunny days. This could reflect decreased focus, scent dispersal issues, or contextual arousal levels in less stable weather.\n",
    "\n",
    "2) Non-Significant but Directional Trends\n",
    "Several predictors showed effects whose confidence intervals crossed zero, indicating non-significance at the 95% level, but still suggesting possible trends:\n",
    "- C(Dog_mood)[T.motiviert] showed a positive association, indicating that dogs rated as motivated (vs. \"ausgeglichen\") tended to perform better. Although not statistically significant, this supports the idea of optimal arousal enhancing detection.\n",
    "- Supervisors person7, person3, and person9 also had modest positive effects that may reflect handling consistency or dog-handler rapport.\n",
    "- C(Supervisor)[T.person8] and C(Supervisor)[T.person5] trended negatively, possibly indicating that supervision by these individuals was associated with reduced performance — although these effects did not reach significance and could reflect noise or unmeasured confounding.\n",
    "\n",
    "3) Neutral Predictors\n",
    "- Temperature and rainy weather (C(Weather)[T.regnerisch]) had effects close to zero, with wide confidence intervals, suggesting no systematic influence on detection performance in this dataset.\n",
    "- C(Dog_mood)[T.übermotiviert] (overmotivated mood) showed no meaningful effect, supporting that excessive arousal may not enhance or impair accuracy consistently.\n",
    "\n",
    "This plot reinforces the importance of supervisor behavior and environmental context, particularly cloudy weather, as influential factors in scent-based cancer detection. While most other predictors do not reach statistical significance, some show plausible directional trends and may warrant further investigation with larger sample sizes or targeted designs."
   ]
  },
  {
   "cell_type": "markdown",
   "metadata": {},
   "source": [
    "## Goal 3: Exploratory Sensitivity Analysis: What if fewer dogs were involved?"
   ]
  },
  {
   "cell_type": "code",
   "execution_count": 179,
   "metadata": {},
   "outputs": [],
   "source": [
    "# Build mask × dog vote matrix using diagnostic_outcome\n",
    "mask_data = complete_data.copy()\n",
    "mask_data[\"mask_id\"] = mask_data[\"facility_number\"].astype(str) + \"_\" + mask_data[\"board_number\"].astype(str)"
   ]
  },
  {
   "cell_type": "code",
   "execution_count": 180,
   "metadata": {},
   "outputs": [],
   "source": [
    "# Keep only valid diagnostic outcomes\n",
    "valid = mask_data[\"diagnostic_outcome\"].isin([\"TP\", \"FP\", \"TN\", \"FN\"])\n",
    "mask_data = mask_data[valid].copy()"
   ]
  },
  {
   "cell_type": "code",
   "execution_count": 181,
   "metadata": {},
   "outputs": [],
   "source": [
    "# Binary label for cancer (positive mask) — based on TP/FN vs. FP/TN\n",
    "mask_data[\"is_cancer\"] = mask_data[\"diagnostic_outcome\"].isin([\"TP\", \"FN\"]).astype(int)"
   ]
  },
  {
   "cell_type": "code",
   "execution_count": 182,
   "metadata": {},
   "outputs": [],
   "source": [
    "# Create vote matrix: rows = mask_id, columns = dogs\n",
    "vote_matrix = mask_data.pivot_table(\n",
    "    index=\"mask_id\",\n",
    "    columns=\"Dog\",\n",
    "    values=\"diagnostic_outcome\",\n",
    "    aggfunc=\"first\"\n",
    ")"
   ]
  },
  {
   "cell_type": "code",
   "execution_count": 183,
   "metadata": {},
   "outputs": [],
   "source": [
    "# Convert outcomes to binary: TP/FP = 1 (dog marked mask), TN/FN = 0\n",
    "vote_matrix = vote_matrix.applymap(lambda x: 1 if x in [\"TP\", \"FP\"] else (0 if x in [\"TN\", \"FN\"] else np.nan))\n"
   ]
  },
  {
   "cell_type": "code",
   "execution_count": null,
   "metadata": {},
   "outputs": [],
   "source": [
    "# Add true label per mask\n",
    "true_labels = mask_data.drop_duplicates(\"mask_id\")[[\"mask_id\", \"is_cancer\"]].set_index(\"mask_id\")\n",
    "vote_matrix = vote_matrix.join(true_labels)"
   ]
  },
  {
   "cell_type": "code",
   "execution_count": 185,
   "metadata": {},
   "outputs": [],
   "source": [
    "import random\n",
    "from tqdm import tqdm"
   ]
  },
  {
   "cell_type": "code",
   "execution_count": 186,
   "metadata": {},
   "outputs": [],
   "source": [
    "# Function for simulation\n",
    "def run_simulation(vote_df, n_dogs, vote_cutoff, n_iterations=500):\n",
    "    dogs = [col for col in vote_df.columns if col != \"is_cancer\"]\n",
    "    results = []\n",
    "\n",
    "    for _ in tqdm(range(n_iterations)):\n",
    "        sampled_dogs = random.sample(dogs, n_dogs)\n",
    "\n",
    "        # Select dog votes\n",
    "        votes = vote_df[sampled_dogs].copy()\n",
    "\n",
    "        # Drop rows where fewer than n_dogs gave votes\n",
    "        valid_rows = votes.dropna().index\n",
    "        votes = votes.loc[valid_rows]\n",
    "\n",
    "        # Count votes and apply rule\n",
    "        pos_votes = votes.sum(axis=1)\n",
    "        predicted = (pos_votes >= vote_cutoff).astype(int)\n",
    "        true = vote_df.loc[valid_rows, \"is_cancer\"]\n",
    "\n",
    "        # Evaluate confusion matrix\n",
    "        tp = ((predicted == 1) & (true == 1)).sum()\n",
    "        fn = ((predicted == 0) & (true == 1)).sum()\n",
    "        fp = ((predicted == 1) & (true == 0)).sum()\n",
    "        tn = ((predicted == 0) & (true == 0)).sum()\n",
    "\n",
    "        # Compute metrics\n",
    "        sensitivity = tp / (tp + fn) if (tp + fn) > 0 else np.nan\n",
    "        specificity = tn / (tn + fp) if (tn + fp) > 0 else np.nan\n",
    "        accuracy = (tp + tn) / (tp + fn + fp + tn)\n",
    "\n",
    "        results.append({\n",
    "            \"sensitivity\": sensitivity,\n",
    "            \"specificity\": specificity,\n",
    "            \"accuracy\": accuracy,\n",
    "            \"tp\": tp,\n",
    "            \"fn\": fn,\n",
    "            \"fp\": fp,\n",
    "            \"tn\": tn,\n",
    "            \"n_dogs\": n_dogs,\n",
    "            \"vote_cutoff\": vote_cutoff\n",
    "        })\n",
    "\n",
    "    return pd.DataFrame(results)"
   ]
  },
  {
   "cell_type": "code",
   "execution_count": 190,
   "metadata": {},
   "outputs": [
    {
     "name": "stderr",
     "output_type": "stream",
     "text": [
      "100%|██████████| 10000/10000 [00:24<00:00, 408.98it/s]\n",
      "100%|██████████| 10000/10000 [00:25<00:00, 392.25it/s]\n",
      "100%|██████████| 10000/10000 [00:25<00:00, 386.86it/s]\n",
      "100%|██████████| 10000/10000 [00:28<00:00, 352.06it/s]\n"
     ]
    }
   ],
   "source": [
    "results_all = []\n",
    "\n",
    "settings = [\n",
    "    (2, 1),  # 1 of 2\n",
    "    (3, 2),  # 2 of 3\n",
    "    (4, 3),  # 3 of 4\n",
    "    (5, 3),  # original\n",
    "]\n",
    "\n",
    "for n_dogs, cutoff in settings:\n",
    "    df_result = run_simulation(vote_matrix, n_dogs, cutoff, n_iterations=10000)\n",
    "    df_result[\"setup\"] = f\"{n_dogs}_dogs_cutoff_{cutoff}\"\n",
    "    results_all.append(df_result)\n",
    "\n",
    "final_results = pd.concat(results_all)"
   ]
  },
  {
   "cell_type": "code",
   "execution_count": 192,
   "metadata": {},
   "outputs": [],
   "source": [
    "# Group by each setup (e.g., 2_dogs_cutoff_1, 3_dogs_cutoff_2, etc.)\n",
    "summary = final_results.groupby(\"setup\").agg(\n",
    "    Sensitivity_mean=(\"sensitivity\", \"mean\"),\n",
    "    Sensitivity_low=(\"sensitivity\", lambda x: x.quantile(0.025)),\n",
    "    Sensitivity_high=(\"sensitivity\", lambda x: x.quantile(0.975)),\n",
    "\n",
    "    Specificity_mean=(\"specificity\", \"mean\"),\n",
    "    Specificity_low=(\"specificity\", lambda x: x.quantile(0.025)),\n",
    "    Specificity_high=(\"specificity\", lambda x: x.quantile(0.975)),\n",
    "\n",
    "    Accuracy_mean=(\"accuracy\", \"mean\"),\n",
    "    Accuracy_low=(\"accuracy\", lambda x: x.quantile(0.025)),\n",
    "    Accuracy_high=(\"accuracy\", lambda x: x.quantile(0.975)),\n",
    "\n",
    "    n_evaluations=(\"setup\", \"count\")  # Number of bootstrap repetitions\n",
    ").reset_index()\n",
    "\n",
    "# Round for cleaner display\n",
    "summary = summary.round(3)"
   ]
  },
  {
   "cell_type": "code",
   "execution_count": 193,
   "metadata": {},
   "outputs": [],
   "source": [
    "summary[\"Sensitivity\"] = summary.apply(lambda row: f\"{row['Sensitivity_mean']} ({row['Sensitivity_low']}-{row['Sensitivity_high']})\", axis=1)\n",
    "summary[\"Specificity\"] = summary.apply(lambda row: f\"{row['Specificity_mean']} ({row['Specificity_low']}-{row['Specificity_high']})\", axis=1)\n",
    "summary[\"Accuracy\"] = summary.apply(lambda row: f\"{row['Accuracy_mean']} ({row['Accuracy_low']}-{row['Accuracy_high']})\", axis=1)\n",
    "\n",
    "# Keep only clean columns for reporting\n",
    "report_table = summary[[\"setup\", \"Sensitivity\", \"Specificity\", \"Accuracy\", \"n_evaluations\"]]\n"
   ]
  },
  {
   "cell_type": "code",
   "execution_count": 195,
   "metadata": {},
   "outputs": [
    {
     "name": "stdout",
     "output_type": "stream",
     "text": [
      "Simulation Results Summary:\n",
      "\n"
     ]
    },
    {
     "data": {
      "text/html": [
       "<div>\n",
       "<style scoped>\n",
       "    .dataframe tbody tr th:only-of-type {\n",
       "        vertical-align: middle;\n",
       "    }\n",
       "\n",
       "    .dataframe tbody tr th {\n",
       "        vertical-align: top;\n",
       "    }\n",
       "\n",
       "    .dataframe thead th {\n",
       "        text-align: right;\n",
       "    }\n",
       "</style>\n",
       "<table border=\"1\" class=\"dataframe\">\n",
       "  <thead>\n",
       "    <tr style=\"text-align: right;\">\n",
       "      <th></th>\n",
       "      <th>setup</th>\n",
       "      <th>Sensitivity</th>\n",
       "      <th>Specificity</th>\n",
       "      <th>Accuracy</th>\n",
       "      <th>n_evaluations</th>\n",
       "    </tr>\n",
       "  </thead>\n",
       "  <tbody>\n",
       "    <tr>\n",
       "      <th>0</th>\n",
       "      <td>2_dogs_cutoff_1</td>\n",
       "      <td>0.994 (0.99-0.997)</td>\n",
       "      <td>0.995 (0.995-0.996)</td>\n",
       "      <td>0.995 (0.995-0.996)</td>\n",
       "      <td>10000</td>\n",
       "    </tr>\n",
       "    <tr>\n",
       "      <th>1</th>\n",
       "      <td>3_dogs_cutoff_2</td>\n",
       "      <td>0.99 (0.986-0.995)</td>\n",
       "      <td>1.0 (1.0-1.0)</td>\n",
       "      <td>0.999 (0.999-1.0)</td>\n",
       "      <td>10000</td>\n",
       "    </tr>\n",
       "    <tr>\n",
       "      <th>2</th>\n",
       "      <td>4_dogs_cutoff_3</td>\n",
       "      <td>0.985 (0.981-0.99)</td>\n",
       "      <td>1.0 (1.0-1.0)</td>\n",
       "      <td>0.999 (0.999-0.999)</td>\n",
       "      <td>10000</td>\n",
       "    </tr>\n",
       "    <tr>\n",
       "      <th>3</th>\n",
       "      <td>5_dogs_cutoff_3</td>\n",
       "      <td>0.992 (0.992-0.992)</td>\n",
       "      <td>1.0 (1.0-1.0)</td>\n",
       "      <td>1.0 (1.0-1.0)</td>\n",
       "      <td>10000</td>\n",
       "    </tr>\n",
       "  </tbody>\n",
       "</table>\n",
       "</div>"
      ],
      "text/plain": [
       "             setup          Sensitivity          Specificity   \n",
       "0  2_dogs_cutoff_1   0.994 (0.99-0.997)  0.995 (0.995-0.996)  \\\n",
       "1  3_dogs_cutoff_2   0.99 (0.986-0.995)        1.0 (1.0-1.0)   \n",
       "2  4_dogs_cutoff_3   0.985 (0.981-0.99)        1.0 (1.0-1.0)   \n",
       "3  5_dogs_cutoff_3  0.992 (0.992-0.992)        1.0 (1.0-1.0)   \n",
       "\n",
       "              Accuracy  n_evaluations  \n",
       "0  0.995 (0.995-0.996)          10000  \n",
       "1    0.999 (0.999-1.0)          10000  \n",
       "2  0.999 (0.999-0.999)          10000  \n",
       "3        1.0 (1.0-1.0)          10000  "
      ]
     },
     "execution_count": 195,
     "metadata": {},
     "output_type": "execute_result"
    }
   ],
   "source": [
    "print(\"Simulation Results Summary:\\n\")\n",
    "report_table"
   ]
  }
 ],
 "metadata": {
  "kernelspec": {
   "display_name": "Python 3",
   "language": "python",
   "name": "python3"
  },
  "language_info": {
   "codemirror_mode": {
    "name": "ipython",
    "version": 3
   },
   "file_extension": ".py",
   "mimetype": "text/x-python",
   "name": "python",
   "nbconvert_exporter": "python",
   "pygments_lexer": "ipython3",
   "version": "3.11.3"
  }
 },
 "nbformat": 4,
 "nbformat_minor": 2
}
